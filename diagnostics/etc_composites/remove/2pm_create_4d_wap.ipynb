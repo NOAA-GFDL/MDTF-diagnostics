{
 "cells": [
  {
   "cell_type": "markdown",
   "metadata": {},
   "source": [
    "# Notes\n",
    "\n",
    "for the leoc96, I have to provide the left most values as the lon cordinates, instead of the center point, because if not it causes a crash \n",
    "for the gfdl (2pm) data we have to check this\n",
    "\n",
    "Do I have to do this for all model data? \n",
    "If so, I might have to hard fix the crash that occurs when plotting using basemap. "
   ]
  },
  {
   "cell_type": "code",
   "execution_count": 2,
   "metadata": {},
   "outputs": [],
   "source": [
    "import numpy as np \n",
    "import xarray as xr \n",
    "import matplotlib.pyplot as plt \n",
    "import cartopy\n",
    "import os\n",
    "import pandas as pd\n",
    "import cftime\n",
    "import datetime as dt\n",
    "import tqdm\n",
    "import netCDF4 as nc\n",
    "\n",
    "import os \n",
    "import glob"
   ]
  },
  {
   "cell_type": "code",
   "execution_count": 26,
   "metadata": {},
   "outputs": [
    {
     "name": "stdout",
     "output_type": "stream",
     "text": [
      "True\n"
     ]
    }
   ],
   "source": [
    "# reading in LEOC96 data\n",
    "in_folder = '/mnt/drive3/gfdl/6HRLY/SURF/'\n",
    "\n",
    "var = 'wap'\n",
    "var_map = {'wap': 'wap'}\n",
    "var_long_name = {'wap': 'Vertical Velocity'}\n",
    "# var_sn = {'w500': 'lagrangian_tendency_of_air_pressure_500'}\n",
    "var_sn = {'wap': 'lagrangian_tendency_of_air_pressure'}\n",
    "var_units = {'wap': 'Pa/s'}\n",
    "out_var_map = {'wap': 'omega'}\n",
    "\n",
    "var_scale = {'wap': 1.} \n",
    "\n",
    "in_file = f'/mnt/drive3/gfdl/6HRLY/KLEV/atmos.2008010100-2012123123.{var_map[var]}.nc'\n",
    "print(os.path.exists(in_file))"
   ]
  },
  {
   "cell_type": "code",
   "execution_count": 16,
   "metadata": {},
   "outputs": [
    {
     "name": "stdout",
     "output_type": "stream",
     "text": [
      "(32, 180, 288)\n",
      "CPU times: user 139 ms, sys: 7.87 ms, total: 147 ms\n",
      "Wall time: 145 ms\n"
     ]
    }
   ],
   "source": [
    "%%time\n",
    "ds = xr.open_dataset(in_file)\n",
    "lat_dim = ds.lat.size\n",
    "lon_dim = ds.lon.size\n",
    "dims = ds[var_map[var]].shape[1:]\n",
    "print(dims)\n",
    "ds.close()"
   ]
  },
  {
   "cell_type": "code",
   "execution_count": 17,
   "metadata": {},
   "outputs": [
    {
     "name": "stdout",
     "output_type": "stream",
     "text": [
      "<xarray.Variable (time: 7308, pfull: 32, lat: 180, lon: 288)>\n",
      "[12123095040 values with dtype=float32]\n",
      "Attributes:\n",
      "    long_name:      omega\n",
      "    units:          Pa/s\n",
      "    cell_methods:   time: point\n",
      "    interp_method:  conserve_order2\n",
      "<xarray.DataArray 'phalf' (phalf: 33)>\n",
      "array([   1.      ,    4.      ,    8.186021,   13.788865,   20.917952,\n",
      "         29.836408,   41.217896,   55.792215,   74.201906,   97.047864,\n",
      "        124.966648,  158.549553,  198.396959,  245.027221,  298.888576,\n",
      "        360.040179,  427.458025,  498.243573,  568.220535,  633.836047,\n",
      "        693.266329,  745.991986,  792.097373,  831.921945,  865.977814,\n",
      "        894.872525,  919.22792 ,  939.635932,  956.672132,  970.827661,\n",
      "        982.570665,  992.23    , 1000.      ])\n",
      "Coordinates:\n",
      "  * phalf    (phalf) float64 1.0 4.0 8.186 13.79 ... 970.8 982.6 992.2 1e+03\n",
      "Attributes:\n",
      "    long_name:       ref half pressure level\n",
      "    units:           mb\n",
      "    cartesian_axis:  Z\n",
      "    positive:        down\n"
     ]
    }
   ],
   "source": [
    "print(ds.variables[var_map[var]])\n",
    "print(ds.phalf)"
   ]
  },
  {
   "cell_type": "code",
   "execution_count": 18,
   "metadata": {},
   "outputs": [],
   "source": [
    "in_lat = ds['lat'].values\n",
    "in_lon = ds['lon'].values\n",
    "in_var = ds[var_map[var]]"
   ]
  },
  {
   "cell_type": "code",
   "execution_count": 19,
   "metadata": {},
   "outputs": [
    {
     "name": "stdout",
     "output_type": "stream",
     "text": [
      "7300\n"
     ]
    }
   ],
   "source": [
    "year_range = [2008, 2012]\n",
    "\n",
    "time_start_year = 1975\n",
    "\n",
    "# must include the end year, so have to add one \n",
    "num_years = year_range[1] - year_range[0] + 1\n",
    "\n",
    "# creating the output arrays\n",
    "out_time_bnds = np.zeros((1460*num_years, 2))\n",
    "\n",
    "# time variable for all the years\n",
    "in_time = np.arange(0, num_years*365, .25) + (year_range[0] - time_start_year)*365 \n",
    "print(len(in_time))"
   ]
  },
  {
   "cell_type": "code",
   "execution_count": 30,
   "metadata": {},
   "outputs": [
    {
     "name": "stderr",
     "output_type": "stream",
     "text": [
      "/home/jj/anaconda3/envs/mcms/lib/python3.6/site-packages/ipykernel_launcher.py:4: TqdmDeprecationWarning: This function will be removed in tqdm==5.0.0\n",
      "Please use `tqdm.notebook.tqdm` instead of `tqdm.tqdm_notebook`\n",
      "  after removing the cwd from sys.path.\n"
     ]
    },
    {
     "data": {
      "application/vnd.jupyter.widget-view+json": {
       "model_id": "18c426eb24ab42f28777dc7b177f00d6",
       "version_major": 2,
       "version_minor": 0
      },
      "text/plain": [
       "HBox(children=(FloatProgress(value=0.0, max=7300.0), HTML(value='')))"
      ]
     },
     "metadata": {},
     "output_type": "display_data"
    },
    {
     "name": "stdout",
     "output_type": "stream",
     "text": [
      "\n",
      "CPU times: user 4min 22s, sys: 27.2 s, total: 4min 50s\n",
      "Wall time: 4min 48s\n"
     ]
    }
   ],
   "source": [
    "%%time\n",
    "# convert the in_var to one single level \n",
    "# selecting only the first 1460 to match the model output which is of a 365 year calendar\n",
    "out_data = np.empty((len(in_time), 2, in_var.shape[2], in_var.shape[3]))\n",
    "for tstep in tqdm.tqdm_notebook(range(len(in_time)), total=len(in_time)):\n",
    "    tmp = in_var.isel(time=tstep).interp(pfull=500, method='linear', assume_sorted=True, kwargs={'fill_value': 'extrapolate'})\n",
    "    out_data[tstep, 0, :, :] = tmp\n"
   ]
  },
  {
   "cell_type": "code",
   "execution_count": 31,
   "metadata": {},
   "outputs": [],
   "source": [
    "# # selecting only the first 1460 to match the model output which is of a 365 year calendar\n",
    "# in_var = in_var.isel(time=range(len(in_time))).values"
   ]
  },
  {
   "cell_type": "code",
   "execution_count": 39,
   "metadata": {},
   "outputs": [],
   "source": [
    "out_var = np.array(out_data, dtype=np.float32)\n",
    "out_time = in_time"
   ]
  },
  {
   "cell_type": "code",
   "execution_count": 40,
   "metadata": {},
   "outputs": [
    {
     "name": "stdout",
     "output_type": "stream",
     "text": [
      "(7300, 2) (180,) (288,) (7300, 2, 180, 288) (7300,)\n"
     ]
    }
   ],
   "source": [
    "lon = np.copy(in_lon)\n",
    "dlon = lon[1] - lon[0]\n",
    "out_lon = np.round(lon - dlon/2., decimals=2)\n",
    "\n",
    "lat = np.copy(in_lat)\n",
    "dlat = lat[1] - lat[0]\n",
    "out_lat = np.round(lat - dlat/2., decimals=2)\n",
    "\n",
    "# getting the output time bounds\n",
    "out_time_bnds[:, 1] = out_time\n",
    "out_time_bnds[0, 0] = out_time[0]\n",
    "out_time_bnds[1:, 0] = out_time[:-1]\n",
    "\n",
    "print(out_time_bnds.shape, out_lat.shape, out_lon.shape, out_var.shape, out_time.shape)"
   ]
  },
  {
   "cell_type": "markdown",
   "metadata": {},
   "source": [
    "## Creating the date variable provided in model data"
   ]
  },
  {
   "cell_type": "code",
   "execution_count": 41,
   "metadata": {},
   "outputs": [
    {
     "name": "stderr",
     "output_type": "stream",
     "text": [
      "/home/jj/anaconda3/envs/mcms/lib/python3.6/site-packages/ipykernel_launcher.py:3: TqdmDeprecationWarning: This function will be removed in tqdm==5.0.0\n",
      "Please use `tqdm.notebook.tqdm` instead of `tqdm.tqdm_notebook`\n",
      "  This is separate from the ipykernel package so we can avoid doing imports until\n"
     ]
    },
    {
     "data": {
      "application/vnd.jupyter.widget-view+json": {
       "model_id": "fa6144873cd147779f4e6e0e3a29895b",
       "version_major": 2,
       "version_minor": 0
      },
      "text/plain": [
       "HBox(children=(FloatProgress(value=0.0, max=7300.0), HTML(value='')))"
      ]
     },
     "metadata": {},
     "output_type": "display_data"
    },
    {
     "name": "stdout",
     "output_type": "stream",
     "text": [
      "\n"
     ]
    }
   ],
   "source": [
    "# time_arr = [cftime.DatetimeNoLeap(time_start_year, 1, 1) + dt.timedelta(days=i) for i in tqdm.notebook.tqdm(out_time, total=len(out_time))]\n",
    "out_date = np.empty(out_time.shape, dtype=int)\n",
    "for i, i_time in tqdm.tqdm_notebook(enumerate(out_time), total=len(out_time)): \n",
    "    tmp = cftime.DatetimeNoLeap(time_start_year, 1, 1) + dt.timedelta(days=i_time)\n",
    "    out_date[i] = int('%04d%02d%02d'%(tmp.year, tmp.month, tmp.day))"
   ]
  },
  {
   "cell_type": "code",
   "execution_count": 42,
   "metadata": {},
   "outputs": [
    {
     "name": "stdout",
     "output_type": "stream",
     "text": [
      "[20080101 20080101 20080101 ... 20121231 20121231 20121231]\n"
     ]
    }
   ],
   "source": [
    "print(out_date)"
   ]
  },
  {
   "cell_type": "markdown",
   "metadata": {},
   "source": [
    "# Creating the model sample data for the SLP values"
   ]
  },
  {
   "cell_type": "code",
   "execution_count": 43,
   "metadata": {},
   "outputs": [
    {
     "name": "stdout",
     "output_type": "stream",
     "text": [
      "/localdrive/drive10/jj/mdtf/inputdata/model/GFDL.EXP1.2PM.001/6hr/GFDL.EXP1.2PM.001.omega.6hr.nc\n"
     ]
    }
   ],
   "source": [
    "# write the output as netcdf file \n",
    "\n",
    "# out_file = '/localdrive/drive10/jj/mdtf/inputdata/model/QBOi.EXP1.AMIP.001/6hr/QBOi.EXP1.AMIP.001.SLP.6hr.nc'\n",
    "# out_file = '/localdrive/drive10/jj/mdtf/inputdata/model/GFDL.EXP1.2PM.001/6hr/GFDL.EXP1.2PM.001.SLP.6hr.nc'\n",
    "\n",
    "# out_file = '/localdrive/drive10/jj/mdtf/inputdata/model/GFDL.EXP1.2PM.001/6hr/GFDL.EXP1.2PM.001.SLP.6hr.nc'\n",
    "out_file = f'/localdrive/drive10/jj/mdtf/inputdata/model/GFDL.EXP1.2PM.001/6hr/GFDL.EXP1.2PM.001.{out_var_map[var]}.6hr.nc'\n",
    "print(out_file)\n",
    "\n",
    "# # Format of the PRECT variable for 3hr is as follows: \n",
    "# 1. time - noleap, days since 1975-01-01 00:00:00\n",
    "# 2. date - current date\n",
    "# 3. lat - latitude\n",
    "# 4. lon - longitude\n",
    "# 5. time_bnds - time interval endpoints\n",
    "# 6. SLP - mba, long_name, cell_methods: \"time:mean\"\n",
    "\n",
    "out_ds = xr.Dataset({\n",
    "        'time_bnds': (('time', 'nbnd'), out_time_bnds), \n",
    "        'date': (('time'), out_date),\n",
    "        out_var_map[var]: (('time', 'lev', 'lat', 'lon'), out_var), \n",
    "    }, \n",
    "    coords={\n",
    "        'time': out_time, \n",
    "        'lat': out_lat, \n",
    "        'lon': out_lon,\n",
    "        'lev': [500, 600],\n",
    "        'nbnd': [1, 2]\n",
    "    },\n",
    "    )\n",
    "\n",
    "# lon attribs\n",
    "out_ds.lon.attrs['long_name'] = 'longitude'\n",
    "out_ds.lon.attrs['units'] = 'degrees_east'\n",
    "\n",
    "# lat attribs\n",
    "out_ds.lat.attrs['long_name'] = 'latitude'\n",
    "out_ds.lat.attrs['units'] = 'degrees_north'\n",
    "\n",
    "# time attribs\n",
    "out_ds.time.attrs['long_name'] = 'time'\n",
    "out_ds.time.attrs['units'] = 'days since 1975-01-01 00:00:00'\n",
    "out_ds.time.attrs['calendar'] = 'noleap'\n",
    "out_ds.time.attrs['bounds'] = 'time_bnds'\n",
    "\n",
    "# time_bnds attribs\n",
    "out_ds.time_bnds.attrs['long_name'] = 'time interval endpoints'\n",
    "\n",
    "# date attribs\n",
    "out_ds.date.attrs['long_name'] = 'current date (YYYYMMDD)'\n",
    "\n",
    "# level attribs\n",
    "out_ds.lev.attrs['standard_name'] = 'air_pressure'\n",
    "out_ds.lev.attrs['units'] = 'hPa'\n",
    "\n",
    "# slp attribs\n",
    "out_ds[out_var_map[var]].attrs['standard_name'] = var_sn[var]\n",
    "out_ds[out_var_map[var]].attrs['long_name'] = var_long_name[var]\n",
    "out_ds[out_var_map[var]].attrs['units'] = var_units[var]"
   ]
  },
  {
   "cell_type": "code",
   "execution_count": 44,
   "metadata": {},
   "outputs": [
    {
     "name": "stdout",
     "output_type": "stream",
     "text": [
      "<xarray.Dataset>\n",
      "Dimensions:    (lat: 180, lev: 2, lon: 288, nbnd: 2, time: 7300)\n",
      "Coordinates:\n",
      "  * time       (time) float64 1.204e+04 1.205e+04 ... 1.387e+04 1.387e+04\n",
      "  * lat        (lat) float64 -90.0 -89.0 -88.0 -87.0 ... 86.0 87.0 88.0 89.0\n",
      "  * lon        (lon) float64 0.0 1.25 2.5 3.75 5.0 ... 355.0 356.2 357.5 358.8\n",
      "  * lev        (lev) int64 500 600\n",
      "  * nbnd       (nbnd) int64 1 2\n",
      "Data variables:\n",
      "    time_bnds  (time, nbnd) float64 1.204e+04 1.204e+04 ... 1.387e+04 1.387e+04\n",
      "    date       (time) int64 20080101 20080101 20080101 ... 20121231 20121231\n",
      "    omega      (time, lev, lat, lon) float32 0.032823667 0.032562207 ... 0.0 0.0\n"
     ]
    }
   ],
   "source": [
    "print(out_ds)"
   ]
  },
  {
   "cell_type": "code",
   "execution_count": 45,
   "metadata": {},
   "outputs": [],
   "source": [
    "# actually writing the output file\n",
    "out_ds.to_netcdf(out_file)"
   ]
  },
  {
   "cell_type": "code",
   "execution_count": 39,
   "metadata": {},
   "outputs": [
    {
     "name": "stdout",
     "output_type": "stream",
     "text": [
      "<xarray.Dataset>\n",
      "Dimensions:    (lat: 180, lon: 288, nbnd: 2, time: 7300)\n",
      "Coordinates:\n",
      "  * time       (time) float64 1.204e+04 1.205e+04 ... 1.387e+04 1.387e+04\n",
      "  * lat        (lat) float64 -90.0 -89.0 -88.0 -87.0 ... 86.0 87.0 88.0 89.0\n",
      "  * lon        (lon) float64 0.0 1.25 2.5 3.75 5.0 ... 355.0 356.2 357.5 358.8\n",
      "  * nbnd       (nbnd) int64 1 2\n",
      "Data variables:\n",
      "    time_bnds  (time, nbnd) float64 1.204e+04 1.204e+04 ... 1.387e+04 1.387e+04\n",
      "    date       (time) int64 20080101 20080101 20080101 ... 20121231 20121231\n",
      "    wap500     (time, lat, lon) float32 0.032823667 0.032562207 ... 0.026827004\n"
     ]
    }
   ],
   "source": [
    "print(out_ds)"
   ]
  },
  {
   "cell_type": "code",
   "execution_count": 42,
   "metadata": {},
   "outputs": [
    {
     "name": "stdout",
     "output_type": "stream",
     "text": [
      "<xarray.DataArray 'lat' (lat: 180)>\n",
      "array([-90., -89., -88., -87., -86., -85., -84., -83., -82., -81., -80., -79.,\n",
      "       -78., -77., -76., -75., -74., -73., -72., -71., -70., -69., -68., -67.,\n",
      "       -66., -65., -64., -63., -62., -61., -60., -59., -58., -57., -56., -55.,\n",
      "       -54., -53., -52., -51., -50., -49., -48., -47., -46., -45., -44., -43.,\n",
      "       -42., -41., -40., -39., -38., -37., -36., -35., -34., -33., -32., -31.,\n",
      "       -30., -29., -28., -27., -26., -25., -24., -23., -22., -21., -20., -19.,\n",
      "       -18., -17., -16., -15., -14., -13., -12., -11., -10.,  -9.,  -8.,  -7.,\n",
      "        -6.,  -5.,  -4.,  -3.,  -2.,  -1.,   0.,   1.,   2.,   3.,   4.,   5.,\n",
      "         6.,   7.,   8.,   9.,  10.,  11.,  12.,  13.,  14.,  15.,  16.,  17.,\n",
      "        18.,  19.,  20.,  21.,  22.,  23.,  24.,  25.,  26.,  27.,  28.,  29.,\n",
      "        30.,  31.,  32.,  33.,  34.,  35.,  36.,  37.,  38.,  39.,  40.,  41.,\n",
      "        42.,  43.,  44.,  45.,  46.,  47.,  48.,  49.,  50.,  51.,  52.,  53.,\n",
      "        54.,  55.,  56.,  57.,  58.,  59.,  60.,  61.,  62.,  63.,  64.,  65.,\n",
      "        66.,  67.,  68.,  69.,  70.,  71.,  72.,  73.,  74.,  75.,  76.,  77.,\n",
      "        78.,  79.,  80.,  81.,  82.,  83.,  84.,  85.,  86.,  87.,  88.,  89.])\n",
      "Coordinates:\n",
      "  * lat      (lat) float64 -90.0 -89.0 -88.0 -87.0 -86.0 ... 86.0 87.0 88.0 89.0\n",
      "Attributes:\n",
      "    long_name:  latitude\n",
      "    units:      degrees_north\n",
      "\n",
      "---------------\n",
      "\n",
      "<xarray.DataArray 'lon' (lon: 288)>\n",
      "array([  0.  ,   1.25,   2.5 , ..., 356.25, 357.5 , 358.75])\n",
      "Coordinates:\n",
      "  * lon      (lon) float64 0.0 1.25 2.5 3.75 5.0 ... 355.0 356.2 357.5 358.8\n",
      "Attributes:\n",
      "    long_name:  longitude\n",
      "    units:      degrees_east\n",
      "\n",
      "---------------\n",
      "\n",
      "<xarray.DataArray 'time' (time: 7300)>\n",
      "array([12045.  , 12045.25, 12045.5 , ..., 13869.25, 13869.5 , 13869.75])\n",
      "Coordinates:\n",
      "  * time     (time) float64 1.204e+04 1.205e+04 ... 1.387e+04 1.387e+04\n",
      "Attributes:\n",
      "    long_name:  time\n",
      "    units:      days since 1975-01-01 00:00:00\n",
      "    calendar:   noleap\n",
      "    bounds:     time_bnds\n",
      "\n",
      "---------------\n",
      "\n",
      "<xarray.DataArray 'nbnd' (nbnd: 2)>\n",
      "array([1, 2])\n",
      "Coordinates:\n",
      "  * nbnd     (nbnd) int64 1 2\n",
      "\n",
      "---------------\n",
      "\n",
      "<xarray.DataArray 'time_bnds' (time: 7300, nbnd: 2)>\n",
      "array([[12045.  , 12045.  ],\n",
      "       [12045.  , 12045.25],\n",
      "       [12045.25, 12045.5 ],\n",
      "       ...,\n",
      "       [13869.  , 13869.25],\n",
      "       [13869.25, 13869.5 ],\n",
      "       [13869.5 , 13869.75]])\n",
      "Coordinates:\n",
      "  * time     (time) float64 1.204e+04 1.205e+04 ... 1.387e+04 1.387e+04\n",
      "  * nbnd     (nbnd) int64 1 2\n",
      "Attributes:\n",
      "    long_name:  time interval endpoints\n",
      "\n",
      "---------------\n",
      "\n",
      "<xarray.DataArray 'date' (time: 7300)>\n",
      "array([20080101, 20080101, 20080101, ..., 20121231, 20121231, 20121231])\n",
      "Coordinates:\n",
      "  * time     (time) float64 1.204e+04 1.205e+04 ... 1.387e+04 1.387e+04\n",
      "Attributes:\n",
      "    long_name:  current date (YYYYMMDD)\n",
      "\n",
      "---------------\n",
      "\n",
      "<xarray.DataArray 'wap500' (time: 7300, lat: 180, lon: 288)>\n",
      "array([[[ 0.03282367,  0.03256221,  0.03230075, ...,  0.03360804,\n",
      "          0.03334658,  0.03308512],\n",
      "        [ 0.03563363,  0.03507543,  0.03451946, ...,  0.03732134,\n",
      "          0.03675663,  0.03619405],\n",
      "        [ 0.0246815 ,  0.02379261,  0.02290429, ...,  0.02735162,\n",
      "          0.02646101,  0.02557097],\n",
      "        ...,\n",
      "        [ 0.04383045,  0.04296517,  0.04210301, ...,  0.0464443 ,\n",
      "          0.04557008,  0.04469877],\n",
      "        [-0.00530108, -0.00559012, -0.00587897, ..., -0.00443319,\n",
      "         -0.00472259, -0.0050119 ],\n",
      "        [-0.02704455, -0.027094  , -0.02714345, ..., -0.02689618,\n",
      "         -0.02694564, -0.02699509]],\n",
      "\n",
      "       [[ 0.03596248,  0.03581285,  0.03566322, ...,  0.03641137,\n",
      "          0.03626174,  0.03611211],\n",
      "        [ 0.02732362,  0.02692544,  0.02653167, ...,  0.02854371,\n",
      "          0.02813285,  0.02772612],\n",
      "        [ 0.02334092,  0.02235831,  0.02137832, ...,  0.026304  ,\n",
      "          0.0253138 ,  0.0243261 ],\n",
      "        ...,\n",
      "        [-0.01585873, -0.01586334, -0.01586182, ..., -0.01580907,\n",
      "         -0.0158315 , -0.01584809],\n",
      "        [-0.02279382, -0.02262319, -0.02245291, ..., -0.02330774,\n",
      "         -0.02313611, -0.0229648 ],\n",
      "        [-0.03199043, -0.0319334 , -0.03187637, ..., -0.03216153,\n",
      "         -0.0321045 , -0.03204746]],\n",
      "\n",
      "       [[ 0.05015646,  0.0498988 ,  0.04964113, ...,  0.05092946,\n",
      "          0.05067179,  0.05041413],\n",
      "        [ 0.0440017 ,  0.04356809,  0.04313624, ...,  0.04531307,\n",
      "          0.0448742 ,  0.04443707],\n",
      "        [ 0.03443797,  0.03367452,  0.03291018, ...,  0.0367231 ,\n",
      "          0.03596225,  0.03520054],\n",
      "        ...,\n",
      "        [-0.02996466, -0.02989924, -0.02983414, ..., -0.03016273,\n",
      "         -0.03009642, -0.03003039],\n",
      "        [-0.02482629, -0.0248624 , -0.02489874, ..., -0.02471913,\n",
      "         -0.02475468, -0.02479039],\n",
      "        [-0.03215532, -0.0322293 , -0.03230328, ..., -0.03193339,\n",
      "         -0.03200737, -0.03208135]],\n",
      "\n",
      "       ...,\n",
      "\n",
      "       [[-0.00257449, -0.00247585, -0.00237721, ..., -0.0028704 ,\n",
      "         -0.00277176, -0.00267313],\n",
      "        [ 0.0038147 ,  0.00385377,  0.00389433, ...,  0.00370582,\n",
      "          0.00374079,  0.00377706],\n",
      "        [ 0.01686883,  0.01665199,  0.01643958, ...,  0.01754518,\n",
      "          0.0173155 ,  0.01709002],\n",
      "        ...,\n",
      "        [ 0.01922914,  0.01844183,  0.01765735, ...,  0.02160753,\n",
      "          0.02081203,  0.02001922],\n",
      "        [ 0.01741727,  0.01704811,  0.01668203, ...,  0.01854212,\n",
      "          0.01816438,  0.01778939],\n",
      "        [ 0.02045065,  0.02041624,  0.02038183, ...,  0.02055388,\n",
      "          0.02051947,  0.02048506]],\n",
      "\n",
      "       [[-0.00632397, -0.00625519, -0.00618641, ..., -0.0065303 ,\n",
      "         -0.00646152, -0.00639275],\n",
      "        [-0.00138701, -0.00117046, -0.00095445, ..., -0.00203961,\n",
      "         -0.0018216 , -0.00160406],\n",
      "        [ 0.00592912,  0.00598523,  0.00604673, ...,  0.00579219,\n",
      "          0.00583269,  0.0058783 ],\n",
      "        ...,\n",
      "        [ 0.02562693,  0.02527868,  0.02492629, ...,  0.02664744,\n",
      "          0.02631124,  0.02597109],\n",
      "        [ 0.02736483,  0.0269935 ,  0.02662204, ...,  0.02847798,\n",
      "          0.02810707,  0.02773602],\n",
      "        [ 0.02607987,  0.02592403,  0.02576818, ...,  0.0265474 ,\n",
      "          0.02639156,  0.02623572]],\n",
      "\n",
      "       [[-0.03270836, -0.03258613, -0.0324639 , ..., -0.03307505,\n",
      "         -0.03295282, -0.03283059],\n",
      "        [-0.02096136, -0.02077413, -0.02058832, ..., -0.02153132,\n",
      "         -0.02133996, -0.02114997],\n",
      "        [ 0.0110881 ,  0.01119766,  0.01130828, ...,  0.0107655 ,\n",
      "          0.01087205,  0.01097957],\n",
      "        ...,\n",
      "        [ 0.03062386,  0.03021318,  0.02980208, ...,  0.0318534 ,\n",
      "          0.03144397,  0.03103412],\n",
      "        [ 0.02545302,  0.02522396,  0.02499485, ...,  0.02613978,\n",
      "          0.02591094,  0.02568202],\n",
      "        [ 0.02675545,  0.0266839 ,  0.02661235, ...,  0.02697011,\n",
      "          0.02689855,  0.026827  ]]], dtype=float32)\n",
      "Coordinates:\n",
      "  * time     (time) float64 1.204e+04 1.205e+04 ... 1.387e+04 1.387e+04\n",
      "  * lat      (lat) float64 -90.0 -89.0 -88.0 -87.0 -86.0 ... 86.0 87.0 88.0 89.0\n",
      "  * lon      (lon) float64 0.0 1.25 2.5 3.75 5.0 ... 355.0 356.2 357.5 358.8\n",
      "Attributes:\n",
      "    standard_name:  custom_wap500\n",
      "    long_name:      Vertical Velocity\n",
      "    units:          Pa/s\n"
     ]
    }
   ],
   "source": [
    "print(out_ds.lat, out_ds.lon, out_ds.time, out_ds.nbnd, out_ds.time_bnds, out_ds.date, out_ds.wap500, sep='\\n\\n---------------\\n\\n')"
   ]
  },
  {
   "cell_type": "code",
   "execution_count": null,
   "metadata": {},
   "outputs": [],
   "source": []
  }
 ],
 "metadata": {
  "kernelspec": {
   "display_name": "Python [conda env:mcms] *",
   "language": "python",
   "name": "conda-env-mcms-py"
  },
  "language_info": {
   "codemirror_mode": {
    "name": "ipython",
    "version": 3
   },
   "file_extension": ".py",
   "mimetype": "text/x-python",
   "name": "python",
   "nbconvert_exporter": "python",
   "pygments_lexer": "ipython3",
   "version": "3.6.8"
  }
 },
 "nbformat": 4,
 "nbformat_minor": 4
}
