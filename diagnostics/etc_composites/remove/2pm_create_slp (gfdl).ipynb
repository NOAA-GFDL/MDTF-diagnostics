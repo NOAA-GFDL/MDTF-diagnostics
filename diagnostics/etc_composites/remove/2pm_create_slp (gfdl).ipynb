{
 "cells": [
  {
   "cell_type": "markdown",
   "metadata": {},
   "source": [
    "# Notes\n",
    "\n",
    "for the leoc96, I have to provide the left most values as the lon cordinates, instead of the center point, because if not it causes a crash \n",
    "for the gfdl (2pm) data we have to check this\n",
    "\n",
    "Do I have to do this for all model data? \n",
    "If so, I might have to hard fix the crash that occurs when plotting using basemap. "
   ]
  },
  {
   "cell_type": "code",
   "execution_count": 2,
   "metadata": {},
   "outputs": [],
   "source": [
    "import numpy as np \n",
    "import xarray as xr \n",
    "import matplotlib.pyplot as plt \n",
    "import cartopy\n",
    "import os\n",
    "import pandas as pd\n",
    "import cftime\n",
    "import datetime as dt\n",
    "import tqdm\n",
    "import netCDF4 as nc\n",
    "\n",
    "import os \n",
    "import glob"
   ]
  },
  {
   "cell_type": "code",
   "execution_count": 4,
   "metadata": {},
   "outputs": [
    {
     "name": "stdout",
     "output_type": "stream",
     "text": [
      "True\n"
     ]
    }
   ],
   "source": [
    "# reading in LEOC96 data\n",
    "in_folder = '/mnt/drive3/gfdl/6HRLY/SURF/'\n",
    "sample_file = '/mnt/drive3/gfdl/6HRLY/SURF/atmos.2008010100-2012123123.slp.nc'\n",
    "print(os.path.exists(sample_file))"
   ]
  },
  {
   "cell_type": "code",
   "execution_count": 5,
   "metadata": {},
   "outputs": [
    {
     "name": "stdout",
     "output_type": "stream",
     "text": [
      "(180, 288)\n"
     ]
    }
   ],
   "source": [
    "ds = xr.open_dataset(sample_file)\n",
    "lat_dim = ds.lat.size\n",
    "lon_dim = ds.lon.size\n",
    "dims = ds.slp.shape[1:]\n",
    "print(dims)"
   ]
  },
  {
   "cell_type": "code",
   "execution_count": 21,
   "metadata": {},
   "outputs": [],
   "source": [
    "in_lat = ds.variables['lat'].values\n",
    "in_lon = ds.variables['lon'].values\n",
    "in_slp = ds.variables['slp']"
   ]
  },
  {
   "cell_type": "code",
   "execution_count": null,
   "metadata": {},
   "outputs": [],
   "source": [
    "var = 'slp'\n",
    "year_range = [2008, 2012]\n",
    "\n",
    "time_start_year = 1975\n",
    "\n",
    "# must include the end year, so have to add one \n",
    "num_years = year_range[1] - year_range[0] + 1\n",
    "\n",
    "# creating the output arrays\n",
    "out_time_bnds = np.zeros((1460*num_years, 2))\n",
    "\n",
    "# time variable for all the years\n",
    "in_time = np.arange(0, num_years*365, .25) + (year_range[0] - time_start_year)*365 \n",
    "print(len(in_time))"
   ]
  },
  {
   "cell_type": "code",
   "execution_count": 22,
   "metadata": {},
   "outputs": [
    {
     "name": "stdout",
     "output_type": "stream",
     "text": [
      "7300\n"
     ]
    }
   ],
   "source": [
    "# selecting only the first 1460 to match the model output which is of a 365 year calendar\n",
    "in_slp = in_slp.isel(time=range(len(in_time))).values"
   ]
  },
  {
   "cell_type": "code",
   "execution_count": 35,
   "metadata": {},
   "outputs": [],
   "source": [
    "out_slp = in_slp\n",
    "out_time = in_time"
   ]
  },
  {
   "cell_type": "code",
   "execution_count": 36,
   "metadata": {},
   "outputs": [
    {
     "name": "stdout",
     "output_type": "stream",
     "text": [
      "(7300, 2) (180,) (288,) (7300, 180, 288)\n"
     ]
    }
   ],
   "source": [
    "lon = np.copy(in_lon)\n",
    "dlon = lon[1] - lon[0]\n",
    "out_lon = np.round(lon - dlon/2., decimals=2)\n",
    "\n",
    "lat = np.copy(in_lat)\n",
    "dlat = lat[1] - lat[0]\n",
    "out_lat = np.round(lat - dlat/2., decimals=2)\n",
    "\n",
    "# getting the output time bounds\n",
    "out_time_bnds[:, 1] = out_time\n",
    "out_time_bnds[0, 0] = out_time[0]\n",
    "out_time_bnds[1:, 0] = out_time[:-1]\n",
    "\n",
    "print(out_time_bnds.shape, out_lat.shape, out_lon.shape, out_slp.shape)"
   ]
  },
  {
   "cell_type": "markdown",
   "metadata": {},
   "source": [
    "## Creating the date variable provided in model data"
   ]
  },
  {
   "cell_type": "code",
   "execution_count": 37,
   "metadata": {},
   "outputs": [
    {
     "name": "stderr",
     "output_type": "stream",
     "text": [
      "/home/jj/anaconda3/envs/mcms/lib/python3.6/site-packages/ipykernel_launcher.py:3: TqdmDeprecationWarning: This function will be removed in tqdm==5.0.0\n",
      "Please use `tqdm.notebook.tqdm` instead of `tqdm.tqdm_notebook`\n",
      "  This is separate from the ipykernel package so we can avoid doing imports until\n"
     ]
    },
    {
     "data": {
      "application/vnd.jupyter.widget-view+json": {
       "model_id": "967c294fcb384021aeb682a13112993f",
       "version_major": 2,
       "version_minor": 0
      },
      "text/plain": [
       "HBox(children=(FloatProgress(value=0.0, max=7300.0), HTML(value='')))"
      ]
     },
     "metadata": {},
     "output_type": "display_data"
    },
    {
     "name": "stdout",
     "output_type": "stream",
     "text": [
      "\n"
     ]
    }
   ],
   "source": [
    "# time_arr = [cftime.DatetimeNoLeap(time_start_year, 1, 1) + dt.timedelta(days=i) for i in tqdm.notebook.tqdm(out_time, total=len(out_time))]\n",
    "out_date = np.empty(out_time.shape, dtype=int)\n",
    "for i, i_time in tqdm.tqdm_notebook(enumerate(out_time), total=len(out_time)): \n",
    "    tmp = cftime.DatetimeNoLeap(time_start_year, 1, 1) + dt.timedelta(days=i_time)\n",
    "    out_date[i] = int('%04d%02d%02d'%(tmp.year, tmp.month, tmp.day))"
   ]
  },
  {
   "cell_type": "code",
   "execution_count": 38,
   "metadata": {},
   "outputs": [
    {
     "name": "stdout",
     "output_type": "stream",
     "text": [
      "[20080101 20080101 20080101 ... 20121231 20121231 20121231]\n"
     ]
    }
   ],
   "source": [
    "print(out_date)"
   ]
  },
  {
   "cell_type": "markdown",
   "metadata": {},
   "source": [
    "# Creating the model sample data for the SLP values"
   ]
  },
  {
   "cell_type": "code",
   "execution_count": 39,
   "metadata": {},
   "outputs": [],
   "source": [
    "# write the output as netcdf file \n",
    "\n",
    "# out_file = '/localdrive/drive10/jj/mdtf/inputdata/model/QBOi.EXP1.AMIP.001/6hr/QBOi.EXP1.AMIP.001.SLP.6hr.nc'\n",
    "out_file = '/localdrive/drive10/jj/mdtf/inputdata/model/GFDL.EXP1.2PM.001/6hr/GFDL.EXP1.2PM.001.SLP.6hr.nc'\n",
    "\n",
    "# # Format of the PRECT variable for 3hr is as follows: \n",
    "# 1. time - noleap, days since 1975-01-01 00:00:00\n",
    "# 2. date - current date\n",
    "# 3. lat - latitude\n",
    "# 4. lon - longitude\n",
    "# 5. time_bnds - time interval endpoints\n",
    "# 6. SLP - mba, long_name, cell_methods: \"time:mean\"\n",
    "\n",
    "out_ds = xr.Dataset({\n",
    "        'time_bnds': (('time', 'nbnd'), out_time_bnds), \n",
    "        'date': (('time'), out_date),\n",
    "        'SLP': (('time', 'lat', 'lon'), out_slp), \n",
    "    }, \n",
    "    coords={\n",
    "        'time': out_time, \n",
    "        'lat': out_lat, \n",
    "        'lon': out_lon,\n",
    "        'nbnd': [1, 2]\n",
    "    },\n",
    "    )\n",
    "\n",
    "# lon attribs\n",
    "out_ds.lon.attrs['long_name'] = 'longitude'\n",
    "out_ds.lon.attrs['units'] = 'degrees_east'\n",
    "\n",
    "# lat attribs\n",
    "out_ds.lat.attrs['long_name'] = 'latitude'\n",
    "out_ds.lat.attrs['units'] = 'degrees_north'\n",
    "\n",
    "# time attribs\n",
    "out_ds.time.attrs['long_name'] = 'time'\n",
    "out_ds.time.attrs['units'] = 'days since 1975-01-01 00:00:00'\n",
    "out_ds.time.attrs['calendar'] = 'noleap'\n",
    "out_ds.time.attrs['bounds'] = 'time_bnds'\n",
    "\n",
    "# time_bnds attribs\n",
    "out_ds.time_bnds.attrs['long_name'] = 'time interval endpoints'\n",
    "\n",
    "# date attribs\n",
    "out_ds.date.attrs['long_name'] = 'current date (YYYYMMDD)'\n",
    "\n",
    "# slp attribs\n",
    "out_ds.SLP.attrs['long_name'] = 'Sea Level Pressure'\n",
    "out_ds.SLP.attrs['units'] = 'mb'\n",
    "\n",
    "\n",
    "# actually writing the output file\n",
    "\n",
    "out_ds.to_netcdf(out_file)"
   ]
  },
  {
   "cell_type": "code",
   "execution_count": null,
   "metadata": {},
   "outputs": [],
   "source": []
  }
 ],
 "metadata": {
  "kernelspec": {
   "display_name": "Python [conda env:mcms] *",
   "language": "python",
   "name": "conda-env-mcms-py"
  },
  "language_info": {
   "codemirror_mode": {
    "name": "ipython",
    "version": 3
   },
   "file_extension": ".py",
   "mimetype": "text/x-python",
   "name": "python",
   "nbconvert_exporter": "python",
   "pygments_lexer": "ipython3",
   "version": "3.6.8"
  }
 },
 "nbformat": 4,
 "nbformat_minor": 4
}
