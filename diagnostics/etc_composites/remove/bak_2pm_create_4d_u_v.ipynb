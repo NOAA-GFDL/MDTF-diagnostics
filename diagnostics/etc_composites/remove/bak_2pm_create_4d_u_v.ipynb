{
 "cells": [
  {
   "cell_type": "code",
   "execution_count": 1,
   "metadata": {},
   "outputs": [],
   "source": [
    "import numpy as np \n",
    "import scipy.io as sio\n",
    "import matplotlib.pyplot as plt\n",
    "import xarray as xr\n",
    "import os\n",
    "import cftime\n",
    "import datetime as dt\n",
    "\n",
    "\n",
    "from tqdm import tqdm, notebook"
   ]
  },
  {
   "cell_type": "code",
   "execution_count": 3,
   "metadata": {},
   "outputs": [
    {
     "name": "stdout",
     "output_type": "stream",
     "text": [
      "/mnt/drive3/gfdl/6HRLY/SURF/atmos.2008010100-2012123123.uas.nc\n",
      "True\n"
     ]
    }
   ],
   "source": [
    "# reading in LEOC96 data\n",
    "in_folder = '/mnt/drive3/gfdl/6HRLY/SURF/'\n",
    "\n",
    "var = 'ua'\n",
    "\n",
    "var_map = {'ua': 'uas', 'va': 'vas', 'wap': 'wap'}\n",
    "var_units = {'ua': 'm s-1', 'va': 'm s-1', 'wap': 'Pa/s'}\n",
    "var_scale = {'ua': 1., 'va': 1., 'wap': 1.}\n",
    "\n",
    "\n",
    "out_var_map = {'ua': 'ua',  'va': 'va', 'wap': 'wap'}\n",
    "out_var_units = {'ua': 'm s-1',  'va': 'm s-1', 'wap': 'Pa/s'}\n",
    "out_var_scale = {'ua': 1.,  'va': 1., 'wap': 1.} \n",
    "out_var_ln = {'ua': 'Eastward Wind',  'va': 'Westward Wind', 'wap': 'Vertical Velocity'} \n",
    "out_var_sn = {'ua': 'eastward_wind',  'va': 'westward_wind', 'wap': 'lagrangian_tendency_of_air_pressure'} \n",
    "\n",
    "in_file = f'/mnt/drive3/gfdl/6HRLY/SURF/atmos.2008010100-2012123123.{var_map[var]}.nc'\n",
    "\n",
    "print(in_file)\n",
    "print(os.path.exists(in_file))"
   ]
  },
  {
   "cell_type": "code",
   "execution_count": null,
   "metadata": {},
   "outputs": [],
   "source": [
    "%%time\n",
    "in_ds = xr.open_dataset(in_file)\n",
    "in_lat = in_ds.variables['lat'].values\n",
    "in_lon = in_ds.variables['lon'].values"
   ]
  },
  {
   "cell_type": "code",
   "execution_count": null,
   "metadata": {},
   "outputs": [],
   "source": [
    "year_range = [2008, 2012]\n",
    "\n",
    "time_start_year = 1975\n",
    "\n",
    "# must include the end year, so have to add one \n",
    "num_years = year_range[1] - year_range[0] + 1\n",
    "\n",
    "# creating the output arrays\n",
    "out_time_bnds = np.zeros((1460*num_years, 2))\n",
    "\n",
    "# time variable for all the years\n",
    "in_time = np.arange(0, num_years*365, .25) + (year_range[0] - time_start_year)*365 \n",
    "print(len(in_time))"
   ]
  },
  {
   "cell_type": "code",
   "execution_count": null,
   "metadata": {},
   "outputs": [],
   "source": [
    "out_time = in_time\n",
    "\n",
    "lon = np.copy(in_lon)\n",
    "dlon = lon[1] - lon[0]\n",
    "out_lon = np.round(lon - dlon/2., decimals=2)\n",
    "\n",
    "lat = np.copy(in_lat)\n",
    "dlat = lat[1] - lat[0]\n",
    "out_lat = np.round(lat - dlat/2., decimals=2)\n",
    "\n",
    "# getting the output time bounds\n",
    "out_time_bnds[:, 1] = out_time\n",
    "out_time_bnds[0, 0] = out_time[0]\n",
    "out_time_bnds[1:, 0] = out_time[:-1]\n",
    "\n",
    "print(out_time_bnds.shape, out_lat.shape, out_lon.shape)"
   ]
  },
  {
   "cell_type": "code",
   "execution_count": 22,
   "metadata": {},
   "outputs": [
    {
     "data": {
      "application/vnd.jupyter.widget-view+json": {
       "model_id": "dff70ca5f02649709c2fd3a4d44fa429",
       "version_major": 2,
       "version_minor": 0
      },
      "text/plain": [
       "HBox(children=(FloatProgress(value=0.0, max=7300.0), HTML(value='')))"
      ]
     },
     "metadata": {},
     "output_type": "display_data"
    },
    {
     "name": "stdout",
     "output_type": "stream",
     "text": [
      "\n"
     ]
    }
   ],
   "source": [
    "# time_arr = [cftime.DatetimeNoLeap(time_start_year, 1, 1) + dt.timedelta(days=i) for i in tqdm.notebook.tqdm(out_time, total=len(out_time))]\n",
    "out_date = np.empty(out_time.shape, dtype=int)\n",
    "for i, i_time in notebook.tqdm(enumerate(out_time), total=len(out_time)): \n",
    "    tmp = cftime.DatetimeNoLeap(time_start_year, 1, 1) + dt.timedelta(days=i_time)\n",
    "    out_date[i] = int('%04d%02d%02d'%(tmp.year, tmp.month, tmp.day))"
   ]
  },
  {
   "cell_type": "code",
   "execution_count": 28,
   "metadata": {},
   "outputs": [
    {
     "name": "stdout",
     "output_type": "stream",
     "text": [
      "[20080101 20080101 20080101 ... 20121231 20121231 20121231]\n",
      "(32,)\n",
      "(33,)\n",
      "(7308, 32, 180, 288)\n"
     ]
    }
   ],
   "source": [
    "print(out_date)\n",
    "print(in_ds.pfull.shape)\n",
    "print(in_ds.phalf.shape)\n",
    "print(in_ds[var_map[var]].shape)"
   ]
  },
  {
   "cell_type": "code",
   "execution_count": 54,
   "metadata": {},
   "outputs": [
    {
     "name": "stdout",
     "output_type": "stream",
     "text": [
      "<xarray.DataArray 'wap' (time: 7300, lev: 32, lat: 180, lon: 288)>\n",
      "[12109824000 values with dtype=float32]\n",
      "Coordinates:\n",
      "  * lat      (lat) float64 -90.0 -89.0 -88.0 -87.0 -86.0 ... 86.0 87.0 88.0 89.0\n",
      "  * lon      (lon) float64 0.0 1.25 2.5 3.75 5.0 ... 355.0 356.2 357.5 358.8\n",
      "  * lev      (lev) float64 2.164 5.845 10.75 17.11 ... 963.7 976.7 987.4 996.1\n",
      "  * time     (time) float64 1.204e+04 1.205e+04 ... 1.387e+04 1.387e+04\n",
      "Attributes:\n",
      "    long_name:      Vertical Velocity\n",
      "    units:          Pa/s\n",
      "    cell_methods:   time: point\n",
      "    interp_method:  conserve_order2\n",
      "    standard_name:  lagrangian_tendency_of_air_pressure\n",
      "---------------------------\n",
      "<xarray.Dataset>\n",
      "Dimensions:    (date: 7300, lat: 180, lev: 32, lon: 288, nbnd: 2, time: 7300)\n",
      "Coordinates:\n",
      "  * lat        (lat) float64 -90.0 -89.0 -88.0 -87.0 ... 86.0 87.0 88.0 89.0\n",
      "  * lon        (lon) float64 0.0 1.25 2.5 3.75 5.0 ... 355.0 356.2 357.5 358.8\n",
      "  * lev        (lev) float64 2.164 5.845 10.75 17.11 ... 963.7 976.7 987.4 996.1\n",
      "  * time       (time) float64 1.204e+04 1.205e+04 ... 1.387e+04 1.387e+04\n",
      "  * nbnd       (nbnd) int64 1 2\n",
      "  * date       (date) int64 20080101 20080101 20080101 ... 20121231 20121231\n",
      "Data variables:\n",
      "    wap        (time, lev, lat, lon) float32 ...\n",
      "    time_bnds  (time, nbnd) float64 1.204e+04 1.204e+04 ... 1.387e+04 1.387e+04\n",
      "Attributes:\n",
      "    filename:          atmos.2008010100-2012123123.wap.nc\n",
      "    title:             c96L32_am4g9_fullaero_MDTF\n",
      "    associated_files:  area: 20120101.grid_spec.nc\n",
      "    grid_type:         regular\n",
      "    grid_tile:         N/A\n",
      "    history:           fregrid --standard_dimension --input_mosaic C96_mosaic...\n",
      "    code_version:      $Name: fre-nctools-bronx-10 $\n"
     ]
    }
   ],
   "source": [
    "ds = in_ds.copy()\n",
    "\n",
    "# print(in_ds)\n",
    "ds = ds.isel(time=range(len(out_time)))\n",
    "ds['time'] = out_time\n",
    "ds['lat'] = out_lat\n",
    "ds['lon'] = out_lon\n",
    "ds['nbnd'] = [1, 2]\n",
    "ds['date'] = out_date\n",
    "ds['time_bnds'] = (['time', 'nbnd'], out_time_bnds)\n",
    "\n",
    "\n",
    "ds = ds.rename({var_map[var]: out_var_map[var], 'pfull': 'lev'})\n",
    "\n",
    "ds = ds.drop(['time_bounds', 'lat_bnds', 'lon_bnds', 'phalf'])\n",
    "\n",
    "# lon attribs\n",
    "ds.lon.attrs['standard_name'] = 'longitude'\n",
    "ds.lon.attrs['long_name'] = 'longitude'\n",
    "ds.lon.attrs['units'] = 'degrees_east'\n",
    "\n",
    "# lat attribs\n",
    "ds.lat.attrs['standard_name'] = 'latitude'\n",
    "ds.lat.attrs['long_name'] = 'latitude'\n",
    "ds.lat.attrs['units'] = 'degrees_north'\n",
    "\n",
    "# time attribs\n",
    "ds.time.attrs['standard_name'] = 'time'\n",
    "ds.time.attrs['long_name'] = 'time'\n",
    "ds.time.attrs['units'] = 'days since 1975-01-01 00:00:00'\n",
    "ds.time.attrs['calendar'] = 'noleap'\n",
    "ds.time.attrs['bounds'] = 'time_bnds'\n",
    "\n",
    "# time_bnds attribs\n",
    "ds.time_bnds.attrs['long_name'] = 'time interval endpoints'\n",
    "\n",
    "# date attribs\n",
    "ds.date.attrs['long_name'] = 'current date (YYYYMMDD)'\n",
    "\n",
    "# slp attribs\n",
    "ds[out_var_map[var]].attrs['long_name'] = out_var_ln[var]\n",
    "ds[out_var_map[var]].attrs['standard_name'] = out_var_sn[var]\n",
    "ds[out_var_map[var]].attrs['units'] = out_var_units[var]\n",
    "\n",
    "print(ds.wap)\n",
    "\n",
    "print('---------------------------')\n",
    "print(ds)\n",
    "# print(ds[out_var_map[var]])"
   ]
  },
  {
   "cell_type": "code",
   "execution_count": null,
   "metadata": {},
   "outputs": [
    {
     "name": "stdout",
     "output_type": "stream",
     "text": [
      "/localdrive/drive10/jj/mdtf/inputdata/model/GFDL.EXP1.2PM.001/6hr/GFDL.EXP1.2PM.001.wap.6hr.nc\n"
     ]
    }
   ],
   "source": [
    "out_file = f'/localdrive/drive10/jj/mdtf/inputdata/model/GFDL.EXP1.2PM.001/6hr/GFDL.EXP1.2PM.001.{out_var_map[var]}.6hr.nc'\n",
    "print(out_file)\n",
    "ds.to_netcdf(out_file)"
   ]
  },
  {
   "cell_type": "code",
   "execution_count": null,
   "metadata": {},
   "outputs": [],
   "source": []
  }
 ],
 "metadata": {
  "interpreter": {
   "hash": "bfbbc60141744b04613ccaefd64c213db77401d007daef9c6a5e22b0e93fb65c"
  },
  "kernelspec": {
   "display_name": "Python 3",
   "language": "python",
   "name": "python3"
  },
  "language_info": {
   "codemirror_mode": {
    "name": "ipython",
    "version": 3
   },
   "file_extension": ".py",
   "mimetype": "text/x-python",
   "name": "python",
   "nbconvert_exporter": "python",
   "pygments_lexer": "ipython3",
   "version": "3.6.8"
  }
 },
 "nbformat": 4,
 "nbformat_minor": 2
}
