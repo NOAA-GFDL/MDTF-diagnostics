{
 "cells": [
  {
   "cell_type": "code",
   "execution_count": 1,
   "metadata": {},
   "outputs": [],
   "source": [
    "import numpy \n",
    "import xarray as xr\n",
    "import matplotlib.pyplot as plt\n",
    "import cartopy\n",
    "import numpy as np\n",
    "import os\n",
    "\n",
    "from scipy import interpolate"
   ]
  },
  {
   "cell_type": "code",
   "execution_count": 2,
   "metadata": {},
   "outputs": [],
   "source": [
    "e_file = '/localdrive/drive10/jj/mdtf/inputdata/obs_data/etc_composites/era_interim.nc'\n",
    "m_file = '/localdrive/drive10/jj/mdtf/inputdata/obs_data/etc_composites/modis_merra.nc'"
   ]
  },
  {
   "cell_type": "code",
   "execution_count": 54,
   "metadata": {},
   "outputs": [],
   "source": [
    "e_ds = xr.open_dataset(e_file)\n",
    "m_ds = xr.open_dataset(m_file)"
   ]
  },
  {
   "cell_type": "code",
   "execution_count": 55,
   "metadata": {},
   "outputs": [
    {
     "name": "stdout",
     "output_type": "stream",
     "text": [
      "<xarray.Dataset>\n",
      "Dimensions:            (x: 30, x_edges: 31, y: 30, y_edges: 31)\n",
      "Coordinates:\n",
      "    X                  (x) float64 ...\n",
      "    Y                  (y) float64 ...\n",
      "    X_edges            (x_edges) float64 ...\n",
      "    Y_edges            (y_edges) float64 ...\n",
      "Dimensions without coordinates: x, x_edges, y, y_edges\n",
      "Data variables:\n",
      "    pr_nh_ocean_warm   (x, y) float64 ...\n",
      "    prw_nh_ocean_warm  (x, y) float64 ...\n",
      "    ws_nh_ocean_warm   (x, y) float64 ...\n",
      "    pr_sh_ocean_warm   (x, y) float64 ...\n",
      "    prw_sh_ocean_warm  (x, y) float64 ...\n",
      "    ws_sh_ocean_warm   (x, y) float64 ...\n"
     ]
    }
   ],
   "source": [
    "print(e_ds)"
   ]
  },
  {
   "cell_type": "code",
   "execution_count": 41,
   "metadata": {},
   "outputs": [
    {
     "name": "stdout",
     "output_type": "stream",
     "text": [
      "(30,)\n",
      "(30,)\n"
     ]
    }
   ],
   "source": [
    "e_x = e_ds.X.values\n",
    "e_y = e_ds.Y.values\n",
    "print(e_x.shape)\n",
    "print(e_y.shape)\n",
    "\n",
    "m_x = m_ds.X.values\n",
    "m_y = m_ds.Y.values\n",
    "\n",
    "e_x_grid, e_y_grid = np.meshgrid(e_x, e_y)\n",
    "\n",
    "m_modis_cld = m_ds.modis_cld.values\n",
    "m_merra_pw = m_ds.merra_pw.values\n",
    "m_merra_omega = m_ds.modis_cld.values"
   ]
  },
  {
   "cell_type": "code",
   "execution_count": 50,
   "metadata": {},
   "outputs": [
    {
     "name": "stdout",
     "output_type": "stream",
     "text": [
      "(25, 25) (25, 25)\n",
      "(25, 25)\n",
      "(30,) (900,)\n"
     ]
    }
   ],
   "source": [
    "m_x_1d = m_x.flatten()\n",
    "m_y_1d = m_y.flatten()\n",
    "\n",
    "m_modis_cld_1d = m_modis_cld.flatten()\n",
    "m_merra_pw_1d = m_merra_pw.flatten()\n",
    "m_merra_omega_1d = m_merra_omega.flatten()\n",
    "\n",
    "e_x_1d = e_x_grid.flatten()\n",
    "e_y_1d = e_y_grid.flatten()\n",
    "\n",
    "print(m_x.shape, m_modis_cld.shape)\n",
    "print(m_y.shape)\n",
    "print(e_x.shape, e_x_1d.shape)"
   ]
  },
  {
   "cell_type": "code",
   "execution_count": 51,
   "metadata": {},
   "outputs": [],
   "source": [
    "e_modis_cld = interpolate.griddata((m_x_1d, m_y_1d), m_modis_cld_1d, (e_x_1d, e_y_1d))\n",
    "e_modis_cld = e_modis_cld.reshape(e_x_grid.shape)\n",
    "\n",
    "e_merra_pw = interpolate.griddata((m_x_1d, m_y_1d), m_merra_pw_1d, (e_x_1d, e_y_1d))\n",
    "e_merra_pw = e_merra_pw.reshape(e_x_grid.shape)\n",
    "\n",
    "e_merra_omega = interpolate.griddata((m_x_1d, m_y_1d), m_merra_omega_1d, (e_x_1d, e_y_1d))\n",
    "e_merra_omega = e_merra_omega.reshape(e_x_grid.shape)\n"
   ]
  },
  {
   "cell_type": "code",
   "execution_count": 82,
   "metadata": {},
   "outputs": [
    {
     "data": {
      "image/png": "[encoded data removed]",
      "text/plain": [
       "<Figure size 864x288 with 6 Axes>"
      ]
     },
     "metadata": {
      "needs_background": "light"
     },
     "output_type": "display_data"
    }
   ],
   "source": [
    "levels = np.arange(10, 30, 1)\n",
    "plt.figure(figsize=(12,4))\n",
    "plt.subplot(1,3,1)\n",
    "# plt.pcolormesh(e_x, e_y, e_merra_pw)\n",
    "plt.pcolormesh(e_x, e_y, e_merra_pw, vmin=levels[0], vmax=levels[-1])\n",
    "plt.colorbar()\n",
    "plt.ylim(-1500, 1500); plt.xlim(-1500, 1500)\n",
    "plt.title('Interpolated MERRA PW')\n",
    "\n",
    "plt.subplot(1,3,2)\n",
    "plt.pcolormesh(e_x, e_y, e_ds.prw_sh_ocean_warm.values, vmin=levels[0], vmax=levels[-1])\n",
    "plt.colorbar()\n",
    "plt.ylim(-1500, 1500); plt.xlim(-1500, 1500)\n",
    "plt.title('ERA-Interim PRW')\n",
    "plt.tight_layout()\n",
    "\n",
    "plt.subplot(1,3,3)\n",
    "plt.pcolormesh(e_x, e_y, e_merra_pw - e_ds.prw_sh_ocean_warm.values, vmin=-10, vmax=10, cmap='bwr')\n",
    "plt.colorbar()\n",
    "plt.ylim(-1500, 1500); plt.xlim(-1500, 1500)\n",
    "plt.title('MERRA - ERA-Interim')\n",
    "plt.tight_layout()\n",
    "\n",
    "plt.savefig('diff_test.png', dpi=300.)"
   ]
  },
  {
   "cell_type": "code",
   "execution_count": null,
   "metadata": {},
   "outputs": [],
   "source": []
  }
 ],
 "metadata": {
  "kernelspec": {
   "display_name": "Python [conda env:mcms] *",
   "language": "python",
   "name": "conda-env-mcms-py"
  },
  "language_info": {
   "codemirror_mode": {
    "name": "ipython",
    "version": 3
   },
   "file_extension": ".py",
   "mimetype": "text/x-python",
   "name": "python",
   "nbconvert_exporter": "python",
   "pygments_lexer": "ipython3",
   "version": "3.6.8"
  }
 },
 "nbformat": 4,
 "nbformat_minor": 4
}
