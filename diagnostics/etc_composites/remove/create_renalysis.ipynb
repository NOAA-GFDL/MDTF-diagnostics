{
 "cells": [
  {
   "cell_type": "code",
   "execution_count": 49,
   "metadata": {},
   "outputs": [],
   "source": [
    "import numpy as np \n",
    "import scipy.io as sio\n",
    "import xarray as xr\n",
    "import matplotlib.pyplot as plt\n",
    "import netCDF4 as nc\n",
    "import glob\n",
    "import os\n",
    "import pickle\n",
    "import warnings"
   ]
  },
  {
   "cell_type": "markdown",
   "metadata": {},
   "source": [
    "# Details "
   ]
  },
  {
   "cell_type": "markdown",
   "metadata": {},
   "source": [
    "read in the data from mdtfera -- which is the run from era-interim for the years 2008-2012\n",
    "\n",
    "*note : mdtferai is the run from 1979 to 2016*"
   ]
  },
  {
   "cell_type": "code",
   "execution_count": 50,
   "metadata": {},
   "outputs": [],
   "source": [
    "# Folder in which catherine has her data\n",
    "composites_file = '/localdrive/drive10/mcms_tracker/RUNDIR/mdtfera/read_mdtfera/composites.pkl'\n",
    "\n",
    "with open(composites_file, 'rb') as f:\n",
    "    comp = pickle.load(f)"
   ]
  },
  {
   "cell_type": "code",
   "execution_count": 51,
   "metadata": {},
   "outputs": [
    {
     "name": "stdout",
     "output_type": "stream",
     "text": [
      "dict_keys(['pr', 'prw', 'uv10'])\n"
     ]
    }
   ],
   "source": [
    "print(comp['SH']['ocean']['all'].keys())\n",
    "\n",
    "x = comp['x']\n",
    "y = comp['y']\n",
    "x_edges = comp['x_edges']\n",
    "y_edges = comp['y_edges']\n",
    "\n",
    "with warnings.catch_warnings():\n",
    "    warnings.simplefilter(\"ignore\")\n",
    "    # ignoring the division warnings\n",
    "    \n",
    "    # extracting variables to be saved\n",
    "    var = 'pr'; hemis = 'NH'; lo = 'ocean'; season='warm'; \n",
    "    pr_nh_ocean_warm = comp[hemis][lo][season][var]['area_sum']/comp[hemis][lo][season][var]['area_cnt']\n",
    "\n",
    "    var = 'prw'; hemis = 'NH'; lo = 'ocean'; season='warm'; \n",
    "    prw_nh_ocean_warm = comp[hemis][lo][season][var]['area_sum']/comp[hemis][lo][season][var]['area_cnt']\n",
    "\n",
    "    var = 'uv10'; hemis = 'NH'; lo = 'ocean'; season='warm'; \n",
    "    uv10_nh_ocean_warm = comp[hemis][lo][season][var]['area_sum']/comp[hemis][lo][season][var]['area_cnt']\n",
    "\n",
    "    var = 'pr'; hemis = 'SH'; lo = 'ocean'; season='warm'; \n",
    "    pr_sh_ocean_warm = comp[hemis][lo][season][var]['area_sum']/comp[hemis][lo][season][var]['area_cnt']\n",
    "\n",
    "    var = 'prw'; hemis = 'SH'; lo = 'ocean'; season='warm'; \n",
    "    prw_sh_ocean_warm = comp[hemis][lo][season][var]['area_sum']/comp[hemis][lo][season][var]['area_cnt']\n",
    "\n",
    "    var = 'uv10'; hemis = 'SH'; lo = 'ocean'; season='warm'; \n",
    "    uv10_sh_ocean_warm = comp[hemis][lo][season][var]['area_sum']/comp[hemis][lo][season][var]['area_cnt']\n"
   ]
  },
  {
   "cell_type": "code",
   "execution_count": 57,
   "metadata": {},
   "outputs": [
    {
     "data": {
      "text/plain": [
       "<matplotlib.contour.QuadContourSet at 0x7fc99881b390>"
      ]
     },
     "execution_count": 57,
     "metadata": {},
     "output_type": "execute_result"
    },
    {
     "data": {
      "image/png": "[encoded data removed]",
      "text/plain": [
       "<Figure size 432x288 with 1 Axes>"
      ]
     },
     "metadata": {
      "needs_background": "light"
     },
     "output_type": "display_data"
    }
   ],
   "source": [
    "# plt.pcolormesh(x,y,prw_nh_ocean_warm)\n",
    "\n",
    "plt.contourf(x,y,uv10_nh_ocean_warm, levels=10)"
   ]
  },
  {
   "cell_type": "code",
   "execution_count": 59,
   "metadata": {},
   "outputs": [
    {
     "name": "stdout",
     "output_type": "stream",
     "text": [
      "(30, 30)\n",
      "(30,)\n"
     ]
    }
   ],
   "source": [
    "print(pr_nh_ocean_warm.shape)\n",
    "print(y.shape)"
   ]
  },
  {
   "cell_type": "code",
   "execution_count": 65,
   "metadata": {},
   "outputs": [],
   "source": [
    "out_file = '/localdrive/drive10/jj/mdtf/inputdata/obs_data/etc_composites/era_interim.nc'\n",
    "out_ds = xr.Dataset(\n",
    "    {\n",
    "    'pr_nh_ocean_warm': (['x', 'y'], pr_nh_ocean_warm), \n",
    "    'prw_nh_ocean_warm': (['x', 'y'], prw_nh_ocean_warm), \n",
    "    'ws_nh_ocean_warm': (['x', 'y'], uv10_nh_ocean_warm), \n",
    "    'pr_sh_ocean_warm': (['x', 'y'], pr_sh_ocean_warm), \n",
    "    'prw_sh_ocean_warm': (['x', 'y'], prw_sh_ocean_warm), \n",
    "    'ws_sh_ocean_warm': (['x', 'y'], uv10_sh_ocean_warm), \n",
    "    },\n",
    "    coords={\n",
    "        'X': (['x'], x), \n",
    "        'Y': (['y'], y), \n",
    "        'X_edges': (['x_edges'], x_edges),\n",
    "        'Y_edges': (['y_edges'], y_edges)\n",
    "    }\n",
    ")\n",
    "out_ds.to_netcdf(out_file)"
   ]
  },
  {
   "cell_type": "code",
   "execution_count": null,
   "metadata": {},
   "outputs": [],
   "source": []
  },
  {
   "cell_type": "markdown",
   "metadata": {},
   "source": [
    "# variables to save from Catherine Observations\n",
    "1. ds.angle\n",
    "2. ds.rdist\n",
    "3. ds.modiscld\n",
    "4. ds.merrapw\n",
    "5. ds.merraomega500\n",
    "\n",
    "# variables to save from ERA-Interim\n",
    "1. PR - total precipitation\n",
    "2. PRW - total column water vapor\n",
    "3. UV10 - 10 meter wind speeds (U**10 + V**10)\n"
   ]
  },
  {
   "cell_type": "code",
   "execution_count": 77,
   "metadata": {},
   "outputs": [],
   "source": [
    "modiscld = ds.modiscld.values\n",
    "merrapw = ds.merrapw.values\n",
    "merraomega = ds.merraomega.values"
   ]
  },
  {
   "cell_type": "code",
   "execution_count": 86,
   "metadata": {},
   "outputs": [],
   "source": [
    "out_file = '/localdrive/drive10/jj/mdtf/inputdata/obs_data/etc_composites/modis_merra.nc'\n",
    "out_ds = xr.Dataset(\n",
    "    {\n",
    "    'modis_cld': (['x', 'y'], modiscld), \n",
    "    'merra_pw': (['x', 'y'], merrapw), \n",
    "    'merra_omega': (['x', 'y'], merraomega), \n",
    "    },\n",
    "    coords={\n",
    "        'X': (['x', 'y'], x), \n",
    "        'Y': (['x', 'y'], y), \n",
    "        'angle': (['x'], ang),\n",
    "        'dist': (['x'], dist)\n",
    "    }\n",
    ")\n",
    "out_ds.to_netcdf(out_file)"
   ]
  },
  {
   "cell_type": "code",
   "execution_count": 83,
   "metadata": {},
   "outputs": [
    {
     "name": "stdout",
     "output_type": "stream",
     "text": [
      "<xarray.Dataset>\n",
      "Dimensions:      (x: 25, y: 25)\n",
      "Coordinates:\n",
      "    X            (x, y) float32 -0.0 -0.0 -0.0 ... -2078.4612 -2318.2222 -2400.0\n",
      "    Y            (x, y) float32 0.0 -0.0 -0.0 ... 621.1654 -0.00020981467\n",
      "    angle        (x) float32 -3.1415927 -2.8797934 ... 2.8797934 3.1415927\n",
      "    dist         (x) float32 0.0 100.0 200.0 300.0 ... 2200.0 2300.0 2400.0\n",
      "Dimensions without coordinates: x, y\n",
      "Data variables:\n",
      "    modis_cld    (x, y) float32 92.146996 91.909424 ... 67.6577 56.993305\n",
      "    merra_pw     (x, y) float32 19.11767 18.964869 ... 21.494896 27.856266\n",
      "    merra_omega  (x, y) float32 -3.2536764 -3.0340588 ... 0.14513089 0.30321842\n"
     ]
    }
   ],
   "source": [
    "print(out_ds)"
   ]
  },
  {
   "cell_type": "code",
   "execution_count": null,
   "metadata": {},
   "outputs": [],
   "source": []
  }
 ],
 "metadata": {
  "kernelspec": {
   "display_name": "Python [conda env:mcms] *",
   "language": "python",
   "name": "conda-env-mcms-py"
  },
  "language_info": {
   "codemirror_mode": {
    "name": "ipython",
    "version": 3
   },
   "file_extension": ".py",
   "mimetype": "text/x-python",
   "name": "python",
   "nbconvert_exporter": "python",
   "pygments_lexer": "ipython3",
   "version": "3.6.8"
  }
 },
 "nbformat": 4,
 "nbformat_minor": 4
}
