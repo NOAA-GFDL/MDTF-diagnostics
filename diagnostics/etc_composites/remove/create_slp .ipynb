{
 "cells": [
  {
   "cell_type": "code",
   "execution_count": 177,
   "metadata": {},
   "outputs": [],
   "source": [
    "import numpy as np \n",
    "import xarray as xr \n",
    "import matplotlib.pyplot as plt \n",
    "import cartopy\n",
    "import os\n",
    "import pandas as pd\n",
    "import cftime\n",
    "import datetime as dt\n",
    "import tqdm\n",
    "import netCDF4 as nc\n",
    "\n",
    "# read in ERA-I all year SLP data (6-hr)\n",
    "# all years of SLP should be given in one file...\n",
    "in_folder = '/localdrive/drive6/erai/slp/'"
   ]
  },
  {
   "cell_type": "markdown",
   "metadata": {},
   "source": [
    "# Creating the SLP file that contains all the necessary years"
   ]
  },
  {
   "cell_type": "code",
   "execution_count": 251,
   "metadata": {},
   "outputs": [
    {
     "data": {
      "application/vnd.jupyter.widget-view+json": {
       "model_id": "81a7c5b9b4d04f26998fc342d8145393",
       "version_major": 2,
       "version_minor": 0
      },
      "text/plain": [
       "HBox(children=(FloatProgress(value=0.0, max=32.0), HTML(value='')))"
      ]
     },
     "metadata": {},
     "output_type": "display_data"
    },
    {
     "name": "stdout",
     "output_type": "stream",
     "text": [
      "\n"
     ]
    }
   ],
   "source": [
    "time_start_year = 1975\n",
    "year_range = [1979, 2011]\n",
    "\n",
    "num_years = year_range[1] - year_range[0]\n",
    "out_slp = np.empty((1460*num_years,121,240))\n",
    "out_time = np.zeros((1460*num_years,))\n",
    "out_time_bnds = np.zeros((1460*num_years, 2))\n",
    "\n",
    "for i_year, year in tqdm.notebook.tqdm(enumerate(range(year_range[0], year_range[1])), total=num_years): \n",
    "    in_file = os.path.join(in_folder, 'slp.%d.nc'%(year))\n",
    "    \n",
    "    ds = xr.open_dataset(in_file)\n",
    "    in_lat = ds.variables['lat'].values\n",
    "    in_lon = ds.variables['lon'].values\n",
    "    in_slp = ds.variables['slp']\n",
    "    ds.close()\n",
    "    \n",
    "    # time needed for the output is number of days since start of year 1\n",
    "    # time from 0 to 1460, in terms of days\n",
    "    # + time from the start of the time year in model data\n",
    "    # + i_year * 1460, for every year loop i have to add 1460 to the time\n",
    "    in_time = np.arange(0, 365, .25) + (year_range[0] - time_start_year)*365 + i_year*365\n",
    "    \n",
    "    # selecting only the first 1460 to match the model output which is of a 365 year calendar\n",
    "    in_slp = in_slp.isel(time=range(1460)).values\n",
    "    \n",
    "    out_time[i_year*1460:(i_year+1)*1460]  = in_time\n",
    "    out_slp[i_year*1460:(i_year+1)*1460, :, :] = in_slp\n",
    "\n",
    "#     if (i_year == 2): \n",
    "#         break\n",
    "\n",
    "# getting the output variables\n",
    "out_lat = in_lat\n",
    "out_lon = in_lon\n",
    "\n",
    "# getting the output time bounds\n",
    "out_time_bnds[:, 1] = out_time\n",
    "out_time_bnds[0, 0] = out_time[0]\n",
    "out_time_bnds[1:, 0] = out_time[:-1]"
   ]
  },
  {
   "cell_type": "markdown",
   "metadata": {},
   "source": [
    "## Creating the date variable provided in model data"
   ]
  },
  {
   "cell_type": "code",
   "execution_count": 275,
   "metadata": {},
   "outputs": [
    {
     "data": {
      "application/vnd.jupyter.widget-view+json": {
       "model_id": "90a8b44357234674b37690b47a7b2ae7",
       "version_major": 2,
       "version_minor": 0
      },
      "text/plain": [
       "HBox(children=(FloatProgress(value=0.0, max=46720.0), HTML(value='')))"
      ]
     },
     "metadata": {},
     "output_type": "display_data"
    },
    {
     "name": "stdout",
     "output_type": "stream",
     "text": [
      "\n"
     ]
    }
   ],
   "source": [
    "# time_arr = [cftime.DatetimeNoLeap(time_start_year, 1, 1) + dt.timedelta(days=i) for i in tqdm.notebook.tqdm(out_time, total=len(out_time))]\n",
    "out_date = np.empty(out_time.shape, dtype=int)\n",
    "for i, i_time in tqdm.notebook.tqdm(enumerate(out_time), total=len(out_time)): \n",
    "    tmp = cftime.DatetimeNoLeap(time_start_year, 1, 1) + dt.timedelta(days=i_time)\n",
    "    out_date[i] = int('%04d%02d%02d'%(tmp.year, tmp.month, tmp.day))"
   ]
  },
  {
   "cell_type": "markdown",
   "metadata": {},
   "source": [
    "# Creating the model sample data for the SLP values"
   ]
  },
  {
   "cell_type": "code",
   "execution_count": 296,
   "metadata": {},
   "outputs": [],
   "source": [
    "# write the output as netcdf file \n",
    "\n",
    "out_file = '/localdrive/drive10/jj/mdtf/inputdata/model/QBOi.EXP1.AMIP.001/6hr/QBOi.EXP1.AMIP.001.SLP.6hr.nc'\n",
    "\n",
    "# # Format of the PRECT variable for 3hr is as follows: \n",
    "# 1. time - noleap, days since 1975-01-01 00:00:00\n",
    "# 2. date - current date\n",
    "# 3. lat - latitude\n",
    "# 4. lon - longitude\n",
    "# 5. time_bnds - time interval endpoints\n",
    "# 6. SLP - mba, long_name, cell_methods: \"time:mean\"\n",
    "\n",
    "out_ds = xr.Dataset({\n",
    "        'time_bnds': (('time', 'nbnd'), out_time_bnds), \n",
    "        'date': (('time'), out_date),\n",
    "        'SLP': (('time', 'lat', 'lon'), out_slp), \n",
    "    }, \n",
    "    coords={\n",
    "        'time': out_time, \n",
    "        'lat': out_lat, \n",
    "        'lon': out_lon,\n",
    "        'nbnd': [1, 2]\n",
    "    },\n",
    "    )\n",
    "\n",
    "# lon attribs\n",
    "out_ds.lon.attrs['long_name'] = 'longitude'\n",
    "out_ds.lon.attrs['units'] = 'degrees_east'\n",
    "\n",
    "# lat attribs\n",
    "out_ds.lat.attrs['long_name'] = 'latitude'\n",
    "out_ds.lat.attrs['units'] = 'degrees_north'\n",
    "\n",
    "# time attribs\n",
    "out_ds.time.attrs['long_name'] = 'time'\n",
    "out_ds.time.attrs['units'] = 'days since 1975-01-01 00:00:00'\n",
    "out_ds.time.attrs['calendar'] = 'noleap'\n",
    "out_ds.time.attrs['bounds'] = 'time_bnds'\n",
    "\n",
    "# time_bnds attribs\n",
    "out_ds.time_bnds.attrs['long_name'] = 'time interval endpoints'\n",
    "\n",
    "# date attribs\n",
    "out_ds.date.attrs['long_name'] = 'current date (YYYYMMDD)'\n",
    "\n",
    "# slp attribs\n",
    "out_ds.SLP.attrs['long_name'] = 'Sea Level Pressure'\n",
    "out_ds.SLP.attrs['units'] = 'mb'\n"
   ]
  },
  {
   "cell_type": "code",
   "execution_count": 294,
   "metadata": {},
   "outputs": [],
   "source": [
    "# actually writing the output file\n",
    "\n",
    "out_ds.to_netcdf(out_file)"
   ]
  },
  {
   "cell_type": "markdown",
   "metadata": {},
   "source": [
    "# Testing the input model "
   ]
  },
  {
   "cell_type": "code",
   "execution_count": 190,
   "metadata": {},
   "outputs": [],
   "source": [
    "fn = '/localdrive/drive10/jj/mdtf/inputdata/model/QBOi.EXP1.AMIP.001/3hr/QBOi.EXP1.AMIP.001.PRECT.3hr.nc'\n",
    "ncid = nc.Dataset(fn)\n",
    "lat = ncid['lat'][:]\n",
    "lon = ncid['lon'][:]\n",
    "time = ncid['time'][:]\n",
    "time_bnds = ncid['time_bnds'][:]"
   ]
  },
  {
   "cell_type": "code",
   "execution_count": 221,
   "metadata": {},
   "outputs": [
    {
     "name": "stdout",
     "output_type": "stream",
     "text": [
      "[0.    0.125]\n",
      "2557.3750\n"
     ]
    }
   ],
   "source": [
    "print(time_bnds[1, :])\n",
    "print('{:.4f}'.format((time[-1])))"
   ]
  },
  {
   "cell_type": "code",
   "execution_count": 63,
   "metadata": {},
   "outputs": [
    {
     "name": "stdout",
     "output_type": "stream",
     "text": [
      "<xarray.IndexVariable 'time' (time: 20460)>\n",
      "array([cftime.DatetimeNoLeap(1975, 1, 1, 0, 0, 0, 0, 1, 1),\n",
      "       cftime.DatetimeNoLeap(1975, 1, 1, 3, 0, 0, 0, 1, 1),\n",
      "       cftime.DatetimeNoLeap(1975, 1, 1, 6, 0, 0, 0, 1, 1), ...,\n",
      "       cftime.DatetimeNoLeap(1982, 1, 3, 3, 0, 0, 0, 3, 3),\n",
      "       cftime.DatetimeNoLeap(1982, 1, 3, 6, 0, 0, 0, 3, 3),\n",
      "       cftime.DatetimeNoLeap(1982, 1, 3, 9, 0, 0, 0, 3, 3)], dtype=object)\n",
      "Attributes:\n",
      "    long_name:  time\n",
      "    bounds:     time_bnds\n",
      "[cftime.DatetimeNoLeap(1976, 2, 28, 0, 0, 0, 0, 4, 59)\n",
      " cftime.DatetimeNoLeap(1976, 2, 28, 3, 0, 0, 0, 4, 59)\n",
      " cftime.DatetimeNoLeap(1976, 2, 28, 6, 0, 0, 0, 4, 59)\n",
      " cftime.DatetimeNoLeap(1976, 2, 28, 9, 0, 0, 0, 4, 59)\n",
      " cftime.DatetimeNoLeap(1976, 2, 28, 12, 0, 0, 0, 4, 59)\n",
      " cftime.DatetimeNoLeap(1976, 2, 28, 15, 0, 0, 0, 4, 59)\n",
      " cftime.DatetimeNoLeap(1976, 2, 28, 18, 0, 0, 0, 4, 59)\n",
      " cftime.DatetimeNoLeap(1976, 2, 28, 21, 0, 0, 0, 4, 59)\n",
      " cftime.DatetimeNoLeap(1976, 3, 1, 0, 0, 0, 0, 5, 60)\n",
      " cftime.DatetimeNoLeap(1976, 3, 1, 3, 0, 0, 0, 5, 60)]\n"
     ]
    }
   ],
   "source": [
    "ds = xr.open_dataset(fn)\n",
    "print(ds.variables['time'])\n",
    "time = ds.variables['time'].values\n",
    "ind = 365*8 + (31+27)*8\n",
    "print(time[ind:ind+10])"
   ]
  },
  {
   "cell_type": "code",
   "execution_count": 70,
   "metadata": {},
   "outputs": [],
   "source": [
    "import cftime\n",
    "import datetime as dt"
   ]
  },
  {
   "cell_type": "code",
   "execution_count": 82,
   "metadata": {},
   "outputs": [
    {
     "data": {
      "text/plain": [
       "cftime.DatetimeNoLeap(1980, 3, 1, 0, 0, 0, 0, 2, 60)"
      ]
     },
     "execution_count": 82,
     "metadata": {},
     "output_type": "execute_result"
    }
   ],
   "source": []
  },
  {
   "cell_type": "code",
   "execution_count": null,
   "metadata": {},
   "outputs": [],
   "source": []
  }
 ],
 "metadata": {
  "kernelspec": {
   "display_name": "Python [conda env:mcms] *",
   "language": "python",
   "name": "conda-env-mcms-py"
  },
  "language_info": {
   "codemirror_mode": {
    "name": "ipython",
    "version": 3
   },
   "file_extension": ".py",
   "mimetype": "text/x-python",
   "name": "python",
   "nbconvert_exporter": "python",
   "pygments_lexer": "ipython3",
   "version": "3.6.8"
  }
 },
 "nbformat": 4,
 "nbformat_minor": 4
}
