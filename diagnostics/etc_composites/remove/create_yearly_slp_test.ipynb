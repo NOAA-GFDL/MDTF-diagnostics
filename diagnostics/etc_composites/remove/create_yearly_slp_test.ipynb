{
 "cells": [
  {
   "cell_type": "code",
   "execution_count": 44,
   "metadata": {},
   "outputs": [],
   "source": [
    "import os \n",
    "import netCDF4 as nc\n",
    "import xarray as xr\n",
    "import matplotlib.pyplot as plt\n",
    "import cartopy\n",
    "import numpy as np"
   ]
  },
  {
   "cell_type": "code",
   "execution_count": 3,
   "metadata": {},
   "outputs": [],
   "source": [
    "slp_file = '/localdrive/drive10/jj/mdtf/inputdata/model/QBOi.EXP1.AMIP.001/6hr/QBOi.EXP1.AMIP.001.SLP.6hr.nc'"
   ]
  },
  {
   "cell_type": "code",
   "execution_count": 68,
   "metadata": {},
   "outputs": [],
   "source": [
    "ncid = nc.Dataset(slp_file)\n",
    "calendar = ncid['time'].getncattr('calendar')\n",
    "ncid.close()\n",
    "\n",
    "in_ds = xr.open_dataset(slp_file)\n",
    "\n",
    "# Getting the necessary data from the full year list file\n",
    "time = in_ds.time.values\n",
    "slp = in_ds.SLP\n",
    "lat = in_ds.lat.values\n",
    "lon = in_ds.lon.values\n",
    "\n",
    "# creating the year_list to chunk out the yearly sections of the files\n",
    "year_list = np.array([i.year for i in time])"
   ]
  },
  {
   "cell_type": "code",
   "execution_count": 78,
   "metadata": {},
   "outputs": [
    {
     "name": "stdout",
     "output_type": "stream",
     "text": [
      "1460\n"
     ]
    }
   ],
   "source": [
    "year_range = [1979, 1979]\n",
    "sYear = year_range[0]\n",
    "eYear = year_range[1]\n",
    "\n",
    "for year in range(sYear, eYear+1): \n",
    "    ind = (year_list == year)\n",
    "    slp_sel = slp[ind, :, :]\n",
    "    \n",
    "    out_file= f'./slp.{year:04d}.nc'\n",
    "    time = np.arange(0, np.sum(ind)*6, 6)\n",
    "    \n",
    "    out_ds = xr.Dataset(\n",
    "        {'slp': (('time', 'lat', 'lon'), slp_sel)}, \n",
    "        coords={\n",
    "            'time': time, \n",
    "            'lat': lat, \n",
    "            'lon': lon\n",
    "        }\n",
    "    )\n",
    "    \n",
    "    out_ds.slp.attrs['units'] = 'mb'\n",
    "    \n",
    "    out_ds.time.attrs['delta_t'] = \"0000-00-00 06:00:00\";\n",
    "    out_ds.time.attrs['units'] = f\"hours since {year:04d}-01-01 00:00:00\";\n",
    "    if (calendar == 'noleap'):\n",
    "        out_ds.time.attrs['calendar'] = '365_day'\n",
    "    else:\n",
    "        out_ds.time.attrs['calendar'] = calendar\n",
    "        \n",
    "    out_ds.lon.attrs['long_name'] = 'longitude'\n",
    "    out_ds.lon.attrs['standard_name'] = 'longitude'\n",
    "    out_ds.lon.attrs['units'] = 'degrees_east'\n",
    "    out_ds.lon.attrs['axis'] = 'X'\n",
    "    \n",
    "    out_ds.lat.attrs['long_name'] = 'latitude'\n",
    "    out_ds.lat.attrs['standard_name'] = 'latitude'\n",
    "    out_ds.lat.attrs['units'] = 'degrees_north'\n",
    "    out_ds.lat.attrs['axis'] = 'Y'\n",
    "            \n",
    "#     out_ds.to_netcdf(out_file)"
   ]
  },
  {
   "cell_type": "code",
   "execution_count": 38,
   "metadata": {},
   "outputs": [
    {
     "name": "stdout",
     "output_type": "stream",
     "text": [
      "<xarray.Dataset>\n",
      "Dimensions:  (lat: 121, lon: 240, time: 1460)\n",
      "Coordinates:\n",
      "  * lon      (lon) float64 0.0 1.5 3.0 4.5 6.0 ... 352.5 354.0 355.5 357.0 358.5\n",
      "  * lat      (lat) float64 90.0 88.5 87.0 85.5 84.0 ... -85.5 -87.0 -88.5 -90.0\n",
      "  * time     (time) datetime64[ns] 1979-01-01 ... 1979-12-31T18:00:00\n",
      "Data variables:\n",
      "    slp      (time, lat, lon) float32 ...\n",
      "Attributes:\n",
      "    CDI:          Climate Data Interface version 1.5.3 (http://code.zmaw.de/p...\n",
      "    Conventions:  CF-1.0\n",
      "    history:      Mon Dec 17 13:57:37 2012: cdo setvar,msl SLP_1979.nc NEW_SL...\n",
      "    institution:  European Centre for Medium-Range Weather Forecasts\n",
      "    CDO:          Climate Data Operators version 1.5.3 (http://code.zmaw.de/p...\n"
     ]
    }
   ],
   "source": [
    "# Original data of SLP FILES \n",
    "tmp_file = '/localdrive/drive6/erai/slp/slp.1979.nc'\n",
    "tmp_ds = xr.open_dataset(tmp_file)\n",
    "print(tmp_ds)"
   ]
  },
  {
   "cell_type": "code",
   "execution_count": null,
   "metadata": {},
   "outputs": [],
   "source": []
  }
 ],
 "metadata": {
  "kernelspec": {
   "display_name": "Python [conda env:mcms] *",
   "language": "python",
   "name": "conda-env-mcms-py"
  },
  "language_info": {
   "codemirror_mode": {
    "name": "ipython",
    "version": 3
   },
   "file_extension": ".py",
   "mimetype": "text/x-python",
   "name": "python",
   "nbconvert_exporter": "python",
   "pygments_lexer": "ipython3",
   "version": "3.6.8"
  }
 },
 "nbformat": 4,
 "nbformat_minor": 4
}
