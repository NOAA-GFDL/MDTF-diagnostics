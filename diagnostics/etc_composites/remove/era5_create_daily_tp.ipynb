{
 "cells": [
  {
   "cell_type": "markdown",
   "metadata": {},
   "source": [
    "# Creating daily ERA-5 Precip (mm/day)"
   ]
  },
  {
   "cell_type": "code",
   "execution_count": 1,
   "metadata": {},
   "outputs": [],
   "source": [
    "import numpy as np \n",
    "import xarray as xr \n",
    "import matplotlib.pyplot as plt \n",
    "import cartopy\n",
    "import os\n",
    "import pandas as pd\n",
    "import cftime\n",
    "import datetime as dt\n",
    "import tqdm\n",
    "import netCDF4 as nc\n",
    "import glob\n",
    "\n",
    "import subprocess\n",
    "import cftime"
   ]
  },
  {
   "cell_type": "code",
   "execution_count": 2,
   "metadata": {},
   "outputs": [],
   "source": [
    "calendar_type = 'proleptic_gregorian'\n",
    "# calendar_type = 'standard'"
   ]
  },
  {
   "cell_type": "code",
   "execution_count": 4,
   "metadata": {},
   "outputs": [],
   "source": [
    "in_folder = '/localdrive/drive6/era5/data/six_hrly/data_1deg'\n",
    "deg_type = 'DEG10'"
   ]
  },
  {
   "cell_type": "code",
   "execution_count": 9,
   "metadata": {},
   "outputs": [
    {
     "name": "stdout",
     "output_type": "stream",
     "text": [
      "Time Variable Length: 8760\n",
      "\n",
      " <xarray.DataArray 'time' (time: 8760)>\n",
      "array(['2014-01-01T00:00:00.000000000', '2014-01-01T01:00:00.000000000',\n",
      "       '2014-01-01T02:00:00.000000000', ..., '2014-12-31T21:00:00.000000000',\n",
      "       '2014-12-31T22:00:00.000000000', '2014-12-31T23:00:00.000000000'],\n",
      "      dtype='datetime64[ns]')\n",
      "Coordinates:\n",
      "  * time     (time) datetime64[ns] 2014-01-01 ... 2014-12-31T23:00:00\n",
      "Attributes:\n",
      "    long_name:  time\n",
      "<xarray.Dataset>\n",
      "Dimensions:    (latitude: 181, longitude: 360, time: 8760)\n",
      "Coordinates:\n",
      "  * longitude  (longitude) float32 0.0 1.0 2.0 3.0 ... 356.0 357.0 358.0 359.0\n",
      "  * latitude   (latitude) float32 90.0 89.0 88.0 87.0 ... -88.0 -89.0 -90.0\n",
      "  * time       (time) datetime64[ns] 2014-01-01 ... 2014-12-31T23:00:00\n",
      "Data variables:\n",
      "    tp         (time, latitude, longitude) float32 ...\n",
      "Attributes:\n",
      "    Conventions:  CF-1.6\n",
      "    history:      2020-12-17 09:13:07 GMT by grib_to_netcdf-2.16.0: /opt/ecmw...\n"
     ]
    }
   ],
   "source": [
    "tmpfile = '/localdrive/drive6/era5/data/six_hrly/data_1deg/tp/tp_2014_6hrly.nc'\n",
    "ds = xr.open_dataset(tmpfile)\n",
    "print(f'Time Variable Length: {len(ds.time)}\\n\\n', ds.time)\n",
    "ds.close()"
   ]
  },
  {
   "cell_type": "markdown",
   "metadata": {},
   "source": [
    "# Creating the VAR file that contains all the necessary years"
   ]
  },
  {
   "cell_type": "code",
   "execution_count": 6,
   "metadata": {},
   "outputs": [],
   "source": [
    "# start year to end year+1\n",
    "year_range = [2014, 2015]\n",
    "\n",
    "# var map, variable name in code to the input variable name\n",
    "in_var_fn_map = {'tp': 'tp'}\n",
    "in_var_map = {'tp': 'tp'}\n",
    "in_var_scale = {'tp': 10*100.0}\n",
    "in_var_offset = {'tp': 0.0}\n",
    "\n",
    "# var map, variable name in code to the output variable name\n",
    "out_var_map = {'tp': 'TP'}\n",
    "out_var_long_name = {'tp': 'Total Precipitation'}\n",
    "out_var_units = {'tp': 'mm/day'}"
   ]
  },
  {
   "cell_type": "code",
   "execution_count": 7,
   "metadata": {},
   "outputs": [
    {
     "name": "stdout",
     "output_type": "stream",
     "text": [
      "Number of days: 730\n"
     ]
    }
   ],
   "source": [
    "days = (dt.datetime(year_range[1], 12, 31) - dt.datetime(year_range[0], 1, 1)).days + 1\n",
    "print(f'Number of days: {days}')"
   ]
  },
  {
   "cell_type": "code",
   "execution_count": 10,
   "metadata": {},
   "outputs": [
    {
     "name": "stdout",
     "output_type": "stream",
     "text": [
      "Dimension: (time x lat x lon) --> 17520 x 181 x 360\n"
     ]
    }
   ],
   "source": [
    "# getting the time dimension length\n",
    "time_dim = 0\n",
    "var = 'tp'\n",
    "in_time = []\n",
    "in_var = []\n",
    "for i_year, year in enumerate(range(year_range[0], year_range[1]+1)):\n",
    "    in_file = os.path.join(in_folder, f\"{in_var_fn_map[var]}/{in_var_fn_map[var]}_{year}_6hrly.nc\")\n",
    "    ds = xr.open_dataset(in_file)\n",
    "    time_dim += len(ds.time)\n",
    "    lat_dim = len(ds.latitude)\n",
    "    lon_dim = len(ds.longitude)\n",
    "    in_time.extend(ds.time.values)\n",
    "    in_var.extend(ds[in_var_map[var]].values * in_var_scale[var])\n",
    "    in_lat = ds.latitude.values\n",
    "    in_lon = ds.longitude.values\n",
    "    ds.close()\n",
    "    \n",
    "print(f\"Dimension: (time x lat x lon) --> {time_dim} x {lat_dim} x {lon_dim}\")"
   ]
  },
  {
   "cell_type": "code",
   "execution_count": 11,
   "metadata": {},
   "outputs": [
    {
     "name": "stdout",
     "output_type": "stream",
     "text": [
      "(17520, 181, 360)\n"
     ]
    }
   ],
   "source": [
    "in_var = np.array(in_var)\n",
    "print(in_var.shape)"
   ]
  },
  {
   "cell_type": "code",
   "execution_count": 12,
   "metadata": {},
   "outputs": [
    {
     "name": "stdout",
     "output_type": "stream",
     "text": [
      "17520\n"
     ]
    }
   ],
   "source": [
    "in_datetimes = np.array([pd.to_datetime(i_time) for i_time in in_time])\n",
    "in_dates = np.array([pd.to_datetime(i_time).date() for i_time in in_time])\n",
    "print(len(in_dates))"
   ]
  },
  {
   "cell_type": "code",
   "execution_count": 13,
   "metadata": {},
   "outputs": [],
   "source": [
    "in_hour = np.array([i.hour for i in in_datetimes])"
   ]
  },
  {
   "cell_type": "code",
   "execution_count": 14,
   "metadata": {},
   "outputs": [],
   "source": [
    "out_time = [dt.datetime(year_range[0], 1, 1) + dt.timedelta(days=day) for day in range(days)]\n",
    "out_date = [dt.date(year_range[0], 1, 1) + dt.timedelta(days=day) for day in range(days)]\n",
    "out_var = np.empty((len(out_date), in_var.shape[1], in_var.shape[2]))*np.nan\n",
    "\n",
    "for i, i_date in enumerate(out_date): \n",
    "    ind1 = (in_dates == i_date) & (in_hour > 0)\n",
    "    ind2 = (in_dates == i_date+dt.timedelta(days=1)) & (in_hour == 0)\n",
    "    ind = ind1 | ind2\n",
    "    out_var[i, :, :] = np.nansum(in_var[ind, :, :], axis=0)"
   ]
  },
  {
   "cell_type": "code",
   "execution_count": 15,
   "metadata": {},
   "outputs": [],
   "source": [
    "# Getting the co-ordinates\n",
    "out_lat = in_lat\n",
    "out_lon = in_lon"
   ]
  },
  {
   "cell_type": "code",
   "execution_count": 17,
   "metadata": {},
   "outputs": [],
   "source": [
    "out_time = np.arange(0, len(out_date))\n",
    "out_date_str = np.array([f'{i.year:04d}{i.month:02d}{i.day:02d}' for i in out_date])\n",
    "\n",
    "# out file \n",
    "out_file = f\"/mnt/drive1/jj/tmp/era5_tp_daily_2014_2015.nc\"\n",
    "out_ds = xr.Dataset({\n",
    "    'date': (('time'), out_date_str),\n",
    "    out_var_map[var]: (('time', 'lat', 'lon'), out_var), \n",
    "}, \n",
    "coords={\n",
    "    'time': out_time, \n",
    "    'lat': out_lat, \n",
    "    'lon': out_lon,\n",
    "},\n",
    ")\n",
    "\n",
    "# lon attribs\n",
    "out_ds.lon.attrs['long_name'] = 'longitude'\n",
    "out_ds.lon.attrs['units'] = 'degrees_east'\n",
    "\n",
    "# lat attribs\n",
    "out_ds.lat.attrs['long_name'] = 'latitude'\n",
    "out_ds.lat.attrs['units'] = 'degrees_north'\n",
    "\n",
    "# time attribs\n",
    "out_ds.time.attrs['long_name'] = 'time'\n",
    "out_ds.time.attrs['units'] = f\"days since {year_range[0]}-01-01 00:00:00\"\n",
    "out_ds.time.attrs['calendar'] = calendar_type\n",
    "\n",
    "# date attribs\n",
    "out_ds.date.attrs['long_name'] = 'current date (YYYYMMDD)'\n",
    "\n",
    "# slp attribs\n",
    "out_ds[out_var_map[var]].attrs['long_name'] = out_var_long_name[var]\n",
    "out_ds[out_var_map[var]].attrs['units'] = out_var_units[var]\n",
    "\n",
    "out_ds.to_netcdf(out_file)\n",
    "out_ds.close()"
   ]
  },
  {
   "cell_type": "code",
   "execution_count": null,
   "metadata": {},
   "outputs": [],
   "source": []
  },
  {
   "cell_type": "code",
   "execution_count": 18,
   "metadata": {},
   "outputs": [
    {
     "data": {
      "text/plain": [
       "<matplotlib.collections.QuadMesh at 0x7fb18843fa58>"
      ]
     },
     "execution_count": 18,
     "metadata": {},
     "output_type": "execute_result"
    },
    {
     "data": {
      "image/png": "[encoded data removed]",
      "text/plain": [
       "<Figure size 432x288 with 2 Axes>"
      ]
     },
     "metadata": {
      "needs_background": "light"
     },
     "output_type": "display_data"
    }
   ],
   "source": [
    "out_ds.TP.isel(time=1).plot()"
   ]
  },
  {
   "cell_type": "code",
   "execution_count": null,
   "metadata": {},
   "outputs": [],
   "source": []
  }
 ],
 "metadata": {
  "kernelspec": {
   "display_name": "Python [conda env:mcms] *",
   "language": "python",
   "name": "conda-env-mcms-py"
  },
  "language_info": {
   "codemirror_mode": {
    "name": "ipython",
    "version": 3
   },
   "file_extension": ".py",
   "mimetype": "text/x-python",
   "name": "python",
   "nbconvert_exporter": "python",
   "pygments_lexer": "ipython3",
   "version": "3.6.8"
  }
 },
 "nbformat": 4,
 "nbformat_minor": 4
}
