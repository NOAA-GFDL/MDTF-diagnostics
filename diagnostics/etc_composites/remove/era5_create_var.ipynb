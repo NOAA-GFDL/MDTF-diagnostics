{
 "cells": [
  {
   "cell_type": "markdown",
   "metadata": {},
   "source": [
    "# Create SLP, PRW(TWCV), W500\n",
    "\n",
    "set tp_type as 'MTPR' or 'TP' to save the appropriate inputdata folder"
   ]
  },
  {
   "cell_type": "code",
   "execution_count": 1,
   "metadata": {},
   "outputs": [],
   "source": [
    "import numpy as np \n",
    "import xarray as xr \n",
    "import matplotlib.pyplot as plt \n",
    "import cartopy\n",
    "import os\n",
    "import pandas as pd\n",
    "import cftime\n",
    "import datetime as dt\n",
    "import tqdm\n",
    "import netCDF4 as nc\n",
    "import glob\n",
    "\n",
    "import subprocess\n",
    "import cftime"
   ]
  },
  {
   "cell_type": "code",
   "execution_count": 2,
   "metadata": {},
   "outputs": [],
   "source": [
    "calendar_type = 'proleptic_gregorian'\n",
    "# calendar_type = 'standard'"
   ]
  },
  {
   "cell_type": "code",
   "execution_count": 3,
   "metadata": {},
   "outputs": [],
   "source": [
    "tp_type = 'TP'\n",
    "\n",
    "# in_folder = '/localdrive/drive6/era5/data/six_hrly/data_1deg'\n",
    "# deg_type = 'DEG10'\n",
    "\n",
    "in_folder = '/localdrive/drive6/era5/data/six_hrly/data_1_5deg'\n",
    "deg_type = 'DEG15'"
   ]
  },
  {
   "cell_type": "code",
   "execution_count": null,
   "metadata": {},
   "outputs": [],
   "source": []
  },
  {
   "cell_type": "markdown",
   "metadata": {},
   "source": [
    "# Creating the VAR file that contains all the necessary years"
   ]
  },
  {
   "cell_type": "code",
   "execution_count": 4,
   "metadata": {},
   "outputs": [],
   "source": [
    "# start year to end year+1\n",
    "year_range = [2008, 2013]\n",
    "num_years = year_range[1] - year_range[0]\n",
    "\n",
    "# var map, variable name in code to the input variable name\n",
    "in_var_fn_map = {'slp': 'msl', 'w500': 'w500', 'tcwv': 'tcwv', 'uv10': 'uv10'}\n",
    "in_var_map = {'slp': 'msl', 'w500': 'w', 'tcwv': 'tcwv', 'uv10': 'uv10'}\n",
    "in_var_scale = {'slp': 1.0/100., 'w500': 1.0, 'tcwv': 1.0, 'uv10': 1.0}\n",
    "in_var_offset = {'slp': 0.0, 'w500': 0.0, 'tcwv': 0.0, 'uv10': 0.0}\n",
    "\n",
    "# var map, variable name in code to the output variable name\n",
    "out_var_map = {'slp': 'SLP', 'w500': 'W500', 'tcwv': 'PRW', 'uv10': 'UV10'}\n",
    "out_var_long_name = {'slp': 'Sea Level Pressure', \\\n",
    "                     'w500': 'Vertical Velocity at 500hPa', 'tcwv': 'Total Column Water Vapor', \\\n",
    "                     'uv10': 'Wind Speeds'}\n",
    "out_var_units = {'slp': 'mb', 'w500': 'Pa/s', 'tcwv': 'mm/hr', 'uv10': 'm/s'}"
   ]
  },
  {
   "cell_type": "code",
   "execution_count": 5,
   "metadata": {},
   "outputs": [
    {
     "name": "stdout",
     "output_type": "stream",
     "text": [
      "Dimension: (time x lat x lon) --> 7308 x 121 x 240\n"
     ]
    }
   ],
   "source": [
    "# getting the time dimension length\n",
    "time_dim = 0\n",
    "var = 'slp'\n",
    "for i_year, year in enumerate(range(year_range[0], year_range[1])):\n",
    "    in_file = os.path.join(in_folder, f\"{in_var_fn_map[var]}/{in_var_fn_map[var]}_{year}_6hrly.nc\")\n",
    "    ds = xr.open_dataset(in_file)\n",
    "    time_dim += len(ds.time)\n",
    "    lat_dim = len(ds.latitude)\n",
    "    lon_dim = len(ds.longitude)\n",
    "    ds.close()\n",
    "    \n",
    "print(f\"Dimension: (time x lat x lon) --> {time_dim} x {lat_dim} x {lon_dim}\")"
   ]
  },
  {
   "cell_type": "code",
   "execution_count": 6,
   "metadata": {},
   "outputs": [
    {
     "name": "stdout",
     "output_type": "stream",
     "text": [
      "{'slp': 'SLP', 'w500': 'W500', 'tcwv': 'PRW', 'uv10': 'UV10'}\n"
     ]
    }
   ],
   "source": [
    "print(out_var_map)"
   ]
  },
  {
   "cell_type": "code",
   "execution_count": 7,
   "metadata": {},
   "outputs": [
    {
     "name": "stderr",
     "output_type": "stream",
     "text": [
      "/home/jj/anaconda3/envs/mcms/lib/python3.6/site-packages/ipykernel_launcher.py:15: TqdmDeprecationWarning: This function will be removed in tqdm==5.0.0\n",
      "Please use `tqdm.notebook.tqdm` instead of `tqdm.tqdm_notebook`\n",
      "  from ipykernel import kernelapp as app\n"
     ]
    },
    {
     "data": {
      "application/vnd.jupyter.widget-view+json": {
       "model_id": "db98098541bc4c7d814076a4e56fa09e",
       "version_major": 2,
       "version_minor": 0
      },
      "text/plain": [
       "HBox(children=(FloatProgress(value=0.0, description='SLP', max=5.0, style=ProgressStyle(description_width='ini…"
      ]
     },
     "metadata": {},
     "output_type": "display_data"
    },
    {
     "name": "stdout",
     "output_type": "stream",
     "text": [
      "\n"
     ]
    },
    {
     "name": "stderr",
     "output_type": "stream",
     "text": [
      "/home/jj/anaconda3/envs/mcms/lib/python3.6/site-packages/ipykernel_launcher.py:15: TqdmDeprecationWarning: This function will be removed in tqdm==5.0.0\n",
      "Please use `tqdm.notebook.tqdm` instead of `tqdm.tqdm_notebook`\n",
      "  from ipykernel import kernelapp as app\n"
     ]
    },
    {
     "data": {
      "application/vnd.jupyter.widget-view+json": {
       "model_id": "03db9611bfe14e1e8daedafea3d47ba1",
       "version_major": 2,
       "version_minor": 0
      },
      "text/plain": [
       "HBox(children=(FloatProgress(value=0.0, description='W500', max=5.0, style=ProgressStyle(description_width='in…"
      ]
     },
     "metadata": {},
     "output_type": "display_data"
    },
    {
     "name": "stdout",
     "output_type": "stream",
     "text": [
      "\n"
     ]
    },
    {
     "name": "stderr",
     "output_type": "stream",
     "text": [
      "/home/jj/anaconda3/envs/mcms/lib/python3.6/site-packages/ipykernel_launcher.py:15: TqdmDeprecationWarning: This function will be removed in tqdm==5.0.0\n",
      "Please use `tqdm.notebook.tqdm` instead of `tqdm.tqdm_notebook`\n",
      "  from ipykernel import kernelapp as app\n"
     ]
    },
    {
     "data": {
      "application/vnd.jupyter.widget-view+json": {
       "model_id": "eab8054b1fb8436bb26ae34e8b9fadc2",
       "version_major": 2,
       "version_minor": 0
      },
      "text/plain": [
       "HBox(children=(FloatProgress(value=0.0, description='TCWV', max=5.0, style=ProgressStyle(description_width='in…"
      ]
     },
     "metadata": {},
     "output_type": "display_data"
    },
    {
     "name": "stdout",
     "output_type": "stream",
     "text": [
      "\n"
     ]
    }
   ],
   "source": [
    "# Running the code for the variable list\n",
    "var_list = ['slp', 'w500', 'tcwv']\n",
    "\n",
    "for var in var_list:\n",
    "    \n",
    "    # initiallizing the variable output sizes\n",
    "    out_var = np.empty((time_dim, lat_dim, lon_dim))\n",
    "    out_time = np.zeros((time_dim,))\n",
    "    out_time_bnds = np.zeros((time_dim, 2))\n",
    "    out_date = np.empty(out_time.shape, dtype=int)\n",
    "    \n",
    "    tmp_time_dim = 0\n",
    "   \n",
    "    # looping through all the years to create the single file that has all the necessary years\n",
    "    for i_year, year in tqdm.tqdm_notebook(enumerate(range(year_range[0], year_range[1])), total=num_years, desc=f\"{var.upper()}\"): \n",
    "        in_file = os.path.join(in_folder, f\"{in_var_fn_map[var]}/{in_var_fn_map[var]}_{year}_6hrly.nc\")\n",
    "        if (not os.path.exists(in_file)):\n",
    "            raise Exception('No file found.') \n",
    "        ds = xr.open_dataset(in_file)\n",
    "        in_lat = ds.variables['latitude'].values\n",
    "        in_lon = ds.variables['longitude'].values\n",
    "        in_var = ds.variables[in_var_map[var]].values\n",
    "        curr_time_dim = len(ds.time)\n",
    "        ds.close()\n",
    "        \n",
    "        in_time = (np.arange(0, curr_time_dim, 1) + tmp_time_dim)*6.\n",
    "        tmp_date = [dt.datetime(year_range[0], 1, 1) + dt.timedelta(hours=i_time) for i_time in in_time]\n",
    "        in_date = [int(f\"{i_date.year:04d}{i_date.month:02d}{i_date.day:02d}\") for i_date in tmp_date]\n",
    "        \n",
    "        # selecting only the first 1460 to match the model output which is of a 365 year calendar\n",
    "        out_date[tmp_time_dim:tmp_time_dim+curr_time_dim] = in_date\n",
    "        out_time[tmp_time_dim:tmp_time_dim+curr_time_dim] = in_time\n",
    "        out_var[tmp_time_dim:tmp_time_dim+curr_time_dim, :, :] = (in_var*in_var_scale[var] + in_var_offset[var])\n",
    "        tmp_time_dim += curr_time_dim\n",
    "        \n",
    "    # getting the output variables\n",
    "    out_lat = in_lat\n",
    "    out_lon = in_lon\n",
    "\n",
    "    # getting the output time bounds\n",
    "    out_time_bnds[:, 1] = out_time\n",
    "    out_time_bnds[0, 0] = out_time[0]\n",
    "    out_time_bnds[1:, 0] = out_time[:-1]\n",
    "    \n",
    "    # out file \n",
    "    out_file = f\"/localdrive/drive10/jj/mdtf/inputdata/model/ERA5.{tp_type}.{deg_type}.001/6hr/ERA5.{tp_type}.{deg_type}.001.{out_var_map[var]}.6hr.nc\"\n",
    "    out_ds = xr.Dataset({\n",
    "        'time_bnds': (('time', 'nbnd'), out_time_bnds), \n",
    "        'date': (('time'), out_date),\n",
    "        out_var_map[var]: (('time', 'lat', 'lon'), out_var), \n",
    "    }, \n",
    "    coords={\n",
    "        'time': out_time, \n",
    "        'lat': out_lat, \n",
    "        'lon': out_lon,\n",
    "        'nbnd': [1, 2]\n",
    "    },\n",
    "    )\n",
    "\n",
    "    # lon attribs\n",
    "    out_ds.lon.attrs['long_name'] = 'longitude'\n",
    "    out_ds.lon.attrs['units'] = 'degrees_east'\n",
    "\n",
    "    # lat attribs\n",
    "    out_ds.lat.attrs['long_name'] = 'latitude'\n",
    "    out_ds.lat.attrs['units'] = 'degrees_north'\n",
    "\n",
    "    # time attribs\n",
    "    out_ds.time.attrs['long_name'] = 'time'\n",
    "    out_ds.time.attrs['units'] = f\"hours since {year_range[0]}-01-01 00:00:00\"\n",
    "    out_ds.time.attrs['calendar'] = calendar_type\n",
    "    out_ds.time.attrs['bounds'] = 'time_bnds'\n",
    "\n",
    "    # time_bnds attribs\n",
    "    out_ds.time_bnds.attrs['long_name'] = 'time interval endpoints'\n",
    "\n",
    "    # date attribs\n",
    "    out_ds.date.attrs['long_name'] = 'current date (YYYYMMDD)'\n",
    "\n",
    "    # slp attribs\n",
    "    out_ds[out_var_map[var]].attrs['long_name'] = out_var_long_name[var]\n",
    "    out_ds[out_var_map[var]].attrs['units'] = out_var_units[var]\n",
    "\n",
    "    out_ds.to_netcdf(out_file)\n",
    "    out_ds.close()"
   ]
  },
  {
   "cell_type": "code",
   "execution_count": null,
   "metadata": {},
   "outputs": [],
   "source": []
  },
  {
   "cell_type": "code",
   "execution_count": null,
   "metadata": {},
   "outputs": [],
   "source": []
  }
 ],
 "metadata": {
  "kernelspec": {
   "display_name": "Python [conda env:mcms] *",
   "language": "python",
   "name": "conda-env-mcms-py"
  },
  "language_info": {
   "codemirror_mode": {
    "name": "ipython",
    "version": 3
   },
   "file_extension": ".py",
   "mimetype": "text/x-python",
   "name": "python",
   "nbconvert_exporter": "python",
   "pygments_lexer": "ipython3",
   "version": "3.6.8"
  }
 },
 "nbformat": 4,
 "nbformat_minor": 4
}
