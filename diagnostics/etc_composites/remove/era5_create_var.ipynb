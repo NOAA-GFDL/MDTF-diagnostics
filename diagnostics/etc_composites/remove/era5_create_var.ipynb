{
 "cells": [
  {
   "cell_type": "markdown",
   "metadata": {},
   "source": [
    "# Create SLP, PRW(TWCV), W500\n",
    "\n",
    "set tp_type as 'MTPR' or 'TP' to save the appropriate inputdata folder"
   ]
  },
  {
   "cell_type": "code",
   "execution_count": 166,
   "metadata": {},
   "outputs": [],
   "source": [
    "import numpy as np \n",
    "import xarray as xr \n",
    "import matplotlib.pyplot as plt \n",
    "import cartopy\n",
    "import os\n",
    "import pandas as pd\n",
    "import cftime\n",
    "import datetime as dt\n",
    "from tqdm import tqdm, notebook\n",
    "import netCDF4 as nc\n",
    "import glob\n",
    "\n",
    "import subprocess\n",
    "import cftime\n",
    "\n",
    "from netCDF4 import Dataset"
   ]
  },
  {
   "cell_type": "code",
   "execution_count": 147,
   "metadata": {},
   "outputs": [],
   "source": [
    "calendar_type = 'proleptic_gregorian'\n",
    "# calendar_type = 'standard'"
   ]
  },
  {
   "cell_type": "code",
   "execution_count": 148,
   "metadata": {},
   "outputs": [],
   "source": [
    "tp_type = 'TP'\n",
    "\n",
    "# in_folder = '/localdrive/drive6/era5/data/six_hrly/data_1deg'\n",
    "# deg_type = 'DEG10'\n",
    "\n",
    "in_folder = '/localdrive/drive6/era5/data/six_hrly/data_1_5deg'\n",
    "deg_type = 'DEG15'"
   ]
  },
  {
   "cell_type": "markdown",
   "metadata": {},
   "source": [
    "# Manually converting all the expver files to regular files"
   ]
  },
  {
   "cell_type": "code",
   "execution_count": 172,
   "metadata": {},
   "outputs": [],
   "source": [
    "file = '/localdrive/drive6/era5/data/six_hrly/data_1_5deg/msl/msl_2020_6hrly_expver.nc'\n",
    "out_file = '/localdrive/drive6/era5/data/six_hrly/data_1_5deg/msl/msl_2020_6hrly.nc'\n",
    "ds = xr.open_dataset(file)"
   ]
  },
  {
   "cell_type": "code",
   "execution_count": 173,
   "metadata": {},
   "outputs": [
    {
     "data": {
      "application/vnd.jupyter.widget-view+json": {
       "model_id": "767c2b16e5da407ea14e156e71caec0e",
       "version_major": 2,
       "version_minor": 0
      },
      "text/plain": [
       "HBox(children=(FloatProgress(value=0.0, max=1464.0), HTML(value='')))"
      ]
     },
     "metadata": {},
     "output_type": "display_data"
    },
    {
     "name": "stdout",
     "output_type": "stream",
     "text": [
      "\n"
     ]
    }
   ],
   "source": [
    "ver1 = ds.sel(expver=1)\n",
    "ver5 = ds.sel(expver=5)\n",
    "out_var = np.zeros(ver1.msl.shape)*np.nan\n",
    "for i in notebook.tqdm(range(len(ds.time)), total=len(ds.time)):\n",
    "    ver1 = ds.sel(expver=1).isel(time=i)\n",
    "    ver5 = ds.sel(expver=5).isel(time=i)\n",
    "    if (np.all(np.isnan(ver1.msl.values)) & np.all(np.isnan(ver5.msl.values))):\n",
    "        print('hold on both are nans')\n",
    "        break\n",
    "    elif (np.all(np.isnan(ver1.msl.values))):\n",
    "        out_var[i, :, :] = ver5.msl.values\n",
    "    elif (np.all(np.isnan(ver5.msl.values))):\n",
    "        out_var[i, :, :] = ver1.msl.values\n",
    "    else:\n",
    "        print('hold on something neither is nan')\n",
    "        break"
   ]
  },
  {
   "cell_type": "code",
   "execution_count": 174,
   "metadata": {},
   "outputs": [],
   "source": [
    "ds = ds.sel(expver=1)\n",
    "ds = ds.drop('expver')"
   ]
  },
  {
   "cell_type": "code",
   "execution_count": 175,
   "metadata": {},
   "outputs": [],
   "source": [
    "ds['msl'] = (('time', 'latitude', 'longitude'), out_var)\n",
    "ds.to_netcdf(out_file)"
   ]
  },
  {
   "cell_type": "markdown",
   "metadata": {},
   "source": [
    "# Creating the VAR file that contains all the necessary years"
   ]
  },
  {
   "cell_type": "code",
   "execution_count": 176,
   "metadata": {},
   "outputs": [],
   "source": [
    "# start year to end year+1\n",
    "year_range = [1950, 2021]\n",
    "num_years = year_range[1] - year_range[0]\n",
    "\n",
    "# var map, variable name in code to the input variable name\n",
    "in_var_fn_map = {'slp': 'msl', 'w500': 'w500', 'tcwv': 'tcwv', 'uv10': 'uv10'}\n",
    "in_var_map = {'slp': 'msl', 'w500': 'w', 'tcwv': 'tcwv', 'uv10': 'uv10'}\n",
    "in_var_scale = {'slp': 1.0/100., 'w500': 1.0, 'tcwv': 1.0, 'uv10': 1.0}\n",
    "in_var_offset = {'slp': 0.0, 'w500': 0.0, 'tcwv': 0.0, 'uv10': 0.0}\n",
    "\n",
    "# var map, variable name in code to the output variable name\n",
    "out_var_map = {'slp': 'SLP', 'w500': 'W500', 'tcwv': 'PRW', 'uv10': 'UV10'}\n",
    "out_var_long_name = {'slp': 'Sea Level Pressure', \\\n",
    "                     'w500': 'Vertical Velocity at 500hPa', 'tcwv': 'Total Column Water Vapor', \\\n",
    "                     'uv10': 'Wind Speeds'}\n",
    "out_var_units = {'slp': 'mb', 'w500': 'Pa/s', 'tcwv': 'mm/hr', 'uv10': 'm/s'}"
   ]
  },
  {
   "cell_type": "code",
   "execution_count": 177,
   "metadata": {},
   "outputs": [
    {
     "name": "stdout",
     "output_type": "stream",
     "text": [
      "Dimension: (time x lat x lon) --> 103732 x 121 x 240\n"
     ]
    }
   ],
   "source": [
    "# getting the time dimension length\n",
    "time_dim = 0\n",
    "var = 'slp'\n",
    "for i_year, year in enumerate(range(year_range[0], year_range[1])):\n",
    "    in_file = os.path.join(in_folder, f\"{in_var_fn_map[var]}/{in_var_fn_map[var]}_{year}_6hrly.nc\")\n",
    "    ds = xr.open_dataset(in_file)\n",
    "    time_dim += len(ds.time)\n",
    "    lat_dim = len(ds.latitude)\n",
    "    lon_dim = len(ds.longitude)\n",
    "    ds.close()\n",
    "    \n",
    "print(f\"Dimension: (time x lat x lon) --> {time_dim} x {lat_dim} x {lon_dim}\")"
   ]
  },
  {
   "cell_type": "code",
   "execution_count": 178,
   "metadata": {},
   "outputs": [
    {
     "name": "stdout",
     "output_type": "stream",
     "text": [
      "{'slp': 'SLP', 'w500': 'W500', 'tcwv': 'PRW', 'uv10': 'UV10'}\n",
      "103732\n"
     ]
    }
   ],
   "source": [
    "print(out_var_map)\n",
    "print(time_dim)"
   ]
  },
  {
   "cell_type": "code",
   "execution_count": 179,
   "metadata": {},
   "outputs": [
    {
     "data": {
      "application/vnd.jupyter.widget-view+json": {
       "model_id": "64f3cf69c9ef4e0185fc0be88119e524",
       "version_major": 2,
       "version_minor": 0
      },
      "text/plain": [
       "HBox(children=(FloatProgress(value=0.0, description='SLP', max=71.0, style=ProgressStyle(description_width='in…"
      ]
     },
     "metadata": {},
     "output_type": "display_data"
    },
    {
     "name": "stdout",
     "output_type": "stream",
     "text": [
      "\n"
     ]
    }
   ],
   "source": [
    "# Running the code for the variable list\n",
    "# var_list = ['slp', 'w500', 'tcwv']\n",
    "var_list = ['slp']\n",
    "tp_type = 'ALL'\n",
    "\n",
    "for var in var_list:\n",
    "    \n",
    "    # initiallizing the variable output sizes\n",
    "    out_var = np.empty((time_dim, lat_dim, lon_dim))\n",
    "    out_time = np.zeros((time_dim,))\n",
    "    out_time_bnds = np.zeros((time_dim, 2))\n",
    "    out_date = np.empty(out_time.shape, dtype=int)\n",
    "    \n",
    "    tmp_time_dim = 0\n",
    "   \n",
    "    # looping through all the years to create the single file that has all the necessary years\n",
    "    for i_year, year in notebook.tqdm(enumerate(range(year_range[0], year_range[1])), total=num_years, desc=f\"{var.upper()}\"): \n",
    "        in_file = os.path.join(in_folder, f\"{in_var_fn_map[var]}/{in_var_fn_map[var]}_{year}_6hrly.nc\")\n",
    "        if (not os.path.exists(in_file)):\n",
    "            raise Exception('No file found.') \n",
    "        ds = xr.open_dataset(in_file)\n",
    "        in_lat = ds.variables['latitude'].values\n",
    "        in_lon = ds.variables['longitude'].values\n",
    "        in_var = ds.variables[in_var_map[var]].values\n",
    "        curr_time_dim = len(ds.time)\n",
    "        ds.close()\n",
    "        \n",
    "        in_time = (np.arange(0, curr_time_dim, 1) + tmp_time_dim)*6.\n",
    "        tmp_date = [dt.datetime(year_range[0], 1, 1) + dt.timedelta(hours=i_time) for i_time in in_time]\n",
    "        in_date = [int(f\"{i_date.year:04d}{i_date.month:02d}{i_date.day:02d}\") for i_date in tmp_date]\n",
    "        \n",
    "        # selecting only the first 1460 to match the model output which is of a 365 year calendar\n",
    "        out_date[tmp_time_dim:tmp_time_dim+curr_time_dim] = in_date\n",
    "        out_time[tmp_time_dim:tmp_time_dim+curr_time_dim] = in_time\n",
    "        out_var[tmp_time_dim:tmp_time_dim+curr_time_dim, :, :] = (in_var*in_var_scale[var] + in_var_offset[var])\n",
    "        tmp_time_dim += curr_time_dim\n",
    "        \n",
    "    # getting the output variables\n",
    "    out_lat = in_lat\n",
    "    out_lon = in_lon\n",
    "\n",
    "    # getting the output time bounds\n",
    "    out_time_bnds[:, 1] = out_time\n",
    "    out_time_bnds[0, 0] = out_time[0]\n",
    "    out_time_bnds[1:, 0] = out_time[:-1]\n",
    "    \n",
    "    # out file \n",
    "    out_file = f\"/localdrive/drive10/jj/mdtf/inputdata/model/ERA5.{tp_type}.{deg_type}.001/6hr/ERA5.{tp_type}.{deg_type}.001.{out_var_map[var]}.6hr.nc\"\n",
    "    out_ds = xr.Dataset({\n",
    "        'time_bnds': (('time', 'nbnd'), out_time_bnds), \n",
    "        'date': (('time'), out_date),\n",
    "        out_var_map[var]: (('time', 'lat', 'lon'), out_var), \n",
    "    }, \n",
    "    coords={\n",
    "        'time': out_time, \n",
    "        'lat': out_lat, \n",
    "        'lon': out_lon,\n",
    "        'nbnd': [1, 2]\n",
    "    },\n",
    "    )\n",
    "\n",
    "    # lon attribs\n",
    "    out_ds.lon.attrs['long_name'] = 'longitude'\n",
    "    out_ds.lon.attrs['units'] = 'degrees_east'\n",
    "\n",
    "    # lat attribs\n",
    "    out_ds.lat.attrs['long_name'] = 'latitude'\n",
    "    out_ds.lat.attrs['units'] = 'degrees_north'\n",
    "\n",
    "    # time attribs\n",
    "    out_ds.time.attrs['long_name'] = 'time'\n",
    "    out_ds.time.attrs['units'] = f\"hours since {year_range[0]}-01-01 00:00:00\"\n",
    "    out_ds.time.attrs['calendar'] = calendar_type\n",
    "    out_ds.time.attrs['bounds'] = 'time_bnds'\n",
    "\n",
    "    # time_bnds attribs\n",
    "    out_ds.time_bnds.attrs['long_name'] = 'time interval endpoints'\n",
    "\n",
    "    # date attribs\n",
    "    out_ds.date.attrs['long_name'] = 'current date (YYYYMMDD)'\n",
    "\n",
    "    # slp attribs\n",
    "    out_ds[out_var_map[var]].attrs['long_name'] = out_var_long_name[var]\n",
    "    out_ds[out_var_map[var]].attrs['units'] = out_var_units[var]\n",
    "\n",
    "    out_ds.to_netcdf(out_file)\n",
    "    out_ds.close()"
   ]
  },
  {
   "cell_type": "code",
   "execution_count": null,
   "metadata": {},
   "outputs": [],
   "source": []
  },
  {
   "cell_type": "code",
   "execution_count": 180,
   "metadata": {},
   "outputs": [
    {
     "name": "stdout",
     "output_type": "stream",
     "text": [
      "20201231\n"
     ]
    }
   ],
   "source": [
    "print(out_date[-1])"
   ]
  },
  {
   "cell_type": "code",
   "execution_count": null,
   "metadata": {},
   "outputs": [],
   "source": []
  },
  {
   "cell_type": "code",
   "execution_count": null,
   "metadata": {},
   "outputs": [],
   "source": []
  },
  {
   "cell_type": "code",
   "execution_count": null,
   "metadata": {},
   "outputs": [],
   "source": []
  },
  {
   "cell_type": "code",
   "execution_count": null,
   "metadata": {},
   "outputs": [],
   "source": [
    "file = '/localdrive/drive6/era5/data/six_hrly/data_1_5deg/msl/msl_2020_6hrly.nc'\n",
    "ds = xr.open_dataset(file)"
   ]
  },
  {
   "cell_type": "code",
   "execution_count": null,
   "metadata": {},
   "outputs": [],
   "source": [
    "ver1 = ds.sel(expver=1)\n",
    "ver5 = ds.sel(expver=5)"
   ]
  },
  {
   "cell_type": "code",
   "execution_count": null,
   "metadata": {},
   "outputs": [],
   "source": [
    "# ver5.msl.isel(time=1410).plot()\n",
    "# ver1.msl.isel(time=1410).plot()"
   ]
  },
  {
   "cell_type": "code",
   "execution_count": null,
   "metadata": {},
   "outputs": [],
   "source": [
    "x1 = ver1.msl.isel(time=10).values\n",
    "x2 = ver1.msl.isel(time=100).values\n",
    "# x2 = ver5.msl.isel(time=0).values\n",
    "\n",
    "plt.figure()\n",
    "plt.pcolormesh(x1-x2, cmap='bwr'); \n",
    "plt.colorbar()\n",
    "plt.show()"
   ]
  }
 ],
 "metadata": {
  "kernelspec": {
   "display_name": "Python [conda env:mcms] *",
   "language": "python",
   "name": "conda-env-mcms-py"
  },
  "language_info": {
   "codemirror_mode": {
    "name": "ipython",
    "version": 3
   },
   "file_extension": ".py",
   "mimetype": "text/x-python",
   "name": "python",
   "nbconvert_exporter": "python",
   "pygments_lexer": "ipython3",
   "version": "3.6.8"
  }
 },
 "nbformat": 4,
 "nbformat_minor": 4
}
