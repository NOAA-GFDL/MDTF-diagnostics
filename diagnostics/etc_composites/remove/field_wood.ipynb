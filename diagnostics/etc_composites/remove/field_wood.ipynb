{
 "cells": [
  {
   "cell_type": "code",
   "execution_count": 170,
   "metadata": {},
   "outputs": [],
   "source": [
    "import numpy as np \n",
    "import matplotlib.pyplot as plt\n",
    "import scipy.io as sio\n",
    "import xarray as xr\n",
    "\n",
    "from tqdm import tqdm, notebook\n",
    "\n",
    "import sys\n",
    "sys.path.append('../util/')\n",
    "if not sys.warnoptions:\n",
    "    import warnings\n",
    "    warnings.simplefilter(\"ignore\")\n",
    "    \n",
    "import time\n",
    "\n",
    "import numpy as np \n",
    "import scipy.io as sio\n",
    "import matplotlib.pyplot as plt\n",
    "import os, glob\n",
    "from netCDF4 import Dataset\n",
    "\n",
    "# temporarily defines all the enironmental variables to test the codee\n",
    "os.environ['DATADIR'] = '/localdrive/drive10/jj/mdtf/inputdata/model/GFDL.EXP1.2PM.001' \n",
    "os.environ['obs_lat_distrib_file'] = '/localdrive/drive10/jj/mdtf/inputdata/obs_data/etc_composites/erai_lat_distrib.pkl' \n",
    "os.environ['FIRSTYR'] = '2008' \n",
    "os.environ['LASTYR'] = '2012' \n",
    "os.environ['topo_file'] = '/localdrive/drive10/jj/mdtf/inputdata/model/GFDL.EXP1.2PM.001/topo.nc' \n",
    "os.environ['POD_HOME'] = '/localdrive/drive10/jj/mdtf/MDTF-diagnostics/diagnostics/etc_composites' \n",
    "os.environ['WK_DIR'] = '/localdrive/drive10/jj/mdtf/wkdir/MDTF_GFDL.EXP1.2PM.v14.001_2008_2012/etc_composites' \n",
    "os.environ['CASENAME'] = 'GFDL.EXP1.2PM.001' \n",
    "    \n",
    "import defines\n",
    "import datetime as dt\n",
    "\n",
    "import xarray as xr\n",
    "import pandas as pd\n",
    "\n",
    "import pdb\n",
    "\n",
    "import pickle\n",
    "# from tqdm import tqdm\n",
    "\n",
    "import sys\n",
    "sys.path.append(os.environ['POD_HOME']+'/util')\n",
    "\n",
    "import composites\n",
    "import reader\n",
    "\n",
    "import random\n",
    "random.seed(0)"
   ]
  },
  {
   "cell_type": "code",
   "execution_count": 171,
   "metadata": {},
   "outputs": [],
   "source": [
    "# The PW categories are: 0-11 mm, 11-19 mm, more than 19 mm\n",
    "# the ascent strength categories: less than -6.8 hPa/hr, -6.8 to -4.7 and between -4.7 and 0. \n",
    "\n",
    "prw_bins = [0, 11, 19, 999]\n",
    "w500_bins = [-999, -6.8, -4.7, 0]\n"
   ]
  },
  {
   "cell_type": "code",
   "execution_count": 172,
   "metadata": {},
   "outputs": [
    {
     "name": "stdout",
     "output_type": "stream",
     "text": [
      "/localdrive/drive10/jj/mdtf/wkdir/MDTF_GFDL.EXP1.2PM.v14.001_2008_2012/etc_composites/tmp/data_converts/tp.*.nc\n",
      "/localdrive/drive10/jj/mdtf/wkdir/MDTF_GFDL.EXP1.2PM.v14.001_2008_2012/etc_composites/tmp/data_converts/prw.*.nc\n",
      "/localdrive/drive10/jj/mdtf/wkdir/MDTF_GFDL.EXP1.2PM.v14.001_2008_2012/etc_composites/tmp/data_converts/w500.*.nc\n",
      "/localdrive/drive10/jj/mdtf/wkdir/MDTF_GFDL.EXP1.2PM.v14.001_2008_2012/etc_composites/tmp/data_converts/uv10.*.nc\n",
      "/localdrive/drive10/jj/mdtf/wkdir/MDTF_GFDL.EXP1.2PM.v14.001_2008_2012/etc_composites/tmp/data_converts/clt.*.nc\n",
      "Done symlinking the data files...\n"
     ]
    }
   ],
   "source": [
    "# var_list = ['tp', 'wap500', 'clt', 'slp', 'cls850']\n",
    "var_list = defines.composite_var_list\n",
    "to_folder = defines.data_folder\n",
    "if (not os.path.exists(to_folder)): \n",
    "  os.makedirs(to_folder)\n",
    "for var in var_list: \n",
    "  search_string = os.path.join(defines.var_data_directory, f'{var}.*.nc')\n",
    "  print(search_string)\n",
    "  for tmp_file in glob.glob(search_string):\n",
    "    tmp_file = os.path.basename(tmp_file)\n",
    "    from_file = os.path.join(defines.var_data_directory, tmp_file)\n",
    "    to_file =  os.path.join(to_folder, tmp_file)\n",
    "    cmd = f'ln -s {from_file} {to_file}'\n",
    "    os.system(cmd)\n",
    "\n",
    "print('Done symlinking the data files...')"
   ]
  },
  {
   "cell_type": "code",
   "execution_count": 173,
   "metadata": {},
   "outputs": [],
   "source": [
    "# defining the years to run the code for \n",
    "year_list = range(defines.composite_years[0], defines.composite_years[1]+1)\n",
    "\n",
    "# land mask \n",
    "ds = xr.open_dataset(defines.topo_file)\n",
    "if ('time' in ds.coords.keys()): \n",
    "  lm = ds.lsm.isel(time=0).values\n",
    "else: \n",
    "  lm = ds.lsm.values\n",
    "lm = (lm > defines.thresh_landsea)\n",
    "ds.close()\n",
    "\n",
    "# defining the dimensions of the composite values \n",
    "circ_dist_bins = np.arange(0, defines.circ['dist_max']+defines.circ['dist_div'], defines.circ['dist_div'])\n",
    "circ_ang_bins = np.arange(-180., 180+defines.circ['ang_div'], defines.circ['ang_div'])*np.pi/180\n",
    "circ_H_sum = np.zeros((len(circ_ang_bins)-1, len(circ_dist_bins)-1))\n",
    "circ_H_cnt = np.zeros((len(circ_ang_bins)-1, len(circ_dist_bins)-1))\n",
    "\n",
    "area_dist_bins = np.arange(-defines.area['dist_max'], defines.area['dist_max']+defines.area['dist_div'], defines.area['dist_div'])\n",
    "area_H_sum = np.zeros((len(area_dist_bins)-1, len(area_dist_bins)-1))\n",
    "area_H_cnt = np.zeros((len(area_dist_bins)-1, len(area_dist_bins)-1))"
   ]
  },
  {
   "cell_type": "code",
   "execution_count": 174,
   "metadata": {},
   "outputs": [],
   "source": [
    "# composite analysis creating init variables\n",
    "# ciruclar average, and area average\n",
    "comp = {}\n",
    "for hemis in defines.composite_hem_list: \n",
    "  comp[hemis] = {}\n",
    "  for lm_type in ['land', 'ocean']: \n",
    "    comp[hemis][lm_type] = {}\n",
    "    for season in ['all', 'djf', 'mam', 'jja', 'son', 'warm']:\n",
    "      comp[hemis][lm_type][season] = {}\n",
    "      for var in defines.composite_var_list:\n",
    "        comp[hemis][lm_type][season][var] = {}\n",
    "        comp[hemis][lm_type][season][var]['circ_sum'] = np.zeros(circ_H_sum.shape)\n",
    "        comp[hemis][lm_type][season][var]['circ_cnt'] = np.zeros(circ_H_cnt.shape)\n",
    "        comp[hemis][lm_type][season][var]['area_sum'] = np.zeros(area_H_sum.shape)\n",
    "        comp[hemis][lm_type][season][var]['area_cnt'] = np.zeros(area_H_cnt.shape)\n",
    "        \n",
    "comp['FW_sum'] = np.zeros((len(prw_bins), len(w500_bins), area_H_sum.shape[0], area_H_sum.shape[1]))\n",
    "comp['FW_cnt'] = np.zeros((len(prw_bins), len(w500_bins), area_H_cnt.shape[0], area_H_cnt.shape[1]))\n",
    "comp['FW_cases'] = np.zeros((len(prw_bins), len(w500_bins)))"
   ]
  },
  {
   "cell_type": "code",
   "execution_count": 175,
   "metadata": {},
   "outputs": [],
   "source": [
    "# Read in the lat distribution from ERA-Interim/OBS\n",
    "obs_distrib = pickle.load(open(os.environ['obs_lat_distrib_file'], 'rb'))\n",
    "\n",
    "# Randomly sample the dataset so that the bins have the same pct \n",
    "actual_obs_pct = obs_distrib['obs_pct']\n",
    "actual_all_pct = obs_distrib['all_pct']"
   ]
  },
  {
   "cell_type": "code",
   "execution_count": null,
   "metadata": {},
   "outputs": [],
   "source": []
  },
  {
   "cell_type": "code",
   "execution_count": 176,
   "metadata": {},
   "outputs": [
    {
     "data": {
      "application/vnd.jupyter.widget-view+json": {
       "model_id": "7f0f697621ee4c59844736579b4a3600",
       "version_major": 2,
       "version_minor": 0
      },
      "text/plain": [
       "HBox(children=(FloatProgress(value=0.0, max=1459.0), HTML(value='')))"
      ]
     },
     "metadata": {},
     "output_type": "display_data"
    },
    {
     "name": "stdout",
     "output_type": "stream",
     "text": [
      "\n"
     ]
    },
    {
     "data": {
      "application/vnd.jupyter.widget-view+json": {
       "model_id": "c961a5d377d3491c8ff6218018d6a052",
       "version_major": 2,
       "version_minor": 0
      },
      "text/plain": [
       "HBox(children=(FloatProgress(value=0.0, max=1459.0), HTML(value='')))"
      ]
     },
     "metadata": {},
     "output_type": "display_data"
    },
    {
     "name": "stdout",
     "output_type": "stream",
     "text": [
      "\n"
     ]
    },
    {
     "data": {
      "application/vnd.jupyter.widget-view+json": {
       "model_id": "1303561f1d644643a2d25d1ee1b032d0",
       "version_major": 2,
       "version_minor": 0
      },
      "text/plain": [
       "HBox(children=(FloatProgress(value=0.0, max=1459.0), HTML(value='')))"
      ]
     },
     "metadata": {},
     "output_type": "display_data"
    },
    {
     "name": "stdout",
     "output_type": "stream",
     "text": [
      "\n"
     ]
    },
    {
     "data": {
      "application/vnd.jupyter.widget-view+json": {
       "model_id": "d6abcbc45838418f8f9666876631c871",
       "version_major": 2,
       "version_minor": 0
      },
      "text/plain": [
       "HBox(children=(FloatProgress(value=0.0, max=1459.0), HTML(value='')))"
      ]
     },
     "metadata": {},
     "output_type": "display_data"
    },
    {
     "name": "stdout",
     "output_type": "stream",
     "text": [
      "\n"
     ]
    },
    {
     "data": {
      "application/vnd.jupyter.widget-view+json": {
       "model_id": "74b39d9b01b3480585270425a949a9bc",
       "version_major": 2,
       "version_minor": 0
      },
      "text/plain": [
       "HBox(children=(FloatProgress(value=0.0, max=1459.0), HTML(value='')))"
      ]
     },
     "metadata": {},
     "output_type": "display_data"
    },
    {
     "name": "stdout",
     "output_type": "stream",
     "text": [
      "\n"
     ]
    }
   ],
   "source": [
    "# loop through all the years and create the composite\n",
    "for year in year_list: \n",
    "\n",
    "    # SLP data as the sample dataset\n",
    "    # getting the reference longitude and latitude values\n",
    "    slp_file = os.path.join(defines.var_data_directory, f'slp.{year}.nc')\n",
    "    slp = xr.open_dataset(slp_file)\n",
    "    reflon = slp.lon.values\n",
    "    reflat = slp.lat.values\n",
    "\n",
    "    # creating the co-ordinate grid\n",
    "    lon, lat = np.meshgrid(reflon, reflat)\n",
    "\n",
    "    # opening all the necessary variables to create the composites for\n",
    "    ds_list = {}\n",
    "    for var in defines.composite_var_list: \n",
    "        var_file = os.path.join(defines.var_data_directory, f'{var}.{year}.nc')\n",
    "        ds_list[var] = xr.open_dataset(var_file)\n",
    "  \n",
    "    ############# Get Centers for the given date ######################\n",
    "    in_file = os.path.join(defines.read_folder, f'{defines.model}_{year}.mat')\n",
    "    all_centers = reader.read_center_from_mat_file(in_file)\n",
    "    if (not isinstance(slp.indexes['time'], pd.core.indexes.datetimes.DatetimeIndex)):\n",
    "        datetimeindex = slp.indexes['time'].to_datetimeindex()\n",
    "    else:\n",
    "        datetimeindex = slp.indexes['time']\n",
    "\n",
    "    ############ This portion of the code is used to match the latitude distriubtion from the observations \n",
    "    # to the model data\n",
    "\n",
    "    # Trying to match the lat distrib of the cases with ERA-Interim\n",
    "    all_lat = all_centers['lat']\n",
    "    all_lon = all_centers['lon']\n",
    "    all_obs_flag = all_centers['obs_flag']\n",
    "    all_select_flag = all_centers['all_select_flag']\n",
    "    obs_select_flag = all_centers['obs_select_flag']\n",
    "\n",
    "    # bining all the center lat from the model data\n",
    "    bins = np.arange(-60, 60, 5)\n",
    "    minlength = len(bins)+1\n",
    "    model_full_lat_ind = np.digitize(all_lat, bins=bins)\n",
    "    model_full_lat_bin_counts = np.bincount(model_full_lat_ind, minlength=minlength)\n",
    "\n",
    "    # create the pct distrib of model for all centers\n",
    "    model_all_ind = (np.abs(all_lat) > 30) & (np.abs(all_lat) < 60)\n",
    "    model_all_lat_ind = np.digitize(all_lat[model_all_ind], bins=bins)\n",
    "    model_all_lat_bin_counts = np.bincount(model_all_lat_ind, minlength=minlength)\n",
    "    model_all_pct = model_all_lat_bin_counts/np.sum(model_all_lat_bin_counts)\n",
    "    model_all_pct[model_all_pct == 0] = np.nan\n",
    "\n",
    "    # getting the number of samples that I need to select for each lat bin\n",
    "    model_all_tot_counts = model_all_lat_bin_counts/actual_all_pct\n",
    "    total_all_model_count = np.nanmin(model_all_tot_counts)\n",
    "    # model_all_min_ind = np.nanargmin(model_all_pct)\n",
    "    # model_all_min_count = model_all_lat_bin_counts[model_all_min_ind]\n",
    "    # actual_all_min_pct = actual_all_pct[model_all_min_ind]\n",
    "    # total_all_model_count = model_all_min_count/actual_all_min_pct\n",
    "    model_all_new_distrib = actual_all_pct*total_all_model_count\n",
    "    model_all_new_distrib[np.isnan(model_all_new_distrib)] = 0\n",
    "    model_all_new_distrib = np.array(model_all_new_distrib, dtype=np.int) \n",
    "\n",
    "    # create the pct distrib of model for SH Ocean Warm \n",
    "    model_obs_ind = (np.abs(all_lat) > 30) & (np.abs(all_lat) < 60) & (all_obs_flag == 1)\n",
    "    bins = np.arange(-60, 60, 5)\n",
    "    model_obs_lat_ind = np.digitize(all_lat[model_obs_ind], bins=bins)\n",
    "    model_obs_lat_bin_counts = np.bincount(model_obs_lat_ind, minlength=minlength)\n",
    "    model_obs_pct = model_obs_lat_bin_counts/np.sum(model_obs_lat_bin_counts)\n",
    "    model_obs_pct[model_obs_pct == 0] = np.nan\n",
    "\n",
    "    # getting the number of samples that I need to select for each lat bin\n",
    "    model_obs_tot_counts = model_obs_lat_bin_counts/actual_obs_pct\n",
    "    total_obs_model_count = np.nanmin(model_obs_tot_counts)\n",
    "    # model_obs_min_ind = np.nanargmin(model_obs_pct)\n",
    "    # model_obs_min_count = model_obs_lat_bin_counts[model_obs_min_ind]\n",
    "    # actual_obs_min_pct = actual_obs_pct[model_obs_min_ind]\n",
    "    # total_obs_model_count = model_obs_min_count/actual_obs_min_pct\n",
    "    model_obs_new_distrib = actual_obs_pct*total_obs_model_count\n",
    "    model_obs_new_distrib[np.isnan(model_obs_new_distrib)] = 0\n",
    "    model_obs_new_distrib = np.array(model_obs_new_distrib, dtype=np.int) \n",
    "\n",
    "    # sampling the model distribution to match the values\n",
    "    model_indexes = np.arange(0, len(all_lat))\n",
    "    for i in range(1, len(bins)+1): \n",
    "        # setting up the all_select_flag\n",
    "        tmp_ind = (model_full_lat_ind == i) & (model_all_ind)\n",
    "        tmp_indexes = model_indexes[tmp_ind].tolist()\n",
    "        sample_ind = random.sample(tmp_indexes, model_all_new_distrib[i])\n",
    "        all_select_flag[sample_ind] = 1\n",
    "\n",
    "        # setting up the obs_select_flag\n",
    "        tmp_ind = (model_full_lat_ind == i) & (model_obs_ind)\n",
    "        tmp_indexes = model_indexes[tmp_ind].tolist()\n",
    "        sample_ind = random.sample(tmp_indexes, model_obs_new_distrib[i])\n",
    "        obs_select_flag[sample_ind] = 1\n",
    "\n",
    "    # setting the flags for which centers to use under \n",
    "    # distributions that match the enitre erai lat distrib \n",
    "    # and selected SH Warm Ocean lat distrib\n",
    "    all_centers['all_select_flag'] = all_select_flag\n",
    "    all_centers['obs_select_flag'] = obs_select_flag\n",
    "\n",
    "    # loop through all time steps in the year\n",
    "    for t_step in notebook.tqdm(range(1, len(slp.time))):\n",
    "\n",
    "#         stime = time.time()\n",
    "        # creating a datetime variable for the current time step\n",
    "        # date = pd.Timestamp(slp.time[t_step].values).to_pydatetime()\n",
    "        date = datetimeindex[t_step].to_pydatetime()\n",
    "        # print(date)\n",
    "\n",
    "        # getting the season for the given time step date\n",
    "        t_step_month = date.month\n",
    "        if (t_step_month == 12) | (t_step_month == 1) | (t_step_month == 2):\n",
    "            t_season = 'djf'\n",
    "        elif (t_step_month == 3) | (t_step_month == 4) | (t_step_month == 5):\n",
    "            t_season = 'mam'\n",
    "        elif (t_step_month == 6) | (t_step_month == 7) | (t_step_month == 8):\n",
    "            t_season = 'jja'\n",
    "        elif (t_step_month == 9) | (t_step_month == 10) | (t_step_month == 11):\n",
    "            t_season = 'son'\n",
    "\n",
    "        t_season_warm = False\n",
    "        if (t_step_month == 11) | (t_step_month == 12) | (t_step_month == 1) | (t_step_month == 2) | (t_step_month == 3):\n",
    "            t_season_warm = True\n",
    "\n",
    "        # check if the t_season is requested in the defines.py\n",
    "        # atleast 'all' should be given in the season_list\n",
    "        if ('all' not in defines.composite_season_list) & (t_season not in defines.composite_season_list) & ('warm' not in defines.composite_season_list):\n",
    "            continue\n",
    "\n",
    "        fd_date = date\n",
    "        centers = all_centers.find_centers_for_date(fd_date)\n",
    "        \n",
    "#         print(f\"Done setup: {time.time() - stime} seconds\");\n",
    "\n",
    "        # looping through all the centers for the given data\n",
    "        for i_center, _  in enumerate(centers.lat): \n",
    "#             stime = time.time()\n",
    "            date_str = fd_date.strftime('%Y%m%d%H')\n",
    "\n",
    "            center = {}\n",
    "            for key in centers.keys():\n",
    "                center[key] = centers[key][i_center]\n",
    "\n",
    "            # skip all cyclones close to the equator or poles\n",
    "            if (np.abs(center['lat']) > 60) | (np.abs(center['lat']) < 30): \n",
    "                continue\n",
    "\n",
    "            if (center['lat'] >= 0):\n",
    "                hemis_type = 'NH'\n",
    "            elif (center['lat'] < 0): \n",
    "                hemis_type = 'SH'\n",
    "\n",
    "            if (center['lm_flag']): \n",
    "                lm_type = 'land'\n",
    "            else:\n",
    "                lm_type = 'ocean'\n",
    "\n",
    "#             if (center['obs_select_flag'] == 1.0):\n",
    "            if (hemis_type == 'SH') & (lm_type == 'ocean') & (t_season_warm):\n",
    "                ds_tstep = ds_list['prw'].isel(time=t_step)\n",
    "                prw = ds_tstep['prw'].values\n",
    "                ds_tstep = ds_list['w500'].isel(time=t_step)\n",
    "                w500 = ds_tstep['w500'].values\n",
    "                ds_tstep = ds_list['clt'].isel(time=t_step)\n",
    "                clt = ds_tstep['clt'].values\n",
    "                w500 = composites.area_avg_one_step(lat, lon, w500, center['lat'], center['lon'], bins=(area_dist_bins, area_dist_bins))\n",
    "                prw = composites.area_avg_one_step(lat, lon, prw, center['lat'], center['lon'], bins=(area_dist_bins, area_dist_bins))\n",
    "                clt = composites.area_avg_one_step(lat, lon, clt, center['lat'], center['lon'], bins=(area_dist_bins, area_dist_bins))\n",
    "\n",
    "                w500 = w500.sum/w500.cnt\n",
    "                prw = prw.sum/prw.cnt\n",
    "                mean_w500 = np.nanmean(w500[w500 < 0]) * 3600/100 # converting from Pa/s to hPa/hr\n",
    "                mean_prw = np.nanmean(prw) \n",
    "                \n",
    "                prw_ind = np.digitize(mean_prw, bins=prw_bins)\n",
    "                w500_ind = np.digitize(mean_w500, bins=w500_bins)\n",
    "                comp['FW_sum'][prw_ind-1, w500_ind-1, :, :] += clt.sum\n",
    "                comp['FW_cnt'][prw_ind-1, w500_ind-1, :, :] += clt.cnt\n",
    "                comp['FW_cases'][prw_ind-1, w500_ind-1] += 1\n",
    "            \n",
    "            # if this particular center is not selected as either part of all or SH ocean warm distrib skip this center\n",
    "            if (center['all_select_flag'] == 0.0) & (center['obs_select_flag'] == 0.0):\n",
    "                continue\n",
    "\n",
    "            for var in defines.composite_var_list: \n",
    "                ds_tstep = ds_list[var].isel(time=t_step)\n",
    "                data = ds_tstep[var].values\n",
    "\n",
    "                area_H = composites.area_avg_one_step(lat, lon, data, center['lat'], center['lon'], bins=(area_dist_bins, area_dist_bins))\n",
    "                # if this is part of the all distrib we include it in our composites\n",
    "                if (center['all_select_flag'] == 1.0):\n",
    "                    comp[hemis_type][lm_type]['all'][var]['area_sum'] += area_H.sum\n",
    "                    comp[hemis_type][lm_type]['all'][var]['area_cnt'] += area_H.cnt\n",
    "\n",
    "                    comp[hemis_type][lm_type][t_season][var]['area_sum'] += area_H.sum\n",
    "                    comp[hemis_type][lm_type][t_season][var]['area_cnt'] += area_H.cnt\n",
    "\n",
    "                # if this is part of the SH Ocean Warm distrib we include it in our composites, only if the obs_select_flag is set\n",
    "                if (t_season_warm):\n",
    "                    if (hemis_type == 'SH') & (lm_type == 'ocean'):\n",
    "                        if (center['obs_select_flag'] == 1.0):\n",
    "                            comp[hemis_type][lm_type]['warm'][var]['area_sum'] += area_H.sum\n",
    "                            comp[hemis_type][lm_type]['warm'][var]['area_cnt'] += area_H.cnt\n",
    "                    else:\n",
    "                        if (center['all_select_flag'] == 1.0):\n",
    "                            comp[hemis_type][lm_type]['warm'][var]['area_sum'] += area_H.sum\n",
    "                            comp[hemis_type][lm_type]['warm'][var]['area_cnt'] += area_H.cnt\n",
    "\n",
    "\n",
    "        # end t_step\n",
    "#         if (t_step > 100):\n",
    "#             break\n",
    "\n",
    "    # end year\n",
    "#     break\n",
    "\n",
    "# saving the data files \n",
    "comp['x'] = area_H.x\n",
    "comp['y'] = area_H.y\n",
    "comp['x_edges'] = area_H.x_edges\n",
    "comp['y_edges'] = area_H.y_edges \n",
    "# pickle.dump(comp, open(os.path.join(defines.read_folder, 'composites.pkl'), 'wb'))\n",
    "\n",
    "for hemis_type in defines.composite_hem_list:\n",
    "  for var in defines.composite_var_list:\n",
    "    for season in defines.composite_season_list:\n",
    "      for lm_type in ['land', 'ocean']:\n",
    "\n",
    "        tmp_dict = comp[hemis_type][lm_type][season][var]\n",
    "\n",
    "        # plt.close('all')\n",
    "        # tmp = tmp_dict['circ_sum']/tmp_dict['circ_cnt']\n",
    "        # composites.plot_polar(circ_H.y,  circ_H.x, tmp)\n",
    "        #ERA-Interim plt.title(f'{var.upper()} {lm_type} {hemis_type}')\n",
    "        # out_file = os.path.join(defines.images_folder, f'{defines.model}_{defines.over_write_years[0]}_{defines.over_write_years[1]}_circ_{var}_{hemis_type}_{lm_type}.png')\n",
    "        # plt.savefig(out_file, dpi=300.)\n",
    "\n",
    "#         plt.close('all')\n",
    "#         tmp = tmp_dict['area_sum']/tmp_dict['area_cnt']\n",
    "#         composites.plot_area(area_H.y_edges,  area_H.x_edges, tmp)\n",
    "#         plt.title(f'{var.upper()} {lm_type} {hemis_type}')\n",
    "#         # out_file = os.path.join(defines.images_folder, f'{defines.model}_{defines.over_write_years[0]}_{defines.over_write_years[1]}_area_{var}_{hemis_type}_{lm_type}_{season.upper()}.png')\n",
    "#         out_file = os.path.join(defines.model_images_folder, f'{os.environ[\"CASENAME\"]}_area_{var}_{hemis_type}_{lm_type}_{season.upper()}.png')\n",
    "#         plt.title(f'{os.environ[\"CASENAME\"]} {var.upper()} [{hemis_type.upper()}-{lm_type.upper()}-{season.upper()}]')\n",
    "#         plt.savefig(out_file, dpi=100.)"
   ]
  },
  {
   "cell_type": "code",
   "execution_count": 177,
   "metadata": {},
   "outputs": [],
   "source": [
    "out = {'prw_bins': prw_bins, 'w500_bins': w500_bins, 'comp': comp}\n",
    "# pickle.dump(out, open('fw_data_using_distrib.pkl', 'wb'))\n",
    "pickle.dump(out, open('fw_data_using_all.pkl', 'wb'))"
   ]
  },
  {
   "cell_type": "code",
   "execution_count": 178,
   "metadata": {},
   "outputs": [
    {
     "name": "stdout",
     "output_type": "stream",
     "text": [
      "(4, 4, 30, 30)\n",
      "[-1.00000000e+00 -9.00000000e-01 -8.00000000e-01 -7.00000000e-01\n",
      " -6.00000000e-01 -5.00000000e-01 -4.00000000e-01 -3.00000000e-01\n",
      " -2.00000000e-01 -1.00000000e-01 -2.22044605e-16  1.00000000e-01\n",
      "  2.00000000e-01  3.00000000e-01  4.00000000e-01  5.00000000e-01\n",
      "  6.00000000e-01  7.00000000e-01  8.00000000e-01  9.00000000e-01\n",
      "  1.00000000e+00  1.10000000e+00  1.20000000e+00  1.30000000e+00\n",
      "  1.40000000e+00  1.50000000e+00]\n"
     ]
    }
   ],
   "source": [
    "print(comp['FW_sum'].shape)\n",
    "print(np.arange(-1.5+.5, 1.5+.1, .1))"
   ]
  },
  {
   "cell_type": "markdown",
   "metadata": {},
   "source": [
    "# Load and plot figure"
   ]
  },
  {
   "cell_type": "code",
   "execution_count": null,
   "metadata": {},
   "outputs": [],
   "source": [
    "# in_data = pickle.load(open('fw_data_using_distrib.pkl', 'rb'))\n",
    "in_data = pickle.load(open('fw_data_using_all.pkl', 'rb'))\n",
    "prw_bins = in_data['prw_bins']\n",
    "w500_bins = in_data['w500_bins']\n",
    "comp = in_data['comp']\n"
   ]
  },
  {
   "cell_type": "code",
   "execution_count": 179,
   "metadata": {},
   "outputs": [
    {
     "data": {
      "image/png": "[encoded data removed]",
      "text/plain": [
       "<Figure size 1152x864 with 10 Axes>"
      ]
     },
     "metadata": {
      "needs_background": "light"
     },
     "output_type": "display_data"
    }
   ],
   "source": [
    "dist_arr = np.arange(-1.5+.05, 1.5+.05, .1)\n",
    "plt.figure(figsize=(16, 12))\n",
    "ax_list = []\n",
    "for i in range(len(prw_bins)-1): \n",
    "    for j in range(len(w500_bins)-1): \n",
    "        ax = plt.subplot2grid((3,3), (i,2-j))\n",
    "        ax_list.append(ax)\n",
    "        tmp = comp['FW_sum']/comp['FW_cnt']\n",
    "        pc = plt.contourf(dist_arr, dist_arr, tmp[i,j,:,:], cmap='jet', levels=np.arange(30, 100, 5), extend='both')\n",
    "#         pc = plt.pcolormesh(dist_arr, dist_arr, tmp[i,j,:,:], cmap='jet', vmin=30, vmax=100)\n",
    "#         plt.title(f\"PRW: {prw_bins[i]:.1f}mm/hr - {prw_bins[i+1]:.1f}mm/hr\\n W500: {w500_bins[j]}hPa/hr - {w500_bins[j+1]}hPa/hr\\n Cases: {comp['FW_cases'][i, j]:.0f}\")\n",
    "        plt.title(f\"Cases: {comp['FW_cases'][i, j]:.0f}\")\n",
    "        if (i == 1) & (j == 2):\n",
    "            plt.ylabel('<-- PW Increases <--\\nDistance from low [{0} km]'.format(r'10$^3$'))\n",
    "        else:\n",
    "            plt.ylabel(r'Distance from low [10$^3$ km]')\n",
    "        if (i == 2) & (j == 1):\n",
    "            plt.xlabel('Distance from low [{0} km]\\n--> Ascent Strength Increases -->'.format(r'10$^3$'))\n",
    "        else:\n",
    "            plt.xlabel('Distance from low [10$^3$ km]')\n",
    "        plt.xticks(ticks=[-1.5, -1., -.5, 0, .5, 1., 1.5])    \n",
    "        plt.yticks(ticks=[-1.5, -1., -.5, 0, .5, 1., 1.5])    \n",
    "plt.tight_layout()\n",
    "plt.colorbar(pc, ax=ax_list, aspect=30, shrink=0.5)\n",
    "# plt.savefig('./field_n_wood_using_distrib.png')\n",
    "plt.savefig('./field_n_wood_using_all.png')\n",
    "plt.show()"
   ]
  },
  {
   "cell_type": "code",
   "execution_count": null,
   "metadata": {},
   "outputs": [],
   "source": []
  },
  {
   "cell_type": "code",
   "execution_count": null,
   "metadata": {},
   "outputs": [],
   "source": []
  }
 ],
 "metadata": {
  "kernelspec": {
   "display_name": "Python [conda env:mcms] *",
   "language": "python",
   "name": "conda-env-mcms-py"
  },
  "language_info": {
   "codemirror_mode": {
    "name": "ipython",
    "version": 3
   },
   "file_extension": ".py",
   "mimetype": "text/x-python",
   "name": "python",
   "nbconvert_exporter": "python",
   "pygments_lexer": "ipython3",
   "version": "3.6.8"
  }
 },
 "nbformat": 4,
 "nbformat_minor": 4
}
