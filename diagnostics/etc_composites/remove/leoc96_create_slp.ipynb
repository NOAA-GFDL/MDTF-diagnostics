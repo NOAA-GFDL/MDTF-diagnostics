{
 "cells": [
  {
   "cell_type": "markdown",
   "metadata": {},
   "source": [
    "# Notes\n",
    "\n",
    "for the leoc96, I have to provide the left most values as the lon cordinates, instead of the center point, because if not it causes a crash \n",
    "\n",
    "Do I have to do this for all model data? \n",
    "If so, I might have to hard fix the crash that occurs when plotting using basemap. "
   ]
  },
  {
   "cell_type": "code",
   "execution_count": null,
   "metadata": {},
   "outputs": [],
   "source": [
    "import numpy as np \n",
    "import xarray as xr \n",
    "import matplotlib.pyplot as plt \n",
    "import cartopy\n",
    "import os\n",
    "import pandas as pd\n",
    "import cftime\n",
    "import datetime as dt\n",
    "import tqdm\n",
    "import netCDF4 as nc\n",
    "\n",
    "import os \n",
    "import glob"
   ]
  },
  {
   "cell_type": "code",
   "execution_count": 2,
   "metadata": {},
   "outputs": [],
   "source": [
    "# reading in LEOC96 data\n",
    "in_folder = '/mnt/drive6/LEOC96/atmos/ts/6hr/1yr'\n",
    "sample_file =  '/mnt/drive6/LEOC96/atmos/ts/6hr/1yr/atmos.2008010100-2008123123.slp.nc'"
   ]
  },
  {
   "cell_type": "code",
   "execution_count": 3,
   "metadata": {},
   "outputs": [
    {
     "name": "stdout",
     "output_type": "stream",
     "text": [
      "(180, 288)\n"
     ]
    }
   ],
   "source": [
    "ds = xr.open_dataset(sample_file)\n",
    "lat_dim = ds.lat.size\n",
    "lon_dim = ds.lon.size\n",
    "dims = ds.slp.shape[1:]\n",
    "print(dims)"
   ]
  },
  {
   "cell_type": "code",
   "execution_count": 5,
   "metadata": {},
   "outputs": [
    {
     "name": "stdout",
     "output_type": "stream",
     "text": [
      "Completed 2008.\n",
      "Completed 2009.\n",
      "Completed 2010.\n",
      "Completed 2011.\n",
      "Completed 2012.\n"
     ]
    }
   ],
   "source": [
    "var = 'slp'\n",
    "year_range = [2008, 2012]\n",
    "\n",
    "time_start_year = 1975\n",
    "\n",
    "# must include the end year, so have to add one \n",
    "num_years = year_range[1] - year_range[0] + 1\n",
    "\n",
    "# creating the output arrays\n",
    "out_slp = np.empty((1460*num_years,dims[0],dims[1]))\n",
    "out_time = np.zeros((1460*num_years,))\n",
    "out_time_bnds = np.zeros((1460*num_years, 2))\n",
    "\n",
    "# loop through all the years\n",
    "for i_year, year in enumerate(range(year_range[0], year_range[1]+1)):\n",
    "    \n",
    "    # input slp file\n",
    "    in_file = os.path.join(in_folder, f'atmos.{year}010100-{year}123123.{var}.nc')\n",
    "   \n",
    "    # reading in the input data \n",
    "    ds = xr.open_dataset(in_file)\n",
    "    in_lat = ds.variables['lat'].values\n",
    "    in_lon = ds.variables['lon'].values\n",
    "    in_slp = ds.variables['slp']\n",
    "    ds.close()\n",
    "    \n",
    "    # time needed for the output is number of days since start of year 1\n",
    "    # time from 0 to 1460, in terms of days\n",
    "    # + time from the start of the time year in model data\n",
    "    # + i_year * 1460, for every year loop i have to add 1460 to the time\n",
    "    in_time = np.arange(0, 365, .25) + (year_range[0] - time_start_year)*365 + i_year*365\n",
    "    \n",
    "    # selecting only the first 1460 to match the model output which is of a 365 year calendar\n",
    "    in_slp = in_slp.isel(time=range(1460)).values\n",
    "    \n",
    "    # saving the values in the output variables\n",
    "    out_time[i_year*1460:(i_year+1)*1460]  = in_time\n",
    "    out_slp[i_year*1460:(i_year+1)*1460, :, :] = in_slp\n",
    "    \n",
    "    print(f'Completed {year}.')\n",
    "    \n",
    "# getting the output variables \n",
    "# out_lat = in_lat\n",
    "# out_lon = in_lon \n",
    "\n",
    "lon = np.copy(in_lon)\n",
    "dlon = lon[1] - lon[0]\n",
    "out_lon = np.round(lon - dlon/2., decimals=2)\n",
    "\n",
    "lat = np.copy(in_lat)\n",
    "dlat = lat[1] - lat[0]\n",
    "out_lat = np.round(lat - dlat/2., decimals=2)\n",
    "\n",
    "# getting the output time bounds\n",
    "out_time_bnds[:, 1] = out_time\n",
    "out_time_bnds[0, 0] = out_time[0]\n",
    "out_time_bnds[1:, 0] = out_time[:-1]\n"
   ]
  },
  {
   "cell_type": "markdown",
   "metadata": {},
   "source": [
    "## Creating the date variable provided in model data"
   ]
  },
  {
   "cell_type": "code",
   "execution_count": 6,
   "metadata": {},
   "outputs": [
    {
     "name": "stderr",
     "output_type": "stream",
     "text": [
      "/home/jj/anaconda3/envs/mcms/lib/python3.6/site-packages/ipykernel_launcher.py:3: TqdmDeprecationWarning: This function will be removed in tqdm==5.0.0\n",
      "Please use `tqdm.notebook.tqdm` instead of `tqdm.tqdm_notebook`\n",
      "  This is separate from the ipykernel package so we can avoid doing imports until\n"
     ]
    },
    {
     "data": {
      "application/vnd.jupyter.widget-view+json": {
       "model_id": "734469cf79684c569679b96ffe7ad0ea",
       "version_major": 2,
       "version_minor": 0
      },
      "text/plain": [
       "HBox(children=(FloatProgress(value=0.0, max=7300.0), HTML(value='')))"
      ]
     },
     "metadata": {},
     "output_type": "display_data"
    },
    {
     "name": "stdout",
     "output_type": "stream",
     "text": [
      "\n"
     ]
    }
   ],
   "source": [
    "# time_arr = [cftime.DatetimeNoLeap(time_start_year, 1, 1) + dt.timedelta(days=i) for i in tqdm.notebook.tqdm(out_time, total=len(out_time))]\n",
    "out_date = np.empty(out_time.shape, dtype=int)\n",
    "for i, i_time in tqdm.tqdm_notebook(enumerate(out_time), total=len(out_time)): \n",
    "    tmp = cftime.DatetimeNoLeap(time_start_year, 1, 1) + dt.timedelta(days=i_time)\n",
    "    out_date[i] = int('%04d%02d%02d'%(tmp.year, tmp.month, tmp.day))"
   ]
  },
  {
   "cell_type": "markdown",
   "metadata": {},
   "source": [
    "# Creating the model sample data for the SLP values"
   ]
  },
  {
   "cell_type": "code",
   "execution_count": 7,
   "metadata": {},
   "outputs": [],
   "source": [
    "# write the output as netcdf file \n",
    "\n",
    "out_file = '/localdrive/drive10/jj/mdtf/inputdata/model/QBOi.EXP1.AMIP.001/6hr/QBOi.EXP1.AMIP.001.SLP.6hr.nc'\n",
    "\n",
    "# # Format of the PRECT variable for 3hr is as follows: \n",
    "# 1. time - noleap, days since 1975-01-01 00:00:00\n",
    "# 2. date - current date\n",
    "# 3. lat - latitude\n",
    "# 4. lon - longitude\n",
    "# 5. time_bnds - time interval endpoints\n",
    "# 6. SLP - mba, long_name, cell_methods: \"time:mean\"\n",
    "\n",
    "out_ds = xr.Dataset({\n",
    "        'time_bnds': (('time', 'nbnd'), out_time_bnds), \n",
    "        'date': (('time'), out_date),\n",
    "        'SLP': (('time', 'lat', 'lon'), out_slp), \n",
    "    }, \n",
    "    coords={\n",
    "        'time': out_time, \n",
    "        'lat': out_lat, \n",
    "        'lon': out_lon,\n",
    "        'nbnd': [1, 2]\n",
    "    },\n",
    "    )\n",
    "\n",
    "# lon attribs\n",
    "out_ds.lon.attrs['long_name'] = 'longitude'\n",
    "out_ds.lon.attrs['units'] = 'degrees_east'\n",
    "\n",
    "# lat attribs\n",
    "out_ds.lat.attrs['long_name'] = 'latitude'\n",
    "out_ds.lat.attrs['units'] = 'degrees_north'\n",
    "\n",
    "# time attribs\n",
    "out_ds.time.attrs['long_name'] = 'time'\n",
    "out_ds.time.attrs['units'] = 'days since 1975-01-01 00:00:00'\n",
    "out_ds.time.attrs['calendar'] = 'noleap'\n",
    "out_ds.time.attrs['bounds'] = 'time_bnds'\n",
    "\n",
    "# time_bnds attribs\n",
    "out_ds.time_bnds.attrs['long_name'] = 'time interval endpoints'\n",
    "\n",
    "# date attribs\n",
    "out_ds.date.attrs['long_name'] = 'current date (YYYYMMDD)'\n",
    "\n",
    "# slp attribs\n",
    "out_ds.SLP.attrs['long_name'] = 'Sea Level Pressure'\n",
    "out_ds.SLP.attrs['units'] = 'mb'\n"
   ]
  },
  {
   "cell_type": "code",
   "execution_count": 8,
   "metadata": {},
   "outputs": [],
   "source": [
    "# actually writing the output file\n",
    "\n",
    "out_ds.to_netcdf(out_file)"
   ]
  },
  {
   "cell_type": "code",
   "execution_count": null,
   "metadata": {},
   "outputs": [],
   "source": []
  }
 ],
 "metadata": {
  "kernelspec": {
   "display_name": "Python [conda env:mcms] *",
   "language": "python",
   "name": "conda-env-mcms-py"
  },
  "language_info": {
   "codemirror_mode": {
    "name": "ipython",
    "version": 3
   },
   "file_extension": ".py",
   "mimetype": "text/x-python",
   "name": "python",
   "nbconvert_exporter": "python",
   "pygments_lexer": "ipython3",
   "version": "3.6.8"
  }
 },
 "nbformat": 4,
 "nbformat_minor": 4
}
