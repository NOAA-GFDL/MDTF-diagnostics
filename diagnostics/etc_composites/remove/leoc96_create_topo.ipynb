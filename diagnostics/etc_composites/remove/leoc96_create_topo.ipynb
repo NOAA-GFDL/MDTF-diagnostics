{
 "cells": [
  {
   "cell_type": "code",
   "execution_count": 65,
   "metadata": {},
   "outputs": [],
   "source": [
    "import numpy as np \n",
    "import xarray as xr \n",
    "import matplotlib.pyplot as plt \n",
    "import cartopy\n",
    "import os\n",
    "import pandas as pd\n",
    "import cftime\n",
    "import datetime as dt\n",
    "import tqdm\n",
    "import netCDF4 as nc\n",
    "\n",
    "import os \n",
    "import glob"
   ]
  },
  {
   "cell_type": "code",
   "execution_count": 66,
   "metadata": {},
   "outputs": [
    {
     "name": "stdout",
     "output_type": "stream",
     "text": [
      "<xarray.Dataset>\n",
      "Dimensions:    (latitude: 121, longitude: 240, time: 1)\n",
      "Coordinates:\n",
      "  * longitude  (longitude) float32 0.0 1.5 3.0 4.5 ... 354.0 355.5 357.0 358.5\n",
      "  * latitude   (latitude) float32 90.0 88.5 87.0 85.5 ... -87.0 -88.5 -90.0\n",
      "  * time       (time) datetime64[ns] 1989-01-01T12:00:00\n",
      "Data variables:\n",
      "    hgt        (time, latitude, longitude) float32 ...\n",
      "    lsm        (time, latitude, longitude) float32 ...\n",
      "Attributes:\n",
      "    Conventions:  CF-1.6\n",
      "    history:      2020-01-29 00:44:48 GMT by grib_to_netcdf-2.15.0: grib_to_n...\n",
      "<xarray.Dataset>\n",
      "Dimensions:    (bnds: 2, lat: 180, lon: 288)\n",
      "Coordinates:\n",
      "  * lat        (lat) float64 -89.5 -88.5 -87.5 -86.5 ... 86.5 87.5 88.5 89.5\n",
      "  * lon        (lon) float64 0.625 1.875 3.125 4.375 ... 355.6 356.9 358.1 359.4\n",
      "Dimensions without coordinates: bnds\n",
      "Data variables:\n",
      "    land_mask  (lat, lon) float32 ...\n",
      "    lat_bnds   (lat, bnds) float64 ...\n",
      "    lon_bnds   (lon, bnds) float64 ...\n",
      "    zsurf      (lat, lon) float32 ...\n",
      "Attributes:\n",
      "    filename:          atmos.static.nc\n",
      "    title:             c96L48_am4b6_DDFull_MDTF\n",
      "    associated_files:  area: 20080101.grid_spec.nc\n",
      "    grid_type:         regular\n",
      "    grid_tile:         N/A\n",
      "    history:           fregrid --standard_dimension --input_mosaic C96_mosaic...\n",
      "    code_version:      $Name: bronx-10_performance_z1l $\n"
     ]
    }
   ],
   "source": [
    "test_file = '/localdrive/drive6/erai/converts/invariants.nc'\n",
    "ds = xr.open_dataset(test_file)\n",
    "print(ds)\n",
    "ds.close()\n",
    "# print(ds.hgt)\n",
    "# print(ds.lsm)\n",
    "\n",
    "\n",
    "in_file = '/mnt/drive6/LEOC96/atmos/atmos.static.nc'\n",
    "ds = xr.open_dataset(in_file)\n",
    "print(ds)"
   ]
  },
  {
   "cell_type": "code",
   "execution_count": 67,
   "metadata": {},
   "outputs": [],
   "source": [
    "ds = ds.rename({'zsurf': 'hgt', 'land_mask': 'lsm'})"
   ]
  },
  {
   "cell_type": "code",
   "execution_count": 75,
   "metadata": {},
   "outputs": [],
   "source": [
    "lon = ds.lon.values\n",
    "dlon = lon[1] - lon[0]\n",
    "lon = np.round(lon - dlon/2., decimals=2)\n",
    "\n",
    "lat = ds.lat.values\n",
    "dlat = lat[1] - lat[0]\n",
    "lat = np.round(lat - dlat/2., decimals=2)"
   ]
  },
  {
   "cell_type": "code",
   "execution_count": 76,
   "metadata": {},
   "outputs": [],
   "source": [
    "ds['lon'] = lon\n",
    "ds['lat'] = lat"
   ]
  },
  {
   "cell_type": "code",
   "execution_count": 78,
   "metadata": {},
   "outputs": [
    {
     "name": "stdout",
     "output_type": "stream",
     "text": [
      "<xarray.Dataset>\n",
      "Dimensions:   (bnds: 2, lat: 180, lon: 288)\n",
      "Coordinates:\n",
      "  * lat       (lat) float64 -90.0 -89.0 -88.0 -87.0 ... 86.0 87.0 88.0 89.0\n",
      "  * lon       (lon) float64 0.0 1.25 2.5 3.75 5.0 ... 355.0 356.2 357.5 358.8\n",
      "Dimensions without coordinates: bnds\n",
      "Data variables:\n",
      "    lsm       (lat, lon) float32 ...\n",
      "    lat_bnds  (lat, bnds) float64 ...\n",
      "    lon_bnds  (lon, bnds) float64 ...\n",
      "    hgt       (lat, lon) float32 ...\n",
      "Attributes:\n",
      "    filename:          atmos.static.nc\n",
      "    title:             c96L48_am4b6_DDFull_MDTF\n",
      "    associated_files:  area: 20080101.grid_spec.nc\n",
      "    grid_type:         regular\n",
      "    grid_tile:         N/A\n",
      "    history:           fregrid --standard_dimension --input_mosaic C96_mosaic...\n",
      "    code_version:      $Name: bronx-10_performance_z1l $\n"
     ]
    }
   ],
   "source": [
    "print(ds)"
   ]
  },
  {
   "cell_type": "code",
   "execution_count": 79,
   "metadata": {},
   "outputs": [],
   "source": [
    "out_file = '/localdrive/drive10/jj/mdtf/inputdata/model/QBOi.EXP1.AMIP.001/topo.nc'\n",
    "ds.to_netcdf(out_file)"
   ]
  },
  {
   "cell_type": "code",
   "execution_count": null,
   "metadata": {},
   "outputs": [],
   "source": []
  }
 ],
 "metadata": {
  "kernelspec": {
   "display_name": "Python [conda env:mcms] *",
   "language": "python",
   "name": "conda-env-mcms-py"
  },
  "language_info": {
   "codemirror_mode": {
    "name": "ipython",
    "version": 3
   },
   "file_extension": ".py",
   "mimetype": "text/x-python",
   "name": "python",
   "nbconvert_exporter": "python",
   "pygments_lexer": "ipython3",
   "version": "3.6.8"
  }
 },
 "nbformat": 4,
 "nbformat_minor": 4
}
