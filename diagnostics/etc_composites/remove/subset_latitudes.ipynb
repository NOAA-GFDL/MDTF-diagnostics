{
 "cells": [
  {
   "cell_type": "code",
   "execution_count": 1,
   "metadata": {},
   "outputs": [],
   "source": [
    "import numpy as np \n",
    "import scipy.io as sio\n",
    "import os\n",
    "import matplotlib.pyplot as plt\n",
    "import importlib\n",
    "\n",
    "import sys\n",
    "sys.path.append('../util/')\n",
    "import reader\n",
    "import composites\n",
    "importlib.reload(reader)\n",
    "\n",
    "from tqdm import tqdm, notebook\n",
    "import xarray as xr\n",
    "import time\n",
    "import pickle"
   ]
  },
  {
   "cell_type": "code",
   "execution_count": null,
   "metadata": {},
   "outputs": [],
   "source": []
  },
  {
   "cell_type": "code",
   "execution_count": 2,
   "metadata": {},
   "outputs": [
    {
     "name": "stdout",
     "output_type": "stream",
     "text": [
      "True\n",
      "True\n"
     ]
    }
   ],
   "source": [
    "# reading in the matlab files for era-interim\n",
    "folder = '/localdrive/drive10/jj/mdtf/wkdir/MDTF_ERAI.EXP1.TEST.v2.001_2008_2012/etc_composites/tmp/RUNDIR/tmprun/read_tmprun/'\n",
    "print(os.path.exists(folder))\n",
    "\n",
    "# reading in a sample model data\n",
    "mdtf_folder = '/localdrive/drive10/jj/mdtf/wkdir/MDTF_GFDL.EXP1.2PM.v10.001_2008_2012/etc_composites/tmp/RUNDIR/tmprun/read_tmprun/'\n",
    "print(os.path.exists(mdtf_folder))\n",
    "\n",
    "# Reading in the topography file\n",
    "# lm_file = '/localdrive/drive10/jj/mdtf/inputdata/model/ERAI.EXP1.TEST.001/topo.nc'\n",
    "# lm_file = '/localdrive/drive10/jj/mdtf/inputdata/model/GFDL.EXP1.2PM.001/topo.nc'\n",
    "# lm_file = '/localdrive/drive10/jj/mdtf/inputdata/model/ERA5.ALL.DEG15.001/topo.nc'"
   ]
  },
  {
   "cell_type": "code",
   "execution_count": 3,
   "metadata": {},
   "outputs": [
    {
     "name": "stdout",
     "output_type": "stream",
     "text": [
      "Done processing 2008.\n",
      "Done processing 2009.\n",
      "Done processing 2010.\n",
      "Done processing 2011.\n",
      "Done processing 2012.\n",
      "Done processing 2008.\n"
     ]
    }
   ],
   "source": [
    "importlib.reload(reader)\n",
    "\n",
    "years = [2008, 2012]\n",
    "erai_lat = []\n",
    "erai_lon = []\n",
    "erai_mm = []\n",
    "erai_lm_flag = []\n",
    "\n",
    "# reading in ll of ERA-Interim data\n",
    "for year in range(years[0], years[1]+1):\n",
    "    file = os.path.join(folder, f\"tmprun_{year}.mat\")\n",
    "    all_centers = reader.read_center_from_mat_file(file)\n",
    "    lat = all_centers['lat']\n",
    "    lon = all_centers['lon']\n",
    "    mm = all_centers['mm']\n",
    "    lm_flag = all_centers['lm_flag']\n",
    "    ind = (np.abs(lat) > 30) & (np.abs(lat) < 60)\n",
    "    lat = lat[ind]\n",
    "    lon = lon[ind]\n",
    "    mm = mm[ind]\n",
    "    lm_flag = lm_flag[ind]\n",
    "    erai_lat.extend(lat)\n",
    "    erai_lon.extend(lon)\n",
    "    erai_mm.extend(mm)\n",
    "    erai_lm_flag.extend(lm_flag)\n",
    "    \n",
    "    print(f\"Done processing {year}.\")\n",
    "\n",
    "# reading in a single year of MODEL data\n",
    "years = [2008, 2008]\n",
    "mdtf_lat = []\n",
    "mdtf_lon = []\n",
    "mdtf_mm = []\n",
    "for year in range(years[0], years[1]+1):\n",
    "    file = os.path.join(mdtf_folder, f\"tmprun_{year}.mat\")\n",
    "    all_centers = reader.read_center_from_mat_file(file)\n",
    "    lat = all_centers['lat']\n",
    "    lon = all_centers['lon']\n",
    "    mm = all_centers['mm']\n",
    "    ind = (np.abs(lat) > 30) & (np.abs(lat) < 60)\n",
    "    lat = lat[ind]\n",
    "    lon = lon[ind]\n",
    "    mdtf_lat.extend(lat)\n",
    "    mdtf_lon.extend(lon)\n",
    "    mdtf_mm.extend(mm)\n",
    "    print(f\"Done processing {year}.\")"
   ]
  },
  {
   "cell_type": "code",
   "execution_count": 4,
   "metadata": {},
   "outputs": [
    {
     "name": "stdout",
     "output_type": "stream",
     "text": [
      "76874\n",
      "76874 76874 76874\n"
     ]
    }
   ],
   "source": [
    "print(len(erai_lm_flag))\n",
    "print(len(erai_lat), len(erai_mm), len(erai_lon))"
   ]
  },
  {
   "cell_type": "code",
   "execution_count": 5,
   "metadata": {},
   "outputs": [
    {
     "data": {
      "application/vnd.jupyter.widget-view+json": {
       "model_id": "5268e7c876a241ff800df31880c28390",
       "version_major": 2,
       "version_minor": 0
      },
      "text/plain": [
       "HBox(children=(FloatProgress(value=0.0, max=76874.0), HTML(value='')))"
      ]
     },
     "metadata": {},
     "output_type": "display_data"
    },
    {
     "name": "stdout",
     "output_type": "stream",
     "text": [
      "\n"
     ]
    }
   ],
   "source": [
    "erai_obs_lat = []\n",
    "erai_obs_lon = []\n",
    "\n",
    "# filtering out the lat/lon for the SH Ocean Warm season, and creating the observation distribution\n",
    "for ilat, ilon, imm, ilm_flag in notebook.tqdm(zip(erai_lat, erai_lon, erai_mm, erai_lm_flag), total=len(erai_lat)):\n",
    "    # skipping northern hemisphere distribution\n",
    "    if (ilat > 0): \n",
    "        continue\n",
    "       \n",
    "    # checking warm season\n",
    "    if not ((imm == 11) | (imm == 12) | (imm == 1) | (imm == 2) | (imm == 3)):\n",
    "        continue\n",
    "        \n",
    "    # checking ocean (=0), skip if land (=1)\n",
    "#     dist_grid = composites.compute_dist_from_cdt(reflat, reflon, ilat, ilon)\n",
    "#     c_ind = np.nanargmin(dist_grid)\n",
    "#     cx, cy = np.unravel_index(c_ind, dist_grid.shape)\n",
    "#     lm_flag = lm[cx, cy]\n",
    "#     if (lm_flag):\n",
    "#         continue\n",
    "    \n",
    "    if (ilm_flag):\n",
    "        continue\n",
    "        \n",
    "    erai_obs_lat.append(ilat)\n",
    "    erai_obs_lon.append(ilon)\n",
    "    \n",
    "    \n",
    "erai_obs_lat = np.array(erai_obs_lat) \n",
    "erai_obs_lon = np.array(erai_obs_lon) "
   ]
  },
  {
   "cell_type": "code",
   "execution_count": 6,
   "metadata": {},
   "outputs": [],
   "source": [
    "# ERAI disbribution for the observations (entire collection of cyclones)\n",
    "bins = np.arange(-60, 60, 5)\n",
    "erai_lat_ind = np.digitize(erai_lat, bins=bins)\n",
    "erai_lat_bin_counts = np.bincount(erai_lat_ind, minlength=len(bins)+1)\n",
    "erai_pct = erai_lat_bin_counts/np.sum(erai_lat_bin_counts)\n",
    "erai_pct[erai_lat_bin_counts == 0] = np.nan\n",
    "\n",
    "# ERAI disbribution for the observations(SH Ocean Warm)\n",
    "erai_obs_lat_ind = np.digitize(erai_obs_lat, bins=bins)\n",
    "erai_obs_lat_bin_counts = np.bincount(erai_obs_lat_ind, minlength=len(bins)+1)\n",
    "erai_obs_pct = erai_obs_lat_bin_counts/np.sum(erai_obs_lat_bin_counts)\n",
    "erai_obs_pct[erai_obs_lat_bin_counts == 0] = np.nan"
   ]
  },
  {
   "cell_type": "code",
   "execution_count": 7,
   "metadata": {},
   "outputs": [
    {
     "data": {
      "image/png": "[encoded data removed]",
      "text/plain": [
       "<Figure size 432x288 with 1 Axes>"
      ]
     },
     "metadata": {
      "needs_background": "light"
     },
     "output_type": "display_data"
    }
   ],
   "source": [
    "plt.plot(erai_pct, color='r', label='ALL')\n",
    "plt.plot(erai_obs_pct, color='b', label='OBS')\n",
    "plt.legend(loc=0)\n",
    "plt.show()"
   ]
  },
  {
   "cell_type": "code",
   "execution_count": 8,
   "metadata": {},
   "outputs": [],
   "source": [
    "out = {'all_lat_ind': erai_lat_ind, 'all_bin_counts': erai_lat_bin_counts, 'all_pct': erai_pct,\n",
    "       'obs_lat_ind': erai_obs_lat_ind, 'obs_bin_counts': erai_obs_lat_bin_counts, 'obs_pct': erai_obs_pct}\n",
    "out_file = '/localdrive/drive10/jj/mdtf/inputdata/obs_data/etc_composites/erai_lat_distrib.pkl'\n",
    "pickle.dump(out, open(out_file, 'wb'))"
   ]
  },
  {
   "cell_type": "code",
   "execution_count": null,
   "metadata": {},
   "outputs": [],
   "source": []
  },
  {
   "cell_type": "code",
   "execution_count": null,
   "metadata": {},
   "outputs": [],
   "source": []
  },
  {
   "cell_type": "code",
   "execution_count": null,
   "metadata": {},
   "outputs": [],
   "source": []
  },
  {
   "cell_type": "code",
   "execution_count": 233,
   "metadata": {},
   "outputs": [
    {
     "name": "stdout",
     "output_type": "stream",
     "text": [
      "/localdrive/drive10/jj/mdtf/inputdata/model/GFDL.EXP1.2PM.001/topo.nc\n"
     ]
    }
   ],
   "source": [
    "slp_file = '/localdrive/drive10/jj/mdtf/wkdir/MDTF_ERAI.EXP1.TEST.001_2008_2012/etc_composites/tmp/data_converts/slp.2008.nc'\n",
    "slp = xr.open_dataset(slp_file)\n",
    "reflat = slp.lat.values\n",
    "reflon = slp.lon.values\n",
    "\n",
    "reflon, reflat = np.meshgrid(reflon, reflat)\n",
    "\n",
    "print(lm_file)\n",
    "ds = xr.open_dataset(lm_file)\n",
    "lm = ds.lsm.values\n",
    "lm = (lm > 50./100.)"
   ]
  },
  {
   "cell_type": "code",
   "execution_count": 235,
   "metadata": {},
   "outputs": [
    {
     "name": "stdout",
     "output_type": "stream",
     "text": [
      "(16816,)\n",
      "(16816,)\n"
     ]
    }
   ],
   "source": [
    "print(erai_obs_lat.shape)\n",
    "print(erai_obs_lon.shape)"
   ]
  },
  {
   "cell_type": "code",
   "execution_count": 236,
   "metadata": {},
   "outputs": [
    {
     "data": {
      "image/png": "[encoded data removed]",
      "text/plain": [
       "<Figure size 432x288 with 1 Axes>"
      ]
     },
     "metadata": {
      "needs_background": "light"
     },
     "output_type": "display_data"
    }
   ],
   "source": [
    "plt.hist(erai_obs_lat, density=True, alpha=0.5, color='r')\n",
    "tmp = np.array(mdtf_lat)\n",
    "plt.hist(tmp[tmp<0], density=True, alpha=0.5, color='b')\n",
    "plt.show()"
   ]
  },
  {
   "cell_type": "code",
   "execution_count": 237,
   "metadata": {},
   "outputs": [
    {
     "name": "stderr",
     "output_type": "stream",
     "text": [
      "/home/jj/anaconda3/envs/mcms/lib/python3.6/site-packages/cartopy/util.py:102: FutureWarning: Using a non-tuple sequence for multidimensional indexing is deprecated; use `arr[tuple(seq)]` instead of `arr[seq]`. In the future this will be interpreted as an array index, `arr[np.array(seq)]`, which will result either in an error or a different result.\n",
      "  new_data = ma.concatenate((data, data[slicer]), axis=axis)\n"
     ]
    },
    {
     "data": {
      "image/png": "[encoded data removed]",
      "text/plain": [
       "<Figure size 432x288 with 1 Axes>"
      ]
     },
     "metadata": {
      "needs_background": "light"
     },
     "output_type": "display_data"
    }
   ],
   "source": [
    "import cartopy\n",
    "from cartopy.util import add_cyclic_point\n",
    "\n",
    "plt.figure()\n",
    "ax = plt.subplot(projection=cartopy.crs.PlateCarree())\n",
    "H, x, y = np.histogram2d(erai_obs_lon, erai_obs_lat, bins=(np.arange(0, 360, 10), np.arange(-90, 90, 10)))\n",
    "H = H.T\n",
    "lon = x[:-1] + 5\n",
    "lat = y\n",
    "H, lon = add_cyclic_point(H, coord=lon)\n",
    "ax.pcolormesh(lon, lat, H)\n",
    "ax.coastlines(color='k')\n",
    "ax.plot([-180, 180], [0, 0], color='w', lw=2.)\n",
    "ax.plot([-180, 180], [-30, -30], color='w', lw=2.)\n",
    "plt.show()"
   ]
  },
  {
   "cell_type": "code",
   "execution_count": 238,
   "metadata": {},
   "outputs": [
    {
     "name": "stdout",
     "output_type": "stream",
     "text": [
      "[    0 10716  6979  5906  5493  4971  3996     0     0     0     0     0\n",
      "     0     0     0     0     0     0     0  3305  4325  5526  6734  8545\n",
      " 10378]\n",
      "[   0 4738 3068 2570 2514 2148 1778    0    0    0    0    0    0    0\n",
      "    0    0    0    0    0    0    0    0    0    0    0]\n",
      "[   0 2040 1460 1097 1061  881  589    0    0    0    0    0    0    0\n",
      "    0    0    0    0    0  474  741 1115 1401 1689 1869]\n"
     ]
    }
   ],
   "source": [
    "# ERAI disbribution for the observations (entire collection of cyclones)\n",
    "bins = np.arange(-60, 60, 5)\n",
    "erai_lat_ind = np.digitize(erai_lat, bins=bins)\n",
    "erai_lat_bin_counts = np.bincount(erai_lat_ind, minlength=len(bins)+1)\n",
    "erai_pct = erai_lat_bin_counts/np.sum(erai_lat_bin_counts)\n",
    "erai_pct[erai_lat_bin_counts == 0] = np.nan\n",
    "\n",
    "# ERAI disbribution for the observations(SH Ocean Warm)\n",
    "erai_obs_lat_ind = np.digitize(erai_obs_lat, bins=bins)\n",
    "erai_obs_lat_bin_counts = np.bincount(erai_obs_lat_ind, minlength=len(bins)+1)\n",
    "erai_obs_pct = erai_obs_lat_bin_counts/np.sum(erai_obs_lat_bin_counts)\n",
    "erai_obs_pct[erai_obs_lat_bin_counts == 0] = np.nan\n",
    "\n",
    "# MDTF distribution of cyclones\n",
    "mdtf_lat_ind = np.digitize(mdtf_lat, bins=bins)\n",
    "mdtf_lat_bin_counts = np.bincount(mdtf_lat_ind, minlength=len(bins)+1)\n",
    "mdtf_pct = mdtf_lat_bin_counts/np.sum(mdtf_lat_bin_counts)\n",
    "mdtf_pct[mdtf_lat_bin_counts == 0] = np.nan\n",
    "\n",
    "print(erai_lat_bin_counts)\n",
    "print(erai_obs_lat_bin_counts)\n",
    "print(mdtf_lat_bin_counts)"
   ]
  },
  {
   "cell_type": "code",
   "execution_count": 239,
   "metadata": {},
   "outputs": [
    {
     "name": "stdout",
     "output_type": "stream",
     "text": [
      "[       nan 0.14025585 0.08117596 0.07673991 0.0759068  0.06662708\n",
      " 0.06487809        nan        nan        nan        nan        nan\n",
      "        nan        nan        nan        nan        nan        nan\n",
      "        nan        nan        nan        nan        nan        nan\n",
      "        nan]\n",
      "1 2040\n",
      "7240.320810468553\n",
      "6 589 [       nan 0.14149962 0.10126933 0.07609073 0.07359367 0.06110841\n",
      " 0.04085455        nan        nan        nan        nan        nan\n",
      "        nan        nan        nan        nan        nan        nan\n",
      "        nan 0.03287785 0.05139766 0.07733925 0.09717694 0.11715336\n",
      " 0.12963862] [       nan 0.28175547 0.18244529 0.15283064 0.14950048 0.12773549\n",
      " 0.10573264        nan        nan        nan        nan        nan\n",
      "        nan        nan        nan        nan        nan        nan\n",
      "        nan        nan        nan        nan        nan        nan\n",
      "        nan]\n",
      "[-9223372036854775808                  788                  564\n",
      "                  423                  409                  340\n",
      "                  227 -9223372036854775808 -9223372036854775808\n",
      " -9223372036854775808 -9223372036854775808 -9223372036854775808\n",
      " -9223372036854775808 -9223372036854775808 -9223372036854775808\n",
      " -9223372036854775808 -9223372036854775808 -9223372036854775808\n",
      " -9223372036854775808                  183                  286\n",
      "                  430                  541                  652\n",
      "                  722]\n",
      "[-9223372036854775808                 1024                  733\n",
      "                  550                  532                  442\n",
      "                  295 -9223372036854775808 -9223372036854775808\n",
      " -9223372036854775808 -9223372036854775808 -9223372036854775808\n",
      " -9223372036854775808 -9223372036854775808 -9223372036854775808\n",
      " -9223372036854775808 -9223372036854775808 -9223372036854775808\n",
      " -9223372036854775808                  238                  372\n",
      "                  559                  703                  848\n",
      "                  938]\n",
      "5570.654668166479\n"
     ]
    }
   ],
   "source": [
    "diff_pct = erai_obs_pct - mdtf_pct\n",
    "max_ind = np.nanargmax(diff_pct)\n",
    "max_mdtf_count = mdtf_lat_bin_counts[max_ind] \n",
    "\n",
    "print(diff_pct)\n",
    "print(max_ind, mdtf_count)\n",
    "\n",
    "max_mdtf_count = max_mdtf_count/erai_obs_pct[max_ind]\n",
    "print(max_mdtf_count)\n",
    "\n",
    "tmp = np.copy(mdtf_pct)\n",
    "tmp[np.isnan(erai_obs_pct)] = np.nan\n",
    "diff_pct = erai_obs_pct - mdtf_pct\n",
    "min_ind = np.nanargmin(tmp)\n",
    "min_mdtf_count = mdtf_lat_bin_counts[min_ind] \n",
    "\n",
    "print(min_ind, min_mdtf_count, mdtf_pct, erai_obs_pct)\n",
    "min_mdtf_count = min_mdtf_count/erai_obs_pct[min_ind]\n"
   ]
  },
  {
   "cell_type": "code",
   "execution_count": 240,
   "metadata": {},
   "outputs": [
    {
     "data": {
      "image/png": "[encoded data removed]",
      "text/plain": [
       "<Figure size 432x288 with 1 Axes>"
      ]
     },
     "metadata": {
      "needs_background": "light"
     },
     "output_type": "display_data"
    }
   ],
   "source": [
    "plt.plot(erai_obs_pct, 'r*--', label='ERAI SH OCEAN WARM')\n",
    "plt.plot(erai_pct, 'b*--', label='ERAI ALL')\n",
    "plt.plot(mdtf_pct, 'g*--', label='MDTF')\n",
    "plt.legend(loc=0)\n",
    "plt.show()"
   ]
  },
  {
   "cell_type": "code",
   "execution_count": 241,
   "metadata": {},
   "outputs": [
    {
     "name": "stdout",
     "output_type": "stream",
     "text": [
      "19 0.0328778525352015 474 11025.196974281393\n"
     ]
    },
    {
     "data": {
      "text/plain": [
       "[<matplotlib.lines.Line2D at 0x7f8b449415c0>]"
      ]
     },
     "execution_count": 241,
     "metadata": {},
     "output_type": "execute_result"
    },
    {
     "data": {
      "image/png": "[encoded data removed]",
      "text/plain": [
       "<Figure size 432x288 with 1 Axes>"
      ]
     },
     "metadata": {
      "needs_background": "light"
     },
     "output_type": "display_data"
    }
   ],
   "source": [
    "# Selecting all the MDTF cases by the total_distrib\n",
    "mdtf_min_ind = np.nanargmin(mdtf_pct)\n",
    "mdtf_min = mdtf_pct[mdtf_min_ind]\n",
    "mdtf_min_count = mdtf_lat_bin_counts[mdtf_min_ind]\n",
    "erai_min_pct = erai_pct[mdtf_min_ind]\n",
    "\n",
    "total_mdtf_count = mdtf_min_count/erai_min_pct\n",
    "print(mdtf_min_ind, mdtf_min, mdtf_min_count, total_mdtf_count)\n",
    "\n",
    "new_distrib = erai_pct * total_mdtf_count\n",
    "new_distrib[np.isnan(new_distrib)] = 0\n",
    "new_distrib = np.array(new_distrib, dtype=np.int)\n",
    "\n",
    "# print(erai_lat_bin_counts)\n",
    "# print(mdtf_lat_bin_counts)\n",
    "# print(new_distrib)\n",
    "\n",
    "plt.plot(new_distrib, 'b*')\n",
    "plt.plot(erai_lat_bin_counts, 'r*')"
   ]
  },
  {
   "cell_type": "code",
   "execution_count": 207,
   "metadata": {},
   "outputs": [
    {
     "name": "stdout",
     "output_type": "stream",
     "text": [
      "19 0.0328778525352015 474 nan\n",
      "[   0 1111  690  528  456  434  224    0    0    0    0    0    0    0\n",
      "    0    0    0    0    0    0    0    0    0    0]\n",
      "[   0 2040 1460 1097 1061  881  589    0    0    0    0    0    0    0\n",
      "    0    0    0    0    0  474  741 1115 1401 1689 1869]\n",
      "[   0 1536 1000  847  787  712  573    0    0    0    0    0    0    0\n",
      "    0    0    0    0    0  474  620  792  965 1225 1488]\n"
     ]
    },
    {
     "data": {
      "image/png": "[encoded data removed]",
      "text/plain": [
       "<Figure size 432x288 with 1 Axes>"
      ]
     },
     "metadata": {
      "needs_background": "light"
     },
     "output_type": "display_data"
    }
   ],
   "source": [
    "# Selecting all the MDTF cases by the total_distrib\n",
    "mdtf_min_ind = np.nanargmin(mdtf_pct)\n",
    "mdtf_min = mdtf_pct[mdtf_min_ind]\n",
    "mdtf_min_count = mdtf_lat_bin_counts[mdtf_min_ind]\n",
    "erai_obs_min_pct = erai_obs_pct[mdtf_min_ind]\n",
    "\n",
    "total_mdtf_count = mdtf_min_count/erai_obs_min_pct\n",
    "print(mdtf_min_ind, mdtf_min, mdtf_min_count, total_mdtf_count)\n",
    "\n",
    "new_obs_distrib = erai_obs_pct * total_mdtf_count\n",
    "new_obs_distrib[np.isnan(new_obs_distrib)] = 0\n",
    "new_obs_distrib = np.array(new_obs_distrib, dtype=np.int)\n",
    "\n",
    "print(erai_obs_lat_bin_counts)\n",
    "print(mdtf_lat_bin_counts)\n",
    "print(new_distrib)\n",
    "\n",
    "plt.plot(new_obs_distrib, 'b*')\n",
    "plt.plot(erai_obs_lat_bin_counts, 'r*')\n",
    "plt.show()"
   ]
  },
  {
   "cell_type": "code",
   "execution_count": null,
   "metadata": {},
   "outputs": [],
   "source": []
  },
  {
   "cell_type": "markdown",
   "metadata": {},
   "source": [
    "# Saving the ERAI information cyclone distribution, I have to match this to the model "
   ]
  },
  {
   "cell_type": "code",
   "execution_count": 125,
   "metadata": {},
   "outputs": [],
   "source": [
    "# out = {'all_lat_ind': erai_lat_ind, 'all_bin_counts': erai_lat_bin_counts, 'all_pct': erai_pct,\n",
    "#        'obs_lat_ind': erai_obs_lat_ind, 'obs_bin_counts': erai_obs_lat_bin_counts, 'obs_pct': erai_obs_pct}\n",
    "# out_file = '/localdrive/drive10/jj/mdtf/inputdata/obs_data/etc_composites/erai_lat_distrib.pkl'\n",
    "# pickle.dump(out, open(out_file, 'wb'))"
   ]
  },
  {
   "cell_type": "markdown",
   "metadata": {},
   "source": [
    "# Some online method to sub-sample datasets"
   ]
  },
  {
   "cell_type": "code",
   "execution_count": 93,
   "metadata": {},
   "outputs": [],
   "source": [
    "weights = 1 / np.array([lat_bin_counts[x] for x in lat_ind])\n",
    "# weights_norm = weights / np.sum(weights)\n",
    "\n",
    "mdtf_weights = 1 / np.array([lat_bin_counts[x] for x in mdtf_lat_ind])\n",
    "# mdtf_weights_norm = mdtf_weights / np.sum(mdtf_weights)"
   ]
  },
  {
   "cell_type": "code",
   "execution_count": 94,
   "metadata": {},
   "outputs": [],
   "source": [
    "np.random.seed(0)\n",
    "SAMPLE_SIZE = len(mdtf_lat)\n",
    "sample = np.random.choice(mdtf_lat, size=SAMPLE_SIZE, p=mdtf_weights_norm, replace=False)"
   ]
  },
  {
   "cell_type": "code",
   "execution_count": 97,
   "metadata": {},
   "outputs": [],
   "source": [
    "sample_lat_ind = np.digitize(sample, bins=np.arange(-60, 60, 5))\n",
    "sample_lat_bin_counts = np.bincount(sample_lat_ind)\n",
    "sample_lat_bin_counts = sample_lat_bin_counts/np.sum(sample_lat_bin_counts)"
   ]
  },
  {
   "cell_type": "code",
   "execution_count": 98,
   "metadata": {},
   "outputs": [
    {
     "name": "stdout",
     "output_type": "stream",
     "text": [
      "[0.         0.13939694 0.09078492 0.07682702 0.07145459 0.06466426\n",
      " 0.05198116 0.         0.         0.         0.         0.\n",
      " 0.         0.         0.         0.         0.         0.\n",
      " 0.         0.04299243 0.05626089 0.07188386 0.08759789 0.11115592\n",
      " 0.13500013] [0.         0.15769997 0.1104198  0.08719992 0.07550188 0.05900533\n",
      " 0.04235967 0.         0.         0.         0.         0.\n",
      " 0.         0.         0.         0.         0.         0.\n",
      " 0.         0.02613422 0.04877123 0.07246554 0.08661706 0.11028425\n",
      " 0.12354113] [0.         0.15769997 0.1104198  0.08719992 0.07550188 0.05900533\n",
      " 0.04235967 0.         0.         0.         0.         0.\n",
      " 0.         0.         0.         0.         0.         0.\n",
      " 0.         0.02613422 0.04877123 0.07246554 0.08661706 0.11028425\n",
      " 0.12354113]\n"
     ]
    }
   ],
   "source": [
    "\n",
    "print(lat_bin_counts, mdtf_lat_bin_counts, sample_lat_bin_counts)"
   ]
  },
  {
   "cell_type": "code",
   "execution_count": 81,
   "metadata": {},
   "outputs": [
    {
     "data": {
      "text/plain": [
       "(array([20306., 12900.,  4855.,     0.,     0.,     0.,     0.,  4153.,\n",
       "        12678., 21982.]),\n",
       " array([-5.9980e+01, -4.7983e+01, -3.5986e+01, -2.3989e+01, -1.1992e+01,\n",
       "         5.0000e-03,  1.2002e+01,  2.3999e+01,  3.5996e+01,  4.7993e+01,\n",
       "         5.9990e+01]),\n",
       " <a list of 10 Patch objects>)"
      ]
     },
     "execution_count": 81,
     "metadata": {},
     "output_type": "execute_result"
    },
    {
     "data": {
      "image/png": "[encoded data removed]",
      "text/plain": [
       "<Figure size 432x288 with 1 Axes>"
      ]
     },
     "metadata": {
      "needs_background": "light"
     },
     "output_type": "display_data"
    }
   ],
   "source": [
    "plt.hist(sample, color='r', alpha=0.5)\n",
    "plt.hist(all_lat, color='b', alpha=0.5)"
   ]
  },
  {
   "cell_type": "code",
   "execution_count": 71,
   "metadata": {},
   "outputs": [
    {
     "name": "stdout",
     "output_type": "stream",
     "text": [
      "15212 73773\n"
     ]
    },
    {
     "data": {
      "text/plain": [
       "(array([0.02592136, 0.01392225, 0.00393395, 0.        , 0.        ,\n",
       "        0.        , 0.        , 0.0027724 , 0.01428387, 0.02251339]),\n",
       " array([-59.99 , -47.992, -35.994, -23.996, -11.998,   0.   ,  11.998,\n",
       "         23.996,  35.994,  47.992,  59.99 ]),\n",
       " <a list of 10 Patch objects>)"
      ]
     },
     "execution_count": 71,
     "metadata": {},
     "output_type": "execute_result"
    },
    {
     "data": {
      "image/png": "[encoded data removed]",
      "text/plain": [
       "<Figure size 432x288 with 1 Axes>"
      ]
     },
     "metadata": {
      "needs_background": "light"
     },
     "output_type": "display_data"
    }
   ],
   "source": [
    "print(len(lat), len(mdtf_lat))\n",
    "plt.hist(mdtf_lat, density=True, color='r', alpha=0.5)\n",
    "plt.hist(lat, density=True, color='b', alpha=0.5)"
   ]
  },
  {
   "cell_type": "code",
   "execution_count": 135,
   "metadata": {},
   "outputs": [
    {
     "ename": "NameError",
     "evalue": "name 'weights_norm' is not defined",
     "output_type": "error",
     "traceback": [
      "\u001b[0;31m---------------------------------------------------------------------------\u001b[0m",
      "\u001b[0;31mNameError\u001b[0m                                 Traceback (most recent call last)",
      "\u001b[0;32m<ipython-input-135-4f8f68ca83ae>\u001b[0m in \u001b[0;36m<module>\u001b[0;34m\u001b[0m\n\u001b[1;32m      1\u001b[0m \u001b[0mnp\u001b[0m\u001b[0;34m.\u001b[0m\u001b[0mrandom\u001b[0m\u001b[0;34m.\u001b[0m\u001b[0mseed\u001b[0m\u001b[0;34m(\u001b[0m\u001b[0;36m0\u001b[0m\u001b[0;34m)\u001b[0m\u001b[0;34m\u001b[0m\u001b[0;34m\u001b[0m\u001b[0m\n\u001b[1;32m      2\u001b[0m \u001b[0mSAMPLE_SIZE\u001b[0m \u001b[0;34m=\u001b[0m \u001b[0mlen\u001b[0m\u001b[0;34m(\u001b[0m\u001b[0mmdtf_lat\u001b[0m\u001b[0;34m)\u001b[0m\u001b[0;34m\u001b[0m\u001b[0;34m\u001b[0m\u001b[0m\n\u001b[0;32m----> 3\u001b[0;31m \u001b[0msample\u001b[0m \u001b[0;34m=\u001b[0m \u001b[0mnp\u001b[0m\u001b[0;34m.\u001b[0m\u001b[0mrandom\u001b[0m\u001b[0;34m.\u001b[0m\u001b[0mchoice\u001b[0m\u001b[0;34m(\u001b[0m\u001b[0mmdtf_lat\u001b[0m\u001b[0;34m,\u001b[0m \u001b[0msize\u001b[0m\u001b[0;34m=\u001b[0m\u001b[0mSAMPLE_SIZE\u001b[0m\u001b[0;34m,\u001b[0m \u001b[0mp\u001b[0m\u001b[0;34m=\u001b[0m\u001b[0mweights_norm\u001b[0m\u001b[0;34m,\u001b[0m \u001b[0mreplace\u001b[0m\u001b[0;34m=\u001b[0m\u001b[0;32mFalse\u001b[0m\u001b[0;34m)\u001b[0m\u001b[0;34m\u001b[0m\u001b[0;34m\u001b[0m\u001b[0m\n\u001b[0m",
      "\u001b[0;31mNameError\u001b[0m: name 'weights_norm' is not defined"
     ]
    }
   ],
   "source": [
    "np.random.seed(0)\n",
    "SAMPLE_SIZE = len(mdtf_lat)\n",
    "sample = np.random.choice(mdtf_lat, size=SAMPLE_SIZE, p=weights_norm, replace=False)"
   ]
  },
  {
   "cell_type": "code",
   "execution_count": 165,
   "metadata": {},
   "outputs": [
    {
     "ename": "ValueError",
     "evalue": "Sample larger than population or is negative",
     "output_type": "error",
     "traceback": [
      "\u001b[0;31m---------------------------------------------------------------------------\u001b[0m",
      "\u001b[0;31mValueError\u001b[0m                                Traceback (most recent call last)",
      "\u001b[0;32m<ipython-input-165-ed946e9b35e0>\u001b[0m in \u001b[0;36m<module>\u001b[0;34m\u001b[0m\n\u001b[1;32m      1\u001b[0m \u001b[0;32mimport\u001b[0m \u001b[0mrandom\u001b[0m\u001b[0;34m\u001b[0m\u001b[0;34m\u001b[0m\u001b[0m\n\u001b[0;32m----> 2\u001b[0;31m \u001b[0mtmp\u001b[0m \u001b[0;34m=\u001b[0m \u001b[0mrandom\u001b[0m\u001b[0;34m.\u001b[0m\u001b[0msample\u001b[0m\u001b[0;34m(\u001b[0m\u001b[0mnp\u001b[0m\u001b[0;34m.\u001b[0m\u001b[0marange\u001b[0m\u001b[0;34m(\u001b[0m\u001b[0;36m0\u001b[0m\u001b[0;34m,\u001b[0m \u001b[0mlen\u001b[0m\u001b[0;34m(\u001b[0m\u001b[0mall_centers\u001b[0m\u001b[0;34m[\u001b[0m\u001b[0;34m'all_select_flag'\u001b[0m\u001b[0;34m]\u001b[0m\u001b[0;34m)\u001b[0m\u001b[0;34m)\u001b[0m\u001b[0;34m.\u001b[0m\u001b[0mtolist\u001b[0m\u001b[0;34m(\u001b[0m\u001b[0;34m)\u001b[0m\u001b[0;34m,\u001b[0m \u001b[0;36m1009900\u001b[0m\u001b[0;34m)\u001b[0m\u001b[0;34m\u001b[0m\u001b[0;34m\u001b[0m\u001b[0m\n\u001b[0m",
      "\u001b[0;32m~/anaconda3/envs/mcms/lib/python3.6/random.py\u001b[0m in \u001b[0;36msample\u001b[0;34m(self, population, k)\u001b[0m\n\u001b[1;32m    318\u001b[0m         \u001b[0mn\u001b[0m \u001b[0;34m=\u001b[0m \u001b[0mlen\u001b[0m\u001b[0;34m(\u001b[0m\u001b[0mpopulation\u001b[0m\u001b[0;34m)\u001b[0m\u001b[0;34m\u001b[0m\u001b[0;34m\u001b[0m\u001b[0m\n\u001b[1;32m    319\u001b[0m         \u001b[0;32mif\u001b[0m \u001b[0;32mnot\u001b[0m \u001b[0;36m0\u001b[0m \u001b[0;34m<=\u001b[0m \u001b[0mk\u001b[0m \u001b[0;34m<=\u001b[0m \u001b[0mn\u001b[0m\u001b[0;34m:\u001b[0m\u001b[0;34m\u001b[0m\u001b[0;34m\u001b[0m\u001b[0m\n\u001b[0;32m--> 320\u001b[0;31m             \u001b[0;32mraise\u001b[0m \u001b[0mValueError\u001b[0m\u001b[0;34m(\u001b[0m\u001b[0;34m\"Sample larger than population or is negative\"\u001b[0m\u001b[0;34m)\u001b[0m\u001b[0;34m\u001b[0m\u001b[0;34m\u001b[0m\u001b[0m\n\u001b[0m\u001b[1;32m    321\u001b[0m         \u001b[0mresult\u001b[0m \u001b[0;34m=\u001b[0m \u001b[0;34m[\u001b[0m\u001b[0;32mNone\u001b[0m\u001b[0;34m]\u001b[0m \u001b[0;34m*\u001b[0m \u001b[0mk\u001b[0m\u001b[0;34m\u001b[0m\u001b[0;34m\u001b[0m\u001b[0m\n\u001b[1;32m    322\u001b[0m         \u001b[0msetsize\u001b[0m \u001b[0;34m=\u001b[0m \u001b[0;36m21\u001b[0m        \u001b[0;31m# size of a small set minus size of an empty list\u001b[0m\u001b[0;34m\u001b[0m\u001b[0;34m\u001b[0m\u001b[0m\n",
      "\u001b[0;31mValueError\u001b[0m: Sample larger than population or is negative"
     ]
    }
   ],
   "source": [
    "import random\n",
    "tmp = random.sample(np.arange(0, len(all_centers['all_select_flag'])).tolist(), 1009900)"
   ]
  },
  {
   "cell_type": "code",
   "execution_count": 162,
   "metadata": {},
   "outputs": [],
   "source": [
    "x = np.copy(all_centers['obs_select_flag'])\n",
    "x[tmp] = 1"
   ]
  },
  {
   "cell_type": "code",
   "execution_count": 163,
   "metadata": {},
   "outputs": [
    {
     "data": {
      "text/plain": [
       "10.0"
      ]
     },
     "execution_count": 163,
     "metadata": {},
     "output_type": "execute_result"
    }
   ],
   "source": [
    "np.sum(x)"
   ]
  }
 ],
 "metadata": {
  "kernelspec": {
   "display_name": "Python [conda env:mcms] *",
   "language": "python",
   "name": "conda-env-mcms-py"
  },
  "language_info": {
   "codemirror_mode": {
    "name": "ipython",
    "version": 3
   },
   "file_extension": ".py",
   "mimetype": "text/x-python",
   "name": "python",
   "nbconvert_exporter": "python",
   "pygments_lexer": "ipython3",
   "version": "3.6.8"
  }
 },
 "nbformat": 4,
 "nbformat_minor": 4
}
