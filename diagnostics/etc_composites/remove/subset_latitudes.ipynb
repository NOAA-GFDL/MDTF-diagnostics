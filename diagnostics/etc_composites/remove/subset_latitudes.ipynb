{
 "cells": [
  {
   "cell_type": "code",
   "execution_count": 1,
   "metadata": {},
   "outputs": [],
   "source": [
    "import numpy as np \n",
    "import scipy.io as sio\n",
    "import os\n",
    "import matplotlib.pyplot as plt\n",
    "import importlib\n",
    "\n",
    "import sys\n",
    "sys.path.append('../util/')\n",
    "import reader\n",
    "import composites\n",
    "importlib.reload(reader)\n",
    "\n",
    "from tqdm import tqdm, notebook\n",
    "import xarray as xr"
   ]
  },
  {
   "cell_type": "code",
   "execution_count": null,
   "metadata": {},
   "outputs": [],
   "source": []
  },
  {
   "cell_type": "code",
   "execution_count": 3,
   "metadata": {},
   "outputs": [
    {
     "name": "stdout",
     "output_type": "stream",
     "text": [
      "True\n",
      "True\n",
      "True\n"
     ]
    }
   ],
   "source": [
    "# reading in the matlab files for era-interim\n",
    "folder = '/localdrive/drive10/jj/mdtf/wkdir/MDTF_ERAI.EXP1.TEST.001_2008_2012/etc_composites/tmp/RUNDIR/tmprun/read_tmprun/'\n",
    "print(os.path.exists(folder))\n",
    "\n",
    "# reading in a sample model data\n",
    "mdtf_folder = '/localdrive/drive10/jj/mdtf/wkdir/MDTF_GFDL.EXP1.2PM.001_2008_2012/etc_composites/tmp/RUNDIR/tmprun/read_tmprun/'\n",
    "print(os.path.exists(mdtf_folder))\n",
    "\n",
    "# Reading in the topography file\n",
    "lm_file = '/localdrive/drive10/jj/mdtf/inputdata/model/ERAI.EXP1.TEST.001/topo.nc'\n",
    "print(os.path.exists(lm_file))"
   ]
  },
  {
   "cell_type": "code",
   "execution_count": 7,
   "metadata": {},
   "outputs": [
    {
     "name": "stdout",
     "output_type": "stream",
     "text": [
      "Done processing 2008.\n",
      "Done processing 2009.\n",
      "Done processing 2010.\n",
      "Done processing 2011.\n",
      "Done processing 2012.\n",
      "Done processing 2008.\n"
     ]
    }
   ],
   "source": [
    "importlib.reload(reader)\n",
    "\n",
    "years = [2008, 2012]\n",
    "erai_lat = []\n",
    "erai_lon = []\n",
    "erai_mm = []\n",
    "\n",
    "# reading in ll of ERA-Interim data\n",
    "for year in range(years[0], years[1]+1):\n",
    "    file = os.path.join(folder, f\"tmprun_{year}.mat\")\n",
    "    all_centers = reader.read_center_from_mat_file(file)\n",
    "    lat = all_centers['lat']\n",
    "    lon = all_centers['lon']\n",
    "    mm = all_centers['mm']\n",
    "    ind = (np.abs(lat) > 30) & (np.abs(lat) < 60)\n",
    "    lat = lat[ind]\n",
    "    lon = lon[ind]\n",
    "    erai_lat.extend(lat)\n",
    "    erai_lon.extend(lon)\n",
    "    erai_mm.extend(mm)\n",
    "    \n",
    "    print(f\"Done processing {year}.\")\n",
    "\n",
    "# reading in a single year of MODEL data\n",
    "years = [2008, 2008]\n",
    "mdtf_lat = []\n",
    "mdtf_lon = []\n",
    "mdtf_mm = []\n",
    "for year in range(years[0], years[1]+1):\n",
    "    file = os.path.join(mdtf_folder, f\"tmprun_{year}.mat\")\n",
    "    all_centers = reader.read_center_from_mat_file(file)\n",
    "    lat = all_centers['lat']\n",
    "    lon = all_centers['lon']\n",
    "    mm = all_centers['mm']\n",
    "    ind = (np.abs(lat) > 30) & (np.abs(lat) < 60)\n",
    "    lat = lat[ind]\n",
    "    lon = lon[ind]\n",
    "    mdtf_lat.extend(lat)\n",
    "    mdtf_lon.extend(lon)\n",
    "    mdtf_mm.extend(mm)\n",
    "    print(f\"Done processing {year}.\")"
   ]
  },
  {
   "cell_type": "code",
   "execution_count": 13,
   "metadata": {},
   "outputs": [],
   "source": [
    "slp_file = '/localdrive/drive10/jj/mdtf/wkdir/MDTF_ERAI.EXP1.TEST.001_2008_2012/etc_composites/tmp/data_converts/slp.2008.nc'\n",
    "slp = xr.open_dataset(slp_file)\n",
    "reflat = slp.lat.values\n",
    "reflon = slp.lon.values\n",
    "\n",
    "reflon, reflat = np.meshgrid(reflon, reflat)\n",
    "\n",
    "ds = xr.open_dataset(lm_file)\n",
    "lm = ds.lsm.isel(time=0).values\n",
    "lm = (lm > 50./100.)"
   ]
  },
  {
   "cell_type": "code",
   "execution_count": 22,
   "metadata": {},
   "outputs": [
    {
     "name": "stdout",
     "output_type": "stream",
     "text": [
      "[ 90.   88.5  87.   85.5  84.   82.5  81.   79.5  78.   76.5  75.   73.5\n",
      "  72.   70.5  69.   67.5  66.   64.5  63.   61.5  60.   58.5  57.   55.5\n",
      "  54.   52.5  51.   49.5  48.   46.5  45.   43.5  42.   40.5  39.   37.5\n",
      "  36.   34.5  33.   31.5  30.   28.5  27.   25.5  24.   22.5  21.   19.5\n",
      "  18.   16.5  15.   13.5  12.   10.5   9.    7.5   6.    4.5   3.    1.5\n",
      "   0.   -1.5  -3.   -4.5  -6.   -7.5  -9.  -10.5 -12.  -13.5 -15.  -16.5\n",
      " -18.  -19.5 -21.  -22.5 -24.  -25.5 -27.  -28.5 -30.  -31.5 -33.  -34.5\n",
      " -36.  -37.5 -39.  -40.5 -42.  -43.5 -45.  -46.5 -48.  -49.5 -51.  -52.5\n",
      " -54.  -55.5 -57.  -58.5 -60.  -61.5 -63.  -64.5 -66.  -67.5 -69.  -70.5\n",
      " -72.  -73.5 -75.  -76.5 -78.  -79.5 -81.  -82.5 -84.  -85.5 -87.  -88.5\n",
      " -90. ]\n"
     ]
    }
   ],
   "source": [
    "# print(ds.longitude.values)\n",
    "print(slp.lat.values)"
   ]
  },
  {
   "cell_type": "code",
   "execution_count": 10,
   "metadata": {},
   "outputs": [
    {
     "data": {
      "application/vnd.jupyter.widget-view+json": {
       "model_id": "34a405fae7364ff58a59cfaf05a5f7a4",
       "version_major": 2,
       "version_minor": 0
      },
      "text/plain": [
       "HBox(children=(FloatProgress(value=0.0, max=76874.0), HTML(value='')))"
      ]
     },
     "metadata": {},
     "output_type": "display_data"
    },
    {
     "name": "stdout",
     "output_type": "stream",
     "text": [
      "\n"
     ]
    }
   ],
   "source": [
    "erai_obs_lat = []\n",
    "erai_obs_lon = []\n",
    "\n",
    "# filtering out the lat/lon for the SH Ocean Warm season, and creating the observation distribution\n",
    "for ilat, ilon, imm in notebook.tqdm(zip(erai_lat, erai_lon, erai_mm), total=len(erai_lat)):\n",
    "    # skipping northern hemisphere distribution\n",
    "    if (ilat > 0): \n",
    "        continue\n",
    "       \n",
    "    # checking warm season\n",
    "    if not ((imm == 11) | (imm == 12) | (imm == 1) | (imm == 2) | (imm == 3)):\n",
    "        continue\n",
    "        \n",
    "    # checking ocean (=0), skip if land (=1)\n",
    "    dist_grid = composites.compute_dist_from_cdt(reflat, reflon, ilat, ilon)\n",
    "    c_ind = np.nanargmin(dist_grid)\n",
    "    cx, cy = np.unravel_index(c_ind, dist_grid.shape)\n",
    "    lm_flag = lm[cx, cy]\n",
    "    \n",
    "    if (lm_flag):\n",
    "        continue\n",
    "        \n",
    "    erai_obs_lat.append(ilat)\n",
    "    erai_obs_lon.append(ilon)\n",
    "    \n",
    "    \n",
    "erai_obs_lat = np.array(erai_obs_lat) \n",
    "erai_obs_lon = np.array(erai_obs_lon) "
   ]
  },
  {
   "cell_type": "code",
   "execution_count": 11,
   "metadata": {},
   "outputs": [
    {
     "name": "stdout",
     "output_type": "stream",
     "text": [
      "(16229,)\n",
      "(16229,)\n"
     ]
    }
   ],
   "source": [
    "print(erai_obs_lat.shape)\n",
    "print(erai_obs_lon.shape)"
   ]
  },
  {
   "cell_type": "code",
   "execution_count": 12,
   "metadata": {},
   "outputs": [
    {
     "name": "stdout",
     "output_type": "stream",
     "text": [
      "[    0 10716  6979  5906  5493  4971  3996     0     0     0     0     0\n",
      "     0     0     0     0     0     0     0  3305  4325  5526  6734  8545\n",
      " 10378]\n",
      "[   0 4738 3027 2514 2436 1998 1516    0    0    0    0    0    0    0\n",
      "    0    0    0    0    0    0    0    0    0    0]\n",
      "[   0 2040 1460 1097 1061  881  589    0    0    0    0    0    0    0\n",
      "    0    0    0    0    0  474  741 1115 1401 1689 1869]\n"
     ]
    }
   ],
   "source": [
    "# ERAI disbribution for the observations (entire collection of cyclones)\n",
    "bins = np.arange(-60, 60, 5)\n",
    "erai_lat_ind = np.digitize(erai_lat, bins=bins)\n",
    "erai_lat_bin_counts = np.bincount(erai_lat_ind, minlength=len(bins))\n",
    "erai_pct = erai_lat_bin_counts/np.sum(erai_lat_bin_counts)\n",
    "erai_pct[erai_lat_bin_counts == 0] = np.nan\n",
    "\n",
    "# ERAI disbribution for the observations(SH Ocean Warm)\n",
    "erai_obs_lat_ind = np.digitize(erai_obs_lat, bins=bins)\n",
    "erai_obs_lat_bin_counts = np.bincount(erai_obs_lat_ind, minlength=len(bins))\n",
    "erai_obs_pct = erai_obs_lat_bin_counts/np.sum(erai_obs_lat_bin_counts)\n",
    "erai_obs_pct[erai_obs_lat_bin_counts == 0] = np.nan\n",
    "\n",
    "# MDTF distribution of cyclones\n",
    "mdtf_lat_ind = np.digitize(mdtf_lat, bins=bins)\n",
    "mdtf_lat_bin_counts = np.bincount(mdtf_lat_ind, minlength=len(bins))\n",
    "mdtf_pct = mdtf_lat_bin_counts/np.sum(mdtf_lat_bin_counts)\n",
    "mdtf_pct[mdtf_lat_bin_counts == 0] = np.nan\n",
    "\n",
    "print(erai_lat_bin_counts)\n",
    "print(erai_obs_lat_bin_counts)\n",
    "print(mdtf_lat_bin_counts)"
   ]
  },
  {
   "cell_type": "code",
   "execution_count": 205,
   "metadata": {},
   "outputs": [
    {
     "data": {
      "image/png": "[encoded data removed]",
      "text/plain": [
       "<Figure size 432x288 with 1 Axes>"
      ]
     },
     "metadata": {
      "needs_background": "light"
     },
     "output_type": "display_data"
    }
   ],
   "source": [
    "plt.plot(erai_obs_pct, 'r*--', label='ERAI SH OCEAN WARM')\n",
    "plt.plot(erai_pct, 'b*--', label='ERAI ALL')\n",
    "plt.plot(mdtf_pct, 'g*--', label='MDTF')\n",
    "plt.legend(loc=0)\n",
    "plt.show()"
   ]
  },
  {
   "cell_type": "code",
   "execution_count": 206,
   "metadata": {},
   "outputs": [
    {
     "name": "stdout",
     "output_type": "stream",
     "text": [
      "19 0.0328778525352015 474 11025.196974281393\n"
     ]
    },
    {
     "data": {
      "text/plain": [
       "[<matplotlib.lines.Line2D at 0x7f7727c01fd0>]"
      ]
     },
     "execution_count": 206,
     "metadata": {},
     "output_type": "execute_result"
    },
    {
     "data": {
      "image/png": "[encoded data removed]",
      "text/plain": [
       "<Figure size 432x288 with 1 Axes>"
      ]
     },
     "metadata": {
      "needs_background": "light"
     },
     "output_type": "display_data"
    }
   ],
   "source": [
    "# Selecting all the MDTF cases by the total_distrib\n",
    "mdtf_min_ind = np.nanargmin(mdtf_pct)\n",
    "mdtf_min = mdtf_pct[mdtf_min_ind]\n",
    "mdtf_min_count = mdtf_lat_bin_counts[mdtf_min_ind]\n",
    "erai_min_pct = erai_pct[mdtf_min_ind]\n",
    "\n",
    "total_mdtf_count = mdtf_min_count/erai_min_pct\n",
    "print(mdtf_min_ind, mdtf_min, mdtf_min_count, total_mdtf_count)\n",
    "\n",
    "new_distrib = erai_pct * total_mdtf_count\n",
    "new_distrib[np.isnan(new_distrib)] = 0\n",
    "new_distrib = np.array(new_distrib, dtype=np.int)\n",
    "\n",
    "# print(erai_lat_bin_counts)\n",
    "# print(mdtf_lat_bin_counts)\n",
    "# print(new_distrib)\n",
    "\n",
    "plt.plot(new_distrib, 'b*')\n",
    "plt.plot(erai_lat_bin_counts, 'r*')"
   ]
  },
  {
   "cell_type": "code",
   "execution_count": 207,
   "metadata": {},
   "outputs": [
    {
     "name": "stdout",
     "output_type": "stream",
     "text": [
      "19 0.0328778525352015 474 nan\n",
      "[   0 1111  690  528  456  434  224    0    0    0    0    0    0    0\n",
      "    0    0    0    0    0    0    0    0    0    0]\n",
      "[   0 2040 1460 1097 1061  881  589    0    0    0    0    0    0    0\n",
      "    0    0    0    0    0  474  741 1115 1401 1689 1869]\n",
      "[   0 1536 1000  847  787  712  573    0    0    0    0    0    0    0\n",
      "    0    0    0    0    0  474  620  792  965 1225 1488]\n"
     ]
    },
    {
     "data": {
      "image/png": "[encoded data removed]",
      "text/plain": [
       "<Figure size 432x288 with 1 Axes>"
      ]
     },
     "metadata": {
      "needs_background": "light"
     },
     "output_type": "display_data"
    }
   ],
   "source": [
    "# Selecting all the MDTF cases by the total_distrib\n",
    "mdtf_min_ind = np.nanargmin(mdtf_pct)\n",
    "mdtf_min = mdtf_pct[mdtf_min_ind]\n",
    "mdtf_min_count = mdtf_lat_bin_counts[mdtf_min_ind]\n",
    "erai_obs_min_pct = erai_obs_pct[mdtf_min_ind]\n",
    "\n",
    "total_mdtf_count = mdtf_min_count/erai_obs_min_pct\n",
    "print(mdtf_min_ind, mdtf_min, mdtf_min_count, total_mdtf_count)\n",
    "\n",
    "new_obs_distrib = erai_obs_pct * total_mdtf_count\n",
    "new_obs_distrib[np.isnan(new_obs_distrib)] = 0\n",
    "new_obs_distrib = np.array(new_obs_distrib, dtype=np.int)\n",
    "\n",
    "print(erai_obs_lat_bin_counts)\n",
    "print(mdtf_lat_bin_counts)\n",
    "print(new_distrib)\n",
    "\n",
    "plt.plot(new_obs_distrib, 'b*')\n",
    "plt.plot(erai_obs_lat_bin_counts, 'r*')\n",
    "plt.show()"
   ]
  },
  {
   "cell_type": "code",
   "execution_count": null,
   "metadata": {},
   "outputs": [],
   "source": []
  },
  {
   "cell_type": "markdown",
   "metadata": {},
   "source": [
    "# Saving the ERAI information cyclone distribution, I have to match this to the model "
   ]
  },
  {
   "cell_type": "code",
   "execution_count": 209,
   "metadata": {},
   "outputs": [],
   "source": [
    "out = {'all_lat_ind': erai_lat_ind, 'all_bin_counts': erai_lat_bin_counts, 'all_pct': erai_pct,\n",
    "       'obs_lat_ind': erai_obs_lat_ind, 'obs_bin_counts': erai_obs_lat_bin_counts, 'obs_pct': erai_obs_pct}\n",
    "out_file = '/localdrive/drive10/jj/mdtf/inputdata/obs_data/etc_composites/erai_lat_distrib.pkl'"
   ]
  },
  {
   "cell_type": "markdown",
   "metadata": {},
   "source": [
    "# Some online method to sub-sample datasets"
   ]
  },
  {
   "cell_type": "code",
   "execution_count": 93,
   "metadata": {},
   "outputs": [],
   "source": [
    "weights = 1 / np.array([lat_bin_counts[x] for x in lat_ind])\n",
    "# weights_norm = weights / np.sum(weights)\n",
    "\n",
    "mdtf_weights = 1 / np.array([lat_bin_counts[x] for x in mdtf_lat_ind])\n",
    "# mdtf_weights_norm = mdtf_weights / np.sum(mdtf_weights)"
   ]
  },
  {
   "cell_type": "code",
   "execution_count": 94,
   "metadata": {},
   "outputs": [],
   "source": [
    "np.random.seed(0)\n",
    "SAMPLE_SIZE = len(mdtf_lat)\n",
    "sample = np.random.choice(mdtf_lat, size=SAMPLE_SIZE, p=mdtf_weights_norm, replace=False)"
   ]
  },
  {
   "cell_type": "code",
   "execution_count": 97,
   "metadata": {},
   "outputs": [],
   "source": [
    "sample_lat_ind = np.digitize(sample, bins=np.arange(-60, 60, 5))\n",
    "sample_lat_bin_counts = np.bincount(sample_lat_ind)\n",
    "sample_lat_bin_counts = sample_lat_bin_counts/np.sum(sample_lat_bin_counts)"
   ]
  },
  {
   "cell_type": "code",
   "execution_count": 98,
   "metadata": {},
   "outputs": [
    {
     "name": "stdout",
     "output_type": "stream",
     "text": [
      "[0.         0.13939694 0.09078492 0.07682702 0.07145459 0.06466426\n",
      " 0.05198116 0.         0.         0.         0.         0.\n",
      " 0.         0.         0.         0.         0.         0.\n",
      " 0.         0.04299243 0.05626089 0.07188386 0.08759789 0.11115592\n",
      " 0.13500013] [0.         0.15769997 0.1104198  0.08719992 0.07550188 0.05900533\n",
      " 0.04235967 0.         0.         0.         0.         0.\n",
      " 0.         0.         0.         0.         0.         0.\n",
      " 0.         0.02613422 0.04877123 0.07246554 0.08661706 0.11028425\n",
      " 0.12354113] [0.         0.15769997 0.1104198  0.08719992 0.07550188 0.05900533\n",
      " 0.04235967 0.         0.         0.         0.         0.\n",
      " 0.         0.         0.         0.         0.         0.\n",
      " 0.         0.02613422 0.04877123 0.07246554 0.08661706 0.11028425\n",
      " 0.12354113]\n"
     ]
    }
   ],
   "source": [
    "\n",
    "print(lat_bin_counts, mdtf_lat_bin_counts, sample_lat_bin_counts)"
   ]
  },
  {
   "cell_type": "code",
   "execution_count": 81,
   "metadata": {},
   "outputs": [
    {
     "data": {
      "text/plain": [
       "(array([20306., 12900.,  4855.,     0.,     0.,     0.,     0.,  4153.,\n",
       "        12678., 21982.]),\n",
       " array([-5.9980e+01, -4.7983e+01, -3.5986e+01, -2.3989e+01, -1.1992e+01,\n",
       "         5.0000e-03,  1.2002e+01,  2.3999e+01,  3.5996e+01,  4.7993e+01,\n",
       "         5.9990e+01]),\n",
       " <a list of 10 Patch objects>)"
      ]
     },
     "execution_count": 81,
     "metadata": {},
     "output_type": "execute_result"
    },
    {
     "data": {
      "image/png": "[encoded data removed]",
      "text/plain": [
       "<Figure size 432x288 with 1 Axes>"
      ]
     },
     "metadata": {
      "needs_background": "light"
     },
     "output_type": "display_data"
    }
   ],
   "source": [
    "plt.hist(sample, color='r', alpha=0.5)\n",
    "plt.hist(all_lat, color='b', alpha=0.5)"
   ]
  },
  {
   "cell_type": "code",
   "execution_count": 71,
   "metadata": {},
   "outputs": [
    {
     "name": "stdout",
     "output_type": "stream",
     "text": [
      "15212 73773\n"
     ]
    },
    {
     "data": {
      "text/plain": [
       "(array([0.02592136, 0.01392225, 0.00393395, 0.        , 0.        ,\n",
       "        0.        , 0.        , 0.0027724 , 0.01428387, 0.02251339]),\n",
       " array([-59.99 , -47.992, -35.994, -23.996, -11.998,   0.   ,  11.998,\n",
       "         23.996,  35.994,  47.992,  59.99 ]),\n",
       " <a list of 10 Patch objects>)"
      ]
     },
     "execution_count": 71,
     "metadata": {},
     "output_type": "execute_result"
    },
    {
     "data": {
      "image/png": "[encoded data removed]",
      "text/plain": [
       "<Figure size 432x288 with 1 Axes>"
      ]
     },
     "metadata": {
      "needs_background": "light"
     },
     "output_type": "display_data"
    }
   ],
   "source": [
    "print(len(lat), len(mdtf_lat))\n",
    "plt.hist(mdtf_lat, density=True, color='r', alpha=0.5)\n",
    "plt.hist(lat, density=True, color='b', alpha=0.5)"
   ]
  },
  {
   "cell_type": "code",
   "execution_count": 66,
   "metadata": {},
   "outputs": [
    {
     "ename": "ValueError",
     "evalue": "'a' and 'p' must have same size",
     "output_type": "error",
     "traceback": [
      "\u001b[0;31m---------------------------------------------------------------------------\u001b[0m",
      "\u001b[0;31mValueError\u001b[0m                                Traceback (most recent call last)",
      "\u001b[0;32m<ipython-input-66-4f8f68ca83ae>\u001b[0m in \u001b[0;36m<module>\u001b[0;34m\u001b[0m\n\u001b[1;32m      1\u001b[0m \u001b[0mnp\u001b[0m\u001b[0;34m.\u001b[0m\u001b[0mrandom\u001b[0m\u001b[0;34m.\u001b[0m\u001b[0mseed\u001b[0m\u001b[0;34m(\u001b[0m\u001b[0;36m0\u001b[0m\u001b[0;34m)\u001b[0m\u001b[0;34m\u001b[0m\u001b[0;34m\u001b[0m\u001b[0m\n\u001b[1;32m      2\u001b[0m \u001b[0mSAMPLE_SIZE\u001b[0m \u001b[0;34m=\u001b[0m \u001b[0mlen\u001b[0m\u001b[0;34m(\u001b[0m\u001b[0mmdtf_lat\u001b[0m\u001b[0;34m)\u001b[0m\u001b[0;34m\u001b[0m\u001b[0;34m\u001b[0m\u001b[0m\n\u001b[0;32m----> 3\u001b[0;31m \u001b[0msample\u001b[0m \u001b[0;34m=\u001b[0m \u001b[0mnp\u001b[0m\u001b[0;34m.\u001b[0m\u001b[0mrandom\u001b[0m\u001b[0;34m.\u001b[0m\u001b[0mchoice\u001b[0m\u001b[0;34m(\u001b[0m\u001b[0mmdtf_lat\u001b[0m\u001b[0;34m,\u001b[0m \u001b[0msize\u001b[0m\u001b[0;34m=\u001b[0m\u001b[0mSAMPLE_SIZE\u001b[0m\u001b[0;34m,\u001b[0m \u001b[0mp\u001b[0m\u001b[0;34m=\u001b[0m\u001b[0mweights_norm\u001b[0m\u001b[0;34m,\u001b[0m \u001b[0mreplace\u001b[0m\u001b[0;34m=\u001b[0m\u001b[0;32mFalse\u001b[0m\u001b[0;34m)\u001b[0m\u001b[0;34m\u001b[0m\u001b[0;34m\u001b[0m\u001b[0m\n\u001b[0m",
      "\u001b[0;32mmtrand.pyx\u001b[0m in \u001b[0;36mmtrand.RandomState.choice\u001b[0;34m()\u001b[0m\n",
      "\u001b[0;31mValueError\u001b[0m: 'a' and 'p' must have same size"
     ]
    }
   ],
   "source": [
    "np.random.seed(0)\n",
    "SAMPLE_SIZE = len(mdtf_lat)\n",
    "sample = np.random.choice(mdtf_lat, size=SAMPLE_SIZE, p=weights_norm, replace=False)"
   ]
  }
 ],
 "metadata": {
  "kernelspec": {
   "display_name": "Python [conda env:mcms] *",
   "language": "python",
   "name": "conda-env-mcms-py"
  },
  "language_info": {
   "codemirror_mode": {
    "name": "ipython",
    "version": 3
   },
   "file_extension": ".py",
   "mimetype": "text/x-python",
   "name": "python",
   "nbconvert_exporter": "python",
   "pygments_lexer": "ipython3",
   "version": "3.6.8"
  }
 },
 "nbformat": 4,
 "nbformat_minor": 4
}
