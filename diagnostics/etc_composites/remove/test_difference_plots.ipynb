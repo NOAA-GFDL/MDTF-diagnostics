{
 "cells": [
  {
   "cell_type": "code",
   "execution_count": 25,
   "metadata": {},
   "outputs": [],
   "source": [
    "import numpy as np \n",
    "import xarray as xr \n",
    "import os \n",
    "import matplotlib.pyplot as plt \n",
    "import netCDF4 as nc\n",
    "from scipy import interpolate\n",
    "import pickle\n",
    "import sys"
   ]
  },
  {
   "cell_type": "code",
   "execution_count": 36,
   "metadata": {},
   "outputs": [],
   "source": [
    "# os.environ['WK_DIR'] = '/localdrive/drive10/jj/mdtf/wkdir/MDTF_QBOi.EXP1.AMIP.v4.001_2008_2012/etc_composites'\n",
    "os.environ['WK_DIR'] = '/localdrive/drive10/jj/mdtf/wkdir/MDTF_QBOi.EXP1.AMIP.v2.001_2008_2008/etc_composites'\n",
    "\n",
    "os.environ['POD_HOME'] = '/localdrive/drive10/jj/mdtf/MDTF-diagnostics/diagnostics/etc_composites'\n",
    "os.environ['DATADIR'] = '/localdrive/drive10/jj/mdtf/inputdata/model/QBOi.EXP1.AMIP.001'\n",
    "os.environ['OBS_DATA'] = '/localdrive/drive10/jj/mdtf/inputdata/obs_data/etc_composites'\n",
    "os.environ['CASENAME'] = 'QBOi.EXP1.AMIP.001'\n",
    "\n",
    "os.environ['FIRSTYR'] = '2008'\n",
    "os.environ['LASTYR'] = '2012'\n",
    "\n",
    "os.environ['topo_file'] = os.environ['DATADIR'] + '/topo.nc'\n",
    "sys.path.append(os.environ['POD_HOME']+'/util')\n",
    "\n",
    "# Setitng up the necessary variable names \n",
    "os.environ['slp_var'] = 'SLP'\n",
    "os.environ['slp_file'] = '*.'+os.environ['slp_var']+'.6hr.nc'\n",
    "\n",
    "os.environ['tp_var'] = 'PRECT'\n",
    "os.environ['tp_file'] = '*.'+os.environ['tp_var']+'.6hr.nc'\n",
    "\n",
    "os.environ['MODEL_OUTPUT_DIR']  = os.environ['DATADIR'] + '/6hr'"
   ]
  },
  {
   "cell_type": "code",
   "execution_count": null,
   "metadata": {},
   "outputs": [],
   "source": []
  },
  {
   "cell_type": "code",
   "execution_count": null,
   "metadata": {},
   "outputs": [],
   "source": []
  },
  {
   "cell_type": "code",
   "execution_count": 48,
   "metadata": {},
   "outputs": [
    {
     "ename": "FileNotFoundError",
     "evalue": "[Errno 2] No such file or directory: '/localdrive/drive10/jj/mdtf/wkdir/MDTF_QBOi.EXP1.AMIP.v2.001_2008_2008/etc_composites/tmp/RUNDIR/tmprun/read_tmprun/composites.pkl'",
     "output_type": "error",
     "traceback": [
      "\u001b[0;31m---------------------------------------------------------------------------\u001b[0m",
      "\u001b[0;31mFileNotFoundError\u001b[0m                         Traceback (most recent call last)",
      "\u001b[0;32m<ipython-input-48-02d2df2f90a8>\u001b[0m in \u001b[0;36m<module>\u001b[0;34m\u001b[0m\n\u001b[1;32m     60\u001b[0m \u001b[0;31m## Reading in the model composites\u001b[0m\u001b[0;34m\u001b[0m\u001b[0;34m\u001b[0m\u001b[0;34m\u001b[0m\u001b[0m\n\u001b[1;32m     61\u001b[0m \u001b[0mmodel_file\u001b[0m \u001b[0;34m=\u001b[0m \u001b[0;34mf\"{os.environ['WK_DIR']}/tmp/RUNDIR/tmprun/read_tmprun/composites.pkl\"\u001b[0m\u001b[0;34m\u001b[0m\u001b[0;34m\u001b[0m\u001b[0m\n\u001b[0;32m---> 62\u001b[0;31m \u001b[0mmodel_data\u001b[0m \u001b[0;34m=\u001b[0m \u001b[0mpickle\u001b[0m\u001b[0;34m.\u001b[0m\u001b[0mload\u001b[0m\u001b[0;34m(\u001b[0m\u001b[0mopen\u001b[0m\u001b[0;34m(\u001b[0m\u001b[0mmodel_file\u001b[0m\u001b[0;34m,\u001b[0m \u001b[0;34m'rb'\u001b[0m\u001b[0;34m)\u001b[0m\u001b[0;34m)\u001b[0m\u001b[0;34m\u001b[0m\u001b[0;34m\u001b[0m\u001b[0m\n\u001b[0m\u001b[1;32m     63\u001b[0m \u001b[0;34m\u001b[0m\u001b[0m\n\u001b[1;32m     64\u001b[0m \u001b[0;31m# Creating the plots\u001b[0m\u001b[0;34m\u001b[0m\u001b[0;34m\u001b[0m\u001b[0;34m\u001b[0m\u001b[0m\n",
      "\u001b[0;31mFileNotFoundError\u001b[0m: [Errno 2] No such file or directory: '/localdrive/drive10/jj/mdtf/wkdir/MDTF_QBOi.EXP1.AMIP.v2.001_2008_2008/etc_composites/tmp/RUNDIR/tmprun/read_tmprun/composites.pkl'"
     ]
    }
   ],
   "source": [
    "###################################################\n",
    "##### Creating plots from obs/merra and era-interim\n",
    "###################################################\n",
    "\n",
    "# load in the netcdf files \n",
    "obs_file = f\"{os.environ['OBS_DATA']}/modis_merra.nc\"\n",
    "era_file = f\"{os.environ['OBS_DATA']}/era_interim.nc\"\n",
    "\n",
    "# reading in the observation file\n",
    "ds = xr.open_dataset(obs_file)\n",
    "obs_x = ds['X'].values\n",
    "obs_y = ds['Y'].values\n",
    "modis_cld = ds['modis_cld'].values\n",
    "merra_pw = ds['merra_pw'].values\n",
    "merra_omega = ds['merra_omega'].values\n",
    "ds.close()\n",
    "\n",
    "# reading in the re-analysis file\n",
    "ds = xr.open_dataset(era_file)\n",
    "erai_x = ds['X'].values\n",
    "erai_y = ds['Y'].values\n",
    "pr_nh_ocean_warm = ds['pr_nh_ocean_warm'].values\n",
    "prw_nh_ocean_warm = ds['prw_nh_ocean_warm'].values\n",
    "ws_nh_ocean_warm = ds['ws_nh_ocean_warm'].values\n",
    "pr_sh_ocean_warm = ds['pr_sh_ocean_warm'].values\n",
    "prw_sh_ocean_warm = ds['prw_sh_ocean_warm'].values\n",
    "ws_sh_ocean_warm = ds['ws_sh_ocean_warm'].values\n",
    "ds.close()\n",
    "\n",
    "\n",
    "############################################################\n",
    "####### Creating Difference Plots\n",
    "############################################################\n",
    "\n",
    "# regrdding the observation data \n",
    "## setting up the necessary x,y values in the format required for griddata\n",
    "obs_x_1d = obs_x.flatten()\n",
    "obs_y_1d = obs_y.flatten()\n",
    "\n",
    "modis_cld_1d = modis_cld.flatten()\n",
    "merra_pw_1d = merra_pw.flatten()\n",
    "merra_omega_1d = merra_omega.flatten()\n",
    "\n",
    "## the erai x and y are 1d, have to convert it to a 2d grid\n",
    "erai_x_grid, erai_y_grid = np.meshgrid(erai_x, erai_y)\n",
    "erai_x_1d = erai_x_grid.flatten()\n",
    "erai_y_1d = erai_y_grid.flatten()\n",
    "\n",
    "# interpolating the ang, dist plots from observations on to the erai standard grid (same grid as the outputs from the model)\n",
    "erai_modis_cld = interpolate.griddata((obs_x_1d, obs_y_1d), modis_cld_1d, (erai_x_1d, erai_y_1d))\n",
    "erai_modis_cld = erai_modis_cld.reshape(erai_x_grid.shape)\n",
    "\n",
    "erai_merra_pw = interpolate.griddata((obs_x_1d, obs_y_1d), merra_pw_1d, (erai_x_1d, erai_y_1d))\n",
    "erai_merra_pw = erai_merra_pw.reshape(erai_x_grid.shape)\n",
    "\n",
    "erai_merra_omega = interpolate.griddata((obs_x_1d, obs_y_1d), merra_omega_1d, (erai_x_1d, erai_y_1d))\n",
    "erai_merra_omega = erai_merra_omega.reshape(erai_x_grid.shape)\n",
    "\n",
    "\n",
    "## Reading in the model composites\n",
    "model_file = f\"{os.environ['WK_DIR']}/tmp/RUNDIR/tmprun/read_tmprun/composites.pkl\"\n",
    "model_data = pickle.load(open(model_file, 'rb'))\n",
    "\n",
    "# Creating the plots\n",
    "\n",
    "plt.figure(figsize=(12,8))\n",
    "plt.subplot(2,2,1)\n",
    "# MODEL - ERA-Interim PR (Total Precip)\n",
    "out_file = f\"{os.environ['WK_DIR']}/model/{os.environ['CASENAME']}_erai_pr_SH_ocean_WARM.png\"\n",
    "hemis = 'SH'; lo = 'ocean'; season = 'warm'; var = 'tp'\n",
    "model_val = model_data[hemis][lo][season][var]['area_sum']/model_data[hemis][lo][season][var]['area_cnt']\n",
    "diff_val = model_val - pr_sh_ocean_warm\n",
    "vmax = np.nanpercentile(np.abs(diff_val).flatten(), 80)\n",
    "vmin = -1*vmax\n",
    "plt.pcolormesh(erai_x, erai_y, diff_val, vmin=vmin, vmax=vmax, cmap='bwr')\n",
    "plt.title(f\"{os.environ['CASENAME']} - ERA-Interim\\nSH OCEAN WARM PR\")\n",
    "plt.ylim(-1500, 1500)\n",
    "plt.xlim(-1500, 1500)\n",
    "plt.colorbar()\n",
    "\n",
    "plt.subplot(2,2,2)\n",
    "# MERRA - ERA-Interim\n",
    "out_file = f\"{os.environ['WK_DIR']}/obs/merra_erai_pw_SH_ocean_WARM.png\"\n",
    "diff_val = erai_merra_pw - prw_sh_ocean_warm\n",
    "vmax = np.nanpercentile(np.abs(diff_val).flatten(), 80)\n",
    "vmin = -1*vmax\n",
    "plt.pcolormesh(erai_x, erai_y, diff_val, vmin=vmin, vmax=vmax, cmap='bwr')\n",
    "plt.title(f\"MERRA -  ERA-Interim\\nSH OCEAN WARM PW\")\n",
    "plt.ylim(-1500, 1500)\n",
    "plt.xlim(-1500, 1500)\n",
    "plt.colorbar()\n",
    "\n",
    "plt.subplot(2,2,3)\n",
    "# MERRA - ERA-Interim\n",
    "out_file = f\"{os.environ['WK_DIR']}/obs/merra_erai_prw_SH_ocean_WARM.png\"\n",
    "hemis = 'SH'; lo = 'ocean'; season = 'warm'; var = 'prw'\n",
    "model_val = model_data[hemis][lo][season][var]['area_sum']/model_data[hemis][lo][season][var]['area_cnt']\n",
    "diff_val = model_val - prw_sh_ocean_warm\n",
    "vmax = np.nanpercentile(np.abs(diff_val).flatten(), 80)\n",
    "vmin = -1*vmax\n",
    "plt.pcolormesh(erai_x, erai_y, diff_val, vmin=vmin, vmax=vmax, cmap='bwr')\n",
    "plt.title(f\"{os.environ['CASENAME']} - ERA-Interim\\nSH OCEAN WARM PRW\")\n",
    "plt.ylim(-1500, 1500)\n",
    "plt.xlim(-1500, 1500)\n",
    "plt.colorbar()\n",
    "\n",
    "plt.subplot(2,2,4)\n",
    "# MERRA - ERA-Interim\n",
    "out_file = f\"{os.environ['WK_DIR']}/obs/merra_erai_prw_SH_ocean_WARM.png\"\n",
    "hemis = 'SH'; lo = 'ocean'; season = 'warm'; var = 'prw'\n",
    "model_val = model_data[hemis][lo][season][var]['area_sum']/model_data[hemis][lo][season][var]['area_cnt']\n",
    "diff_val = model_val - erai_merra_pw\n",
    "vmax = np.nanpercentile(np.abs(diff_val).flatten(), 80)\n",
    "vmin = -1*vmax\n",
    "plt.pcolormesh(erai_x, erai_y, diff_val, vmin=vmin, vmax=vmax, cmap='bwr')\n",
    "plt.title(f\"{os.environ['CASENAME']} - MERRA\\nSH OCEAN WARM PRW\")\n",
    "plt.ylim(-1500, 1500)\n",
    "plt.xlim(-1500, 1500)\n",
    "plt.colorbar()\n",
    "\n",
    "plt.tight_layout()"
   ]
  },
  {
   "cell_type": "code",
   "execution_count": 35,
   "metadata": {},
   "outputs": [
    {
     "name": "stdout",
     "output_type": "stream",
     "text": [
      "dict_keys(['tp', 'prw'])\n"
     ]
    },
    {
     "name": "stderr",
     "output_type": "stream",
     "text": [
      "/home/jj/anaconda3/envs/mcms/lib/python3.6/site-packages/ipykernel_launcher.py:7: RuntimeWarning: invalid value encountered in true_divide\n",
      "  import sys\n"
     ]
    },
    {
     "data": {
      "text/plain": [
       "<matplotlib.colorbar.Colorbar at 0x7f1ba5c94fd0>"
      ]
     },
     "execution_count": 35,
     "metadata": {},
     "output_type": "execute_result"
    },
    {
     "data": {
      "image/png": "[encoded data removed]",
      "text/plain": [
       "<Figure size 432x288 with 2 Axes>"
      ]
     },
     "metadata": {
      "needs_background": "light"
     },
     "output_type": "display_data"
    },
    {
     "data": {
      "image/png": "[encoded data removed]",
      "text/plain": [
       "<Figure size 432x288 with 2 Axes>"
      ]
     },
     "metadata": {
      "needs_background": "light"
     },
     "output_type": "display_data"
    }
   ],
   "source": [
    "plt.figure()\n",
    "plt.pcolormesh(prw_sh_ocean_warm, cmap='jet')\n",
    "plt.colorbar()\n",
    "\n",
    "hemis = 'SH'; lo = 'ocean'; season = 'warm'; var = 'prw'\n",
    "print(model_data[hemis][lo][season].keys())\n",
    "model_val = model_data[hemis][lo][season][var]['area_sum']/model_data[hemis][lo][season][var]['area_cnt']\n",
    "model_val = model_val/(86400/24.)\n",
    "\n",
    "plt.figure()\n",
    "plt.pcolormesh(model_val, cmap='jet')\n",
    "plt.colorbar()"
   ]
  },
  {
   "cell_type": "code",
   "execution_count": null,
   "metadata": {},
   "outputs": [],
   "source": []
  }
 ],
 "metadata": {
  "kernelspec": {
   "display_name": "Python [conda env:mcms] *",
   "language": "python",
   "name": "conda-env-mcms-py"
  },
  "language_info": {
   "codemirror_mode": {
    "name": "ipython",
    "version": 3
   },
   "file_extension": ".py",
   "mimetype": "text/x-python",
   "name": "python",
   "nbconvert_exporter": "python",
   "pygments_lexer": "ipython3",
   "version": "3.6.8"
  }
 },
 "nbformat": 4,
 "nbformat_minor": 4
}
