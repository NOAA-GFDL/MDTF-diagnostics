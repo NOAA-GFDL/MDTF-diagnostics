{
 "cells": [
  {
   "cell_type": "code",
   "execution_count": 282,
   "metadata": {},
   "outputs": [],
   "source": [
    "import numpy as np \n",
    "import scipy.io as sio\n",
    "import matplotlib.pyplot as plt \n",
    "import os\n",
    "from tqdm import tqdm, notebook\n",
    "import cartopy\n",
    "import xarray as xr"
   ]
  },
  {
   "cell_type": "code",
   "execution_count": 283,
   "metadata": {},
   "outputs": [],
   "source": [
    "# era5_file = '/localdrive/drive10/jj/mdtf/wkdir/MDTF_ERA5.ALL.DEG15.001_1950_2019/etc_composites/tmp/RUNDIR/tmprun/read_tmprun/tmprun_1950.mat'\n",
    "era5_file = '/localdrive/drive10/jj/mdtf/wkdir/MDTF_ERA5.ALL.DEG15.001_1950_1950/etc_composites/tmp/RUNDIR/tmprun/read_tmprun/tmprun_1950.mat'\n",
    "test_file = '/localdrive/drive10/jj/mdtf/wkdir/MDTF_ERA5.ALL.DEG15.001_1950_2019/etc_composites/tmp/RUNDIR/tmprun/read_tmprun/tmprun_1950.mat'\n",
    "gfdl_file = '/localdrive/drive10/jj/mdtf/wkdir/MDTF_GFDL.EXP1.2PM.001_2008_2012/etc_composites/tmp/RUNDIR/tmprun/read_tmprun/tmprun_2008.mat'\n",
    "erai_file = '/localdrive/drive10/jj/mdtf/wkdir/MDTF_ERAI.EXP1.TEST.001_2008_2012/etc_composites/tmp/RUNDIR/tmprun/read_tmprun/tmprun_2008.mat'"
   ]
  },
  {
   "cell_type": "code",
   "execution_count": 284,
   "metadata": {},
   "outputs": [],
   "source": [
    "e5Data = sio.loadmat(era5_file)['cyc']\n",
    "testData = sio.loadmat(test_file)['cyc']\n",
    "gData = sio.loadmat(gfdl_file)['cyc']\n",
    "eiData = sio.loadmat(erai_file)['cyc']"
   ]
  },
  {
   "cell_type": "code",
   "execution_count": null,
   "metadata": {},
   "outputs": [],
   "source": [
    "# data = eiData\n",
    "data = e5Data\n",
    "# data = gData\n",
    "\n",
    "var_list = ['fulllat', 'fulllon', 'fullslp', 'fullyr', 'fullmon', 'fullday', 'fullhr']\n",
    "\n",
    "in_data = {}\n",
    "for var in var_list:\n",
    "    in_data[var] = []\n",
    "    \n",
    "for i in notebook.tqdm(range(data['fulllat'].shape[1])):\n",
    "    for var in var_list:\n",
    "        in_data[var].extend(np.squeeze(np.squeeze(data[var])[i]))\n",
    "        \n",
    "for var in var_list:\n",
    "    in_data[var] = np.array(in_data[var])"
   ]
  },
  {
   "cell_type": "markdown",
   "metadata": {},
   "source": [
    "On November 25th, 1950, there was a storm that did significant damage to the New York area.\n",
    "\n",
    "This track is apparently missing from my tracks.\n",
    "\n",
    "I have to diagnose this problem."
   ]
  },
  {
   "cell_type": "code",
   "execution_count": null,
   "metadata": {},
   "outputs": [],
   "source": [
    "lon = in_data['fulllon']\n",
    "lon[lon > 180] -= 360 "
   ]
  },
  {
   "cell_type": "code",
   "execution_count": null,
   "metadata": {},
   "outputs": [],
   "source": [
    "ind = (in_data['fullyr'] == 1950) & (in_data['fullmon'] == 11) & (in_data['fullday'] == 25)\n",
    "# ind = (in_data['fullyr'] == 1950)"
   ]
  },
  {
   "cell_type": "code",
   "execution_count": null,
   "metadata": {},
   "outputs": [],
   "source": [
    "plt.figure()\n",
    "ax = plt.subplot(111, projection=cartopy.crs.PlateCarree())\n",
    "ax.plot(in_data['fulllon'][ind], in_data['fulllat'][ind], 'r*')\n",
    "ax.coastlines()\n",
    "ax.set_extent([-180, 180, -90, 90])\n",
    "plt.show()"
   ]
  },
  {
   "cell_type": "markdown",
   "metadata": {},
   "source": [
    "Lets check if the storm is visible from my SLP input data"
   ]
  },
  {
   "cell_type": "code",
   "execution_count": null,
   "metadata": {},
   "outputs": [],
   "source": [
    "slp_file = '/localdrive/drive10/jj/mdtf/inputdata/model/ERA5.ALL.DEG15.001/6hr/ERA5.ALL.DEG15.001.SLP.6hr.nc'\n",
    "ds = xr.open_dataset(slp_file)\n",
    "select = ds.sel(time='1950-11-25')"
   ]
  },
  {
   "cell_type": "code",
   "execution_count": null,
   "metadata": {
    "scrolled": false
   },
   "outputs": [],
   "source": [
    "ny_cdt = [-74, 40]\n",
    "lon_div = 50\n",
    "lat_div = 40\n",
    "extent = [ny_cdt[0]-lon_div, ny_cdt[0]+lon_div, ny_cdt[1]-lat_div, ny_cdt[1]+lat_div] #40.7128° N, 74.0060° W\n",
    " \n",
    "plt.figure(figsize=(12,12))\n",
    "ax=plt.subplot(2,2,1, projection=cartopy.crs.PlateCarree())\n",
    "select.SLP.isel(time=0).plot(ax=ax)\n",
    "ax.coastlines()\n",
    "ax.set_extent(extent)\n",
    "\n",
    "ax=plt.subplot(2,2,2, projection=cartopy.crs.PlateCarree())\n",
    "select.SLP.isel(time=1).plot(ax=ax)\n",
    "ax.coastlines()\n",
    "ax.set_extent(extent)\n",
    "\n",
    "ax=plt.subplot(2,2,3, projection=cartopy.crs.PlateCarree())\n",
    "select.SLP.isel(time=2).plot(ax=ax)\n",
    "ax.coastlines()\n",
    "ax.set_extent(extent)\n",
    "\n",
    "ax=plt.subplot(2,2,4, projection=cartopy.crs.PlateCarree())\n",
    "select.SLP.isel(time=3).plot(ax=ax)\n",
    "ax.coastlines()\n",
    "ax.set_extent(extent)\n",
    "\n",
    "plt.show()\n"
   ]
  },
  {
   "cell_type": "markdown",
   "metadata": {},
   "source": [
    "Lets read in the raw ERA5 SLP data to track the cyclones"
   ]
  },
  {
   "cell_type": "code",
   "execution_count": null,
   "metadata": {},
   "outputs": [],
   "source": [
    "file = '/localdrive/drive6/era5/data/six_hrly/data_1_5deg/msl/msl_1950_6hrly.nc'\n",
    "ds = xr.open_dataset(file)\n",
    "select = ds.sel(time='1950-11-25')"
   ]
  },
  {
   "cell_type": "code",
   "execution_count": null,
   "metadata": {},
   "outputs": [],
   "source": [
    "lon_div = 50\n",
    "lat_div = 40\n",
    "extent = [-74-lon_div, -74+lon_div, 40-lat_div, 40+lat_div] #40.7128° N, 74.0060° W\n",
    " \n",
    "plt.figure(figsize=(12,12))\n",
    "ax=plt.subplot(2,2,1, projection=cartopy.crs.PlateCarree())\n",
    "select.msl.isel(time=0).plot(ax=ax)\n",
    "ax.coastlines()\n",
    "ax.set_extent(extent)\n",
    "\n",
    "ax=plt.subplot(2,2,2, projection=cartopy.crs.PlateCarree())\n",
    "select.msl.isel(time=1).plot(ax=ax)\n",
    "ax.coastlines()\n",
    "ax.set_extent(extent)\n",
    "\n",
    "ax=plt.subplot(2,2,3, projection=cartopy.crs.PlateCarree())\n",
    "select.msl.isel(time=2).plot(ax=ax)\n",
    "ax.coastlines()\n",
    "ax.set_extent(extent)\n",
    "\n",
    "ax=plt.subplot(2,2,4, projection=cartopy.crs.PlateCarree())\n",
    "select.msl.isel(time=3).plot(ax=ax)\n",
    "ax.coastlines()\n",
    "ax.set_extent(extent)\n",
    "plt.show()"
   ]
  },
  {
   "cell_type": "markdown",
   "metadata": {},
   "source": [
    "Lets now check the dumped centers from the RUN"
   ]
  },
  {
   "cell_type": "code",
   "execution_count": null,
   "metadata": {},
   "outputs": [],
   "source": [
    "import pandas as pd"
   ]
  },
  {
   "cell_type": "code",
   "execution_count": null,
   "metadata": {},
   "outputs": [],
   "source": [
    "dumped_file = '/localdrive/drive10/jj/mdtf/wkdir/MDTF_ERA5.ALL.DEG15.001_1950_1950/etc_composites/tmp/RUNDIR/tmprun/out_tmprun/tmprun/mcms_tmprun_1950_dumped_centers.txt'\n",
    "centers_file = '/localdrive/drive10/jj/mdtf/wkdir/MDTF_ERA5.ALL.DEG15.001_1950_1950/etc_composites/tmp/RUNDIR/tmprun/out_tmprun/tmprun/mcms_tmprun_1950_centers.txt'\n"
   ]
  },
  {
   "cell_type": "code",
   "execution_count": null,
   "metadata": {},
   "outputs": [],
   "source": [
    "dumped_df = pd.read_csv(dumped_file,sep='\\s+', header=None)\n",
    "centers_df = pd.read_csv(centers_file,sep='\\s+', header=None)\n",
    "dumped_df.insert(16, 'new-col', 0)\n",
    "centers_df.insert(16, 'new-col', 1)\n",
    "\n",
    "main_df = pd.concat([dumped_df, centers_df])\n",
    "\n",
    "df = main_df.iloc[:, [0, 1, 2, 3, 5, 6, 8, 15, 16]].copy()\n",
    "df.columns = ['yy', 'mm', 'dd', 'hh', 'lat', 'lon', 'slp', 'usi', 'type']\n",
    "df.lat = 90. - df.lat/100. \n",
    "df.lon = df.lon/100.\n",
    "df['lon'][df.lon > 180] = df.lon[df.lon > 180] - 360\n",
    "\n",
    "print(df.shape)"
   ]
  },
  {
   "cell_type": "code",
   "execution_count": null,
   "metadata": {},
   "outputs": [],
   "source": [
    "dumped_ind = (df.yy == 1950) & (df.mm == 11) & (df.dd == 25) & (df.type == 0)\n",
    "print(np.sum(dumped_ind))\n",
    "centers_ind = (df.yy == 1950) & (df.mm == 11) & (df.dd == 25) & (df.type == 1)\n",
    "print(np.sum(centers_ind))\n",
    "\n",
    "plt.figure()\n",
    "ax = plt.subplot(111, projection=cartopy.crs.PlateCarree())\n",
    "ax.plot(df.lon[dumped_ind], df.lat[dumped_ind], 'b*', label='dumped')\n",
    "ax.plot(df.lon[centers_ind], df.lat[centers_ind], 'r.', label='centers')\n",
    "ax.coastlines()\n",
    "ax.set_extent(extent)\n",
    "plt.legend(loc=0)\n",
    "plt.show()"
   ]
  },
  {
   "cell_type": "markdown",
   "metadata": {},
   "source": [
    "Looks like the centers are detected in the centers file.\n",
    "\n",
    "Now we have to check if it is also there in tracks file."
   ]
  },
  {
   "cell_type": "code",
   "execution_count": null,
   "metadata": {},
   "outputs": [],
   "source": [
    "tracks_file = '/localdrive/drive10/jj/mdtf/wkdir/MDTF_ERA5.ALL.DEG15.001_1950_1950/etc_composites/tmp/RUNDIR/tmprun/out_tmprun/tmprun/mcms_tmprun_1950_tracks.txt'"
   ]
  },
  {
   "cell_type": "code",
   "execution_count": null,
   "metadata": {},
   "outputs": [],
   "source": [
    "main_df = pd.read_csv(tracks_file, sep='\\s+', header=None)\n",
    "\n",
    "df = main_df.iloc[:, [0, 1, 2, 3, 5, 6, 8, 15]].copy()\n",
    "df.columns = ['yy', 'mm', 'dd', 'hh', 'lat', 'lon', 'slp', 'usi']\n",
    "df.lat = 90. - df.lat/100. \n",
    "df.lon = df.lon/100.\n",
    "df['lon'][df.lon > 180] = df.lon[df.lon > 180] - 360"
   ]
  },
  {
   "cell_type": "code",
   "execution_count": null,
   "metadata": {},
   "outputs": [],
   "source": [
    "ind = (df.yy == 1950) & (df.mm == 11) & (df.dd == 25)\n",
    "\n",
    "plt.figure()\n",
    "ax = plt.subplot(111, projection=cartopy.crs.PlateCarree())\n",
    "ax.plot(df.lon[ind], df.lat[ind], 'b*', label='tracked')\n",
    "ax.coastlines()\n",
    "ax.set_extent(extent)\n",
    "plt.legend(loc=0)\n",
    "plt.show()"
   ]
  },
  {
   "cell_type": "markdown",
   "metadata": {},
   "source": [
    "Lets check the USI values for the New York tracks"
   ]
  },
  {
   "cell_type": "code",
   "execution_count": null,
   "metadata": {},
   "outputs": [],
   "source": [
    "ind = (df.yy == 1950) & (df.mm == 11) & (df.dd == 25) & (df.lat > ny_cdt[1]-10) & \\\n",
    "    (df.lat < ny_cdt[1]+10) & (df.lon > ny_cdt[0]-10) & (df.lon < ny_cdt[0]+10)\n",
    "\n",
    "i_ind = df.usi[ind].values\n",
    "i_ind = i_ind[2]\n",
    "\n",
    "usi_ind = (df.usi == i_ind)\n",
    "x = df[usi_ind]\n",
    "# print(len(df.hh[usi_ind]))"
   ]
  },
  {
   "cell_type": "code",
   "execution_count": null,
   "metadata": {},
   "outputs": [],
   "source": [
    "import datetime as dt\n",
    "from datetime import date\n",
    "dates = [dt.datetime(iyy, imm, idd, ihh) for iyy,imm,idd,ihh in zip(df.yy[usi_ind], df.mm[usi_ind], df.dd[usi_ind], df.hh[usi_ind])]\n",
    "full_dates = [date.toordinal(date(iyy, imm, idd))+360+ihh/24. for iyy,imm,idd,ihh in zip(df.yy[usi_ind], df.mm[usi_ind], df.dd[usi_ind], df.hh[usi_ind])]"
   ]
  },
  {
   "cell_type": "code",
   "execution_count": null,
   "metadata": {},
   "outputs": [],
   "source": [
    "print(full_dates)"
   ]
  },
  {
   "cell_type": "code",
   "execution_count": null,
   "metadata": {},
   "outputs": [],
   "source": [
    "print((dates[1]-dates[0]).total_seconds()/3600)\n",
    "print((full_dates[1] - full_dates[0])*24)"
   ]
  },
  {
   "cell_type": "code",
   "execution_count": null,
   "metadata": {},
   "outputs": [],
   "source": [
    "datet."
   ]
  },
  {
   "cell_type": "code",
   "execution_count": null,
   "metadata": {},
   "outputs": [],
   "source": [
    "hh = np.array(df.hh[usi_ind], dtype=int)"
   ]
  },
  {
   "cell_type": "code",
   "execution_count": null,
   "metadata": {},
   "outputs": [],
   "source": []
  }
 ],
 "metadata": {
  "kernelspec": {
   "display_name": "Python [conda env:mcms] *",
   "language": "python",
   "name": "conda-env-mcms-py"
  },
  "language_info": {
   "codemirror_mode": {
    "name": "ipython",
    "version": 3
   },
   "file_extension": ".py",
   "mimetype": "text/x-python",
   "name": "python",
   "nbconvert_exporter": "python",
   "pygments_lexer": "ipython3",
   "version": "3.6.8"
  }
 },
 "nbformat": 4,
 "nbformat_minor": 4
}
