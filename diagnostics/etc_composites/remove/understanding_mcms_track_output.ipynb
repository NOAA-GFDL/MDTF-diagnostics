{
 "cells": [
  {
   "cell_type": "code",
   "execution_count": 48,
   "metadata": {},
   "outputs": [],
   "source": [
    "import numpy as np \n",
    "import matplotlib.pyplot as plt \n",
    "import scipy.io as sio\n",
    "import os\n",
    "import pandas as pd\n",
    "import tqdm"
   ]
  },
  {
   "cell_type": "code",
   "execution_count": 58,
   "metadata": {},
   "outputs": [],
   "source": [
    "# folder = '/localdrive/drive10/jj/mdtf/wkdir/MDTF_QBOi.EXP1.AMIP.001_2008_2012/etc_composites/tmp/RUNDIR/tmprun/read_tmprun/'\n",
    "# fn = 'out_tmprun_output_2008_2012.txt'\n",
    "# in_file = os.path.join(folder, fn)\n",
    "# out_file = '/localdrive/drive10/jj/mdtf/inputdata/model/QBOi.EXP1.AMIP.001/6hr/track_output.txt'\n",
    "# print(os.path.exists(out_file))\n",
    "\n",
    "\n",
    "# folder = '/localdrive/drive10/jj/mdtf/wkdir/MDTF_ERA5.EXP1.DEG10.001_2008_2012/etc_composites/tmp/RUNDIR/tmprun/read_tmprun/'\n",
    "# fn = 'out_tmprun_output_2008_2012.txt'\n",
    "# in_file = os.path.join(folder, fn)\n",
    "# out_file = '/localdrive/drive10/jj/mdtf/inputdata/model/ERA5.EXP1.DEG10.001/6hr/track_output.txt'\n",
    "\n",
    "# folder = '/localdrive/drive10/jj/mdtf/wkdir/MDTF_ERA5.EXP1.DEG10.001_2008_2012/etc_composites/tmp/RUNDIR/tmprun/read_tmprun/'\n",
    "# fn = 'out_tmprun_output_2008_2012.txt'\n",
    "# in_file = os.path.join(folder, fn)\n",
    "# out_file = '/localdrive/drive10/jj/mdtf/inputdata/model/ERA5.MTPR.DEG10.001/6hr/track_output.txt'\n",
    "\n",
    "# folder = '/localdrive/drive10/jj/mdtf/wkdir/MDTF_ERA5.EXP1.DEG15.001_2008_2012/etc_composites/tmp/RUNDIR/tmprun/read_tmprun/'\n",
    "# fn = 'out_tmprun_output_2008_2012.txt'\n",
    "# in_file = os.path.join(folder, fn)\n",
    "# out_file = '/localdrive/drive10/jj/mdtf/inputdata/model/ERA5.MTPR.DEG15.001/6hr/track_output.txt'\n",
    "\n",
    "# folder = '/localdrive/drive10/jj/mdtf/wkdir/MDTF_ERA5.MTPR.DEG15.001_2008_2012/etc_composites/tmp/RUNDIR/tmprun/read_tmprun/'\n",
    "# fn = 'out_tmprun_output_2008_2012.txt'\n",
    "# in_file = os.path.join(folder, fn)\n",
    "# out_file = '/localdrive/drive10/jj/mdtf/inputdata/model/ERA5.TP.DEG15.001/6hr/track_output.txt'\n",
    "\n",
    "folder = '/localdrive/drive10/jj/mdtf/wkdir/MDTF_GFDL.EXP1.2PM.001_2008_2012/etc_composites/tmp/RUNDIR/tmprun/read_tmprun/'\n",
    "fn = 'out_tmprun_output_2008_2012.txt'\n",
    "in_file = os.path.join(folder, fn)\n",
    "out_file = '/localdrive/drive10/jj/mdtf/inputdata/model/GFDL.EXP1.2PM.001/6hr/track_output.txt'\n"
   ]
  },
  {
   "cell_type": "code",
   "execution_count": 59,
   "metadata": {},
   "outputs": [],
   "source": [
    "main_df = pd.read_csv(in_file, sep='\\s+')\n",
    "\n",
    "# df = main_df.iloc[:, [0, 1, 2, 3, 5, 6, 8, 11, 14, 15]].copy()\n",
    "# df.columns = ['yy', 'mm', 'dd', 'hh', 'lat', 'lon', 'slp', 'flags', 'csi', 'usi']\n",
    "df = main_df.iloc[:, [0, 1, 2, 3, 5, 6, 8, 15]].copy()\n",
    "df.columns = ['yy', 'mm', 'dd', 'hh', 'lat', 'lon', 'slp', 'usi']\n",
    "df.lat = 90. - df.lat/100. \n",
    "df.lon = df.lon/100."
   ]
  },
  {
   "cell_type": "code",
   "execution_count": 60,
   "metadata": {},
   "outputs": [
    {
     "name": "stderr",
     "output_type": "stream",
     "text": [
      "/home/jj/anaconda3/envs/mcms/lib/python3.6/site-packages/ipykernel_launcher.py:9: TqdmDeprecationWarning: This function will be removed in tqdm==5.0.0\n",
      "Please use `tqdm.notebook.tqdm` instead of `tqdm.tqdm_notebook`\n",
      "  if __name__ == '__main__':\n"
     ]
    },
    {
     "data": {
      "application/vnd.jupyter.widget-view+json": {
       "model_id": "4000ff33227d497394a5e72d41834d0d",
       "version_major": 2,
       "version_minor": 0
      },
      "text/plain": [
       "HBox(children=(FloatProgress(value=0.0, max=19828.0), HTML(value='')))"
      ]
     },
     "metadata": {},
     "output_type": "display_data"
    },
    {
     "name": "stderr",
     "output_type": "stream",
     "text": [
      "/home/jj/anaconda3/envs/mcms/lib/python3.6/site-packages/ipykernel_launcher.py:11: FutureWarning: Using a non-tuple sequence for multidimensional indexing is deprecated; use `arr[tuple(seq)]` instead of `arr[seq]`. In the future this will be interpreted as an array index, `arr[np.array(seq)]`, which will result either in an error or a different result.\n",
      "  # This is added back by InteractiveShellApp.init_path()\n"
     ]
    },
    {
     "name": "stdout",
     "output_type": "stream",
     "text": [
      "\n"
     ]
    }
   ],
   "source": [
    "# rearranging the track output file into a general format\n",
    "out_df = df.copy()\n",
    "out_df.lat = (90. - out_df.lat)*100.\n",
    "out_df.lon = out_df.lon * 100.\n",
    "uni_usi = out_df.usi.unique()\n",
    "\n",
    "# replacing the USI values into reasonable unique identifiers\n",
    "usi_vals = out_df.usi.values\n",
    "for i, i_usi in tqdm.tqdm_notebook(enumerate(uni_usi), total=len(uni_usi)): \n",
    "    ind = [usi_vals == i_usi]\n",
    "    usi_vals[ind] = i\n",
    "#     out_df.loc[df['usi'] == i_usi, 'usi'] = i\n",
    "\n",
    "out_df['usi'] = usi_vals\n",
    "   "
   ]
  },
  {
   "cell_type": "code",
   "execution_count": 61,
   "metadata": {},
   "outputs": [],
   "source": [
    "# out_file = '/localdrive/drive10/jj/mdtf/inputdata/model/ERA5.TP.DEG10.001/6hr/track_output.txt'\n",
    "# out_file = '/localdrive/drive10/jj/mdtf/inputdata/model/ERA5.TP.DEG15.001/6hr/track_output.txt'\n",
    "# printing the out_df pandas dataframe into a csv file\n",
    "out_df.to_csv(out_file, header=None, index=None, sep=' ', mode='w', float_format='%.0f')"
   ]
  },
  {
   "cell_type": "code",
   "execution_count": 62,
   "metadata": {},
   "outputs": [
    {
     "name": "stdout",
     "output_type": "stream",
     "text": [
      "     yy  mm  dd  hh    lat      lon      slp usi\n",
      "0  2008   1   1   6  697.0  13412.0  1005881   0\n",
      "1  2008   1   1  12  625.0  11868.0  1005980   0\n",
      "2  2008   1   1  18  612.0  10133.0  1005982   0\n",
      "3  2008   1   2   0  593.0   9109.0  1005613   0\n",
      "4  2008   1   2   6  594.0   8057.0  1005573   0\n",
      "     yy  mm  dd  hh    lat     lon      slp                   usi\n",
      "0  2008   1   1   6  83.03  134.12  1005881  20080101000080014250\n",
      "1  2008   1   1  12  83.75  118.68  1005980  20080101000080014250\n",
      "2  2008   1   1  18  83.88  101.33  1005982  20080101000080014250\n",
      "3  2008   1   2   0  84.07   91.09  1005613  20080101000080014250\n",
      "4  2008   1   2   6  84.06   80.57  1005573  20080101000080014250\n",
      "[  697.   625.   612. ... 17259. 17260. 17279.]\n",
      "[ 83.03  83.75  83.88 ... -82.59 -82.6  -82.79]\n"
     ]
    }
   ],
   "source": [
    "# checking if i saved stuff correctly \n",
    "print(out_df.head())\n",
    "print(df.head())\n",
    "\n",
    "new_x = (90. - df.lat.values)*100. \n",
    "re_x = (90. - out_df.lat.values/100)\n",
    "\n",
    "print(new_x)\n",
    "print(re_x)"
   ]
  },
  {
   "cell_type": "code",
   "execution_count": null,
   "metadata": {},
   "outputs": [],
   "source": []
  },
  {
   "cell_type": "markdown",
   "metadata": {},
   "source": [
    "# test"
   ]
  },
  {
   "cell_type": "code",
   "execution_count": 33,
   "metadata": {},
   "outputs": [],
   "source": [
    "import xarray as xr\n",
    "# tmp = '/localdrive/drive10/jj/mdtf/wkdir/MDTF_ERA5.EXP1.DEG10.001_2008_2012/etc_composites/tmp/data_converts/slp.2008.nc'\n",
    "# tmp = '/localdrive/drive10/jj/mdtf/wkdir/MDTF_ERAI.EXP1.TEST.001_2008_2012/etc_composites/tmp/data_converts/slp.2008.nc'\n",
    "tmp = '/localdrive/drive10/jj/mdtf/wkdir/MDTF_QBOi.EXP1.AMIP.001_2008_2012/etc_composites/tmp/data_converts/slp.2008.nc'\n",
    "ds = xr.open_dataset(tmp)"
   ]
  },
  {
   "cell_type": "code",
   "execution_count": 34,
   "metadata": {},
   "outputs": [
    {
     "name": "stdout",
     "output_type": "stream",
     "text": [
      "<class 'xarray.coding.cftimeindex.CFTimeIndex'>\n",
      "nay\n"
     ]
    }
   ],
   "source": [
    "print(type(ds.indexes['time']))\n",
    "if (not isinstance(ds.indexes['time'], pd.core.indexes.datetimes.DatetimeIndex)):\n",
    "    print('yay')\n",
    "else:\n",
    "    print('nay')"
   ]
  },
  {
   "cell_type": "code",
   "execution_count": null,
   "metadata": {},
   "outputs": [],
   "source": []
  }
 ],
 "metadata": {
  "kernelspec": {
   "display_name": "Python [conda env:mcms] *",
   "language": "python",
   "name": "conda-env-mcms-py"
  },
  "language_info": {
   "codemirror_mode": {
    "name": "ipython",
    "version": 3
   },
   "file_extension": ".py",
   "mimetype": "text/x-python",
   "name": "python",
   "nbconvert_exporter": "python",
   "pygments_lexer": "ipython3",
   "version": "3.6.8"
  }
 },
 "nbformat": 4,
 "nbformat_minor": 4
}
