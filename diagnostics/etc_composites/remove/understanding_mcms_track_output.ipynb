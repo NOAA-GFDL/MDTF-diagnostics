{
 "cells": [
  {
   "cell_type": "code",
   "execution_count": null,
   "metadata": {},
   "outputs": [],
   "source": [
    "import numpy as np \n",
    "import matplotlib.pyplot as plt \n",
    "import scipy.io as sio\n",
    "import os\n",
    "import pandas as pd\n",
    "import tqdm"
   ]
  },
  {
   "cell_type": "code",
   "execution_count": null,
   "metadata": {},
   "outputs": [],
   "source": [
    "folder = '/localdrive/drive10/jj/mdtf/wkdir/MDTF_QBOi.EXP1.AMIP.001_2008_2012/etc_composites/tmp/RUNDIR/tmprun/read_tmprun/'\n",
    "\n",
    "fn = 'out_tmprun_output_2008_2012.txt'\n",
    "in_file = os.path.join(folder, fn)\n",
    "\n",
    "out_file = '/localdrive/drive10/jj/mdtf/inputdata/model/QBOi.EXP1.AMIP.001/6hr/track_output.txt'\n",
    "print(os.path.exists(out_file))"
   ]
  },
  {
   "cell_type": "code",
   "execution_count": 3,
   "metadata": {},
   "outputs": [],
   "source": [
    "main_df = pd.read_csv(in_file, sep='\\s+')\n",
    "\n",
    "# df = main_df.iloc[:, [0, 1, 2, 3, 5, 6, 8, 11, 14, 15]].copy()\n",
    "# df.columns = ['yy', 'mm', 'dd', 'hh', 'lat', 'lon', 'slp', 'flags', 'csi', 'usi']\n",
    "df = main_df.iloc[:, [0, 1, 2, 3, 5, 6, 8, 15]].copy()\n",
    "df.columns = ['yy', 'mm', 'dd', 'hh', 'lat', 'lon', 'slp', 'usi']\n",
    "df.lat = 90. - df.lat/100. \n",
    "df.lon = df.lon/100."
   ]
  },
  {
   "cell_type": "code",
   "execution_count": 4,
   "metadata": {},
   "outputs": [
    {
     "name": "stderr",
     "output_type": "stream",
     "text": [
      "/home/jj/anaconda3/envs/mcms/lib/python3.6/site-packages/ipykernel_launcher.py:9: TqdmDeprecationWarning: This function will be removed in tqdm==5.0.0\n",
      "Please use `tqdm.notebook.tqdm` instead of `tqdm.tqdm_notebook`\n",
      "  if __name__ == '__main__':\n"
     ]
    },
    {
     "data": {
      "application/vnd.jupyter.widget-view+json": {
       "model_id": "346bf8ccc77b4168a0bad9f0ea62c74b",
       "version_major": 2,
       "version_minor": 0
      },
      "text/plain": [
       "HBox(children=(FloatProgress(value=0.0, max=19854.0), HTML(value='')))"
      ]
     },
     "metadata": {},
     "output_type": "display_data"
    },
    {
     "name": "stderr",
     "output_type": "stream",
     "text": [
      "/home/jj/anaconda3/envs/mcms/lib/python3.6/site-packages/ipykernel_launcher.py:11: FutureWarning: Using a non-tuple sequence for multidimensional indexing is deprecated; use `arr[tuple(seq)]` instead of `arr[seq]`. In the future this will be interpreted as an array index, `arr[np.array(seq)]`, which will result either in an error or a different result.\n",
      "  # This is added back by InteractiveShellApp.init_path()\n"
     ]
    },
    {
     "name": "stdout",
     "output_type": "stream",
     "text": [
      "\n"
     ]
    }
   ],
   "source": [
    "# rearranging the track output file into a general format\n",
    "out_df = df.copy()\n",
    "out_df.lat = (90. - out_df.lat)*100.\n",
    "out_df.lon = out_df.lon * 100.\n",
    "uni_usi = out_df.usi.unique()\n",
    "\n",
    "# replacing the USI values into reasonable unique identifiers\n",
    "usi_vals = out_df.usi.values\n",
    "for i, i_usi in tqdm.tqdm_notebook(enumerate(uni_usi), total=len(uni_usi)): \n",
    "    ind = [usi_vals == i_usi]\n",
    "    usi_vals[ind] = i\n",
    "#     out_df.loc[df['usi'] == i_usi, 'usi'] = i\n",
    "\n",
    "out_df['usi'] = usi_vals\n",
    "   "
   ]
  },
  {
   "cell_type": "code",
   "execution_count": 5,
   "metadata": {},
   "outputs": [],
   "source": [
    "# printing the out_df pandas dataframe into a csv file\n",
    "out_df.to_csv(out_file, header=None, index=None, sep=' ', mode='w', float_format='%.0f')"
   ]
  },
  {
   "cell_type": "code",
   "execution_count": 8,
   "metadata": {},
   "outputs": [
    {
     "name": "stdout",
     "output_type": "stream",
     "text": [
      "     yy  mm  dd  hh    lat      lon      slp usi\n",
      "0  2008   1   1   6  288.0  12348.0   988377   0\n",
      "1  2008   1   1  12  328.0  13766.0   995335   0\n",
      "2  2008   1   1  18  402.0  13387.0  1000809   0\n",
      "3  2008   1   2   0  384.0  14874.0  1005339   0\n",
      "4  2008   1   2   6  378.0  15042.0  1008890   0\n",
      "     yy  mm  dd  hh    lat     lon      slp                   usi\n",
      "0  2008   1   1   6  87.12  123.48   988377  20080101000020011250\n",
      "1  2008   1   1  12  86.72  137.66   995335  20080101000020011250\n",
      "2  2008   1   1  18  85.98  133.87  1000809  20080101000020011250\n",
      "3  2008   1   2   0  86.16  148.74  1005339  20080101000020011250\n",
      "4  2008   1   2   6  86.22  150.42  1008890  20080101000020011250\n",
      "[  288.   328.   402. ... 17138. 17022. 17082.]\n",
      "[ 87.12  86.72  85.98 ... -81.38 -80.22 -80.82]\n"
     ]
    }
   ],
   "source": [
    "# checking if i saved stuff correctly \n",
    "print(out_df.head())\n",
    "print(df.head())\n",
    "\n",
    "new_x = (90. - df.lat.values)*100. \n",
    "re_x = (90. - out_df.lat.values/100)\n",
    "\n",
    "print(new_x)\n",
    "print(re_x)"
   ]
  },
  {
   "cell_type": "code",
   "execution_count": null,
   "metadata": {},
   "outputs": [],
   "source": []
  }
 ],
 "metadata": {
  "kernelspec": {
   "display_name": "Python [conda env:mcms] *",
   "language": "python",
   "name": "conda-env-mcms-py"
  },
  "language_info": {
   "codemirror_mode": {
    "name": "ipython",
    "version": 3
   },
   "file_extension": ".py",
   "mimetype": "text/x-python",
   "name": "python",
   "nbconvert_exporter": "python",
   "pygments_lexer": "ipython3",
   "version": "3.6.8"
  }
 },
 "nbformat": 4,
 "nbformat_minor": 4
}
