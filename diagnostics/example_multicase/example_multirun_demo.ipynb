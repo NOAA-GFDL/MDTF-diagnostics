{
 "cells": [
  {
   "cell_type": "markdown",
   "id": "2c1fb53d-9b9f-41cc-b36c-1beeb791f2dd",
   "metadata": {},
   "source": [
    "# MDTF Example Diagnostic POD for Multiple Cases / Experiments\n",
    "### Uses: Data catalogs\n",
    "### Disclaimer: This example uses the same case in the multi-case setup. So expect output similar to single case. We will update the example with two cases soon.\n",
    "Debug mode with some hardcoded values will be found in this notebook. MDTF integration is underway. This is essentially to see how things may flow from the user configuration files to the MDTF framework and into the POD, including figure generation. "
   ]
  },
  {
   "cell_type": "code",
   "execution_count": 3,
   "id": "0c4fbe60-f63d-432a-9166-95cd312ba442",
   "metadata": {},
   "outputs": [],
   "source": [
    "# ================================================================================\n",
    "#\n",
    "# This file is part of the Multicase Example Diagnostic POD of the MDTF code\n",
    "# package (see mdtf/MDTF-diagnostics/LICENSE.txt)\n",
    "#\n",
    "# Example Diagnostic POD\n",
    "#\n",
    "#   Last update: Nov-2023 (exploring intake-esm catalog in the MDTF framework and the POD)\n",
    "#\n",
    "#   This example builds upon the single case `example` POD\n",
    "#   and illustrates how to design and implement a POD that uses multiple\n",
    "#   model source datasets. These can be the same experiment with different\n",
    "#   models, two different experiments from the same model, or two different\n",
    "#   time periods within the same simulation.\n",
    "#\n",
    "#   Version & Contact info\n",
    "#\n",
    "#   - Version/revision information: version 1.1 (Oct-2022)\n",
    "#   - Model Development Task Force Framework Team\n",
    "#\n",
    "#   Open source copyright agreement\n",
    "#\n",
    "#   The MDTF framework is distributed under the LGPLv3 license (see LICENSE.txt).\n",
    "#\n",
    "#   Functionality\n",
    "#\n",
    "#   Metadata associated with the different cases are passed from the\n",
    "#   framework to the POD via a yaml file (case_info.yaml) that the POD reads into a dictionary.\n",
    "#   The POD iterates over the case entries in the dictionary and opens the input datasets.\n",
    "#   The `tas` variable is extracted for each case and the time average is taken over the dataset.\n",
    "#   Anomalies are calculated relative to the global mean and then zonally-averaged. The resulting plot\n",
    "#   contains one line for each case.\n",
    "#\n",
    "#   Required programming language and libraries\n",
    "#\n",
    "#     * Python >= 3.10\n",
    "#     * xarray\n",
    "#     * matplotlib\n",
    "#     * intake\n",
    "#     * yaml\n",
    "#     * sys\n",
    "#     * os\n",
    "#     * numpy\n",
    "#\n",
    "#   Required model output variables\n",
    "#\n",
    "#     * tas - Surface (2-m) air temperature (CF: air_temperature)\n",
    "#\n",
    "#   References\n",
    "#\n",
    "#      Maloney, E. D, and Co-authors, 2019: Process-oriented evaluation of climate\n",
    "#         and wether forcasting models. BAMS, 100(9), 1665-1686,\n",
    "#         doi:10.1175/BAMS-D-18-0042.1."
   ]
  },
  {
   "cell_type": "markdown",
   "id": "4e6c0cc5-28bd-4fa9-9210-730842c65a44",
   "metadata": {},
   "source": [
    "## Import necessary packages"
   ]
  },
  {
   "cell_type": "code",
   "execution_count": 32,
   "id": "964df112-b4a8-40c5-b7d5-e96f65ddf084",
   "metadata": {},
   "outputs": [],
   "source": [
    "# Import modules used in the POD\n",
    "import os\n",
    "import matplotlib\n",
    "\n",
    "matplotlib.use(\"Agg\")  # non-X windows backend\n",
    "\n",
    "import matplotlib.pyplot as plt\n",
    "%matplotlib inline \n",
    "import numpy as np\n",
    "import intake\n",
    "import sys\n",
    "import yaml\n",
    "import warnings\n",
    "\n",
    "warnings.filterwarnings(\"ignore\")"
   ]
  },
  {
   "cell_type": "markdown",
   "id": "48be4b51-1eb6-437d-8868-7b71cb418454",
   "metadata": {},
   "source": [
    "NOTE: We are exploring..so..there will be some hardcoded paths here, which MDTF framework\n",
    "will help us remove when the feature is available in the framework."
   ]
  },
  {
   "cell_type": "markdown",
   "id": "39a51b87-e19b-4bc5-9d9d-adcf8dc4c6eb",
   "metadata": {},
   "source": [
    "## Part 1: Read in case info (in the format (YAML) that MDTF generates for the run)"
   ]
  },
  {
   "cell_type": "code",
   "execution_count": 5,
   "id": "844aed9c-5407-492f-97ee-aaa7f995fb7e",
   "metadata": {},
   "outputs": [],
   "source": [
    "# Debugging: remove following line in final PR\n",
    "os.environ[\"WORK_DIR\"] = \"/nbhome/a1r/wkdir/example_multicase\"\n",
    "os.environ[\"case_env_file\"] = \"/home/a1r/github/MDTF-diagnostics/diagnostics/example_multicase/case_info.yaml\"\n",
    "os.environ['CATALOG_FILE'] = \"/home/a1r/github/MDTF-diagnostics/diagnostics/example_multicase/c384L65_am5f3b1r0_amip.json\" \n"
   ]
  },
  {
   "cell_type": "code",
   "execution_count": 6,
   "id": "cdd05af0-451b-440a-8551-a189d7d42bbe",
   "metadata": {},
   "outputs": [],
   "source": [
    "# Receive a dictionary of case information from the framework\n",
    "case_env_file = os.environ[\"case_env_file\"]\n",
    "assert(os.path.isfile(case_env_file)), f\"case environment file {case_env_file} not found\"\n",
    "with open(case_env_file, 'r') as stream:\n",
    "    try:\n",
    "        case_info = yaml.safe_load(stream)\n",
    "    except yaml.YAMLError as exc:\n",
    "        print(exc)"
   ]
  },
  {
   "cell_type": "code",
   "execution_count": 7,
   "id": "bce6e34a-507a-45a9-ad5f-99a3a6b9e180",
   "metadata": {},
   "outputs": [],
   "source": [
    "cat_def_file = case_info['CATALOG_FILE']\n",
    "case_list = case_info['CASE_LIST']\n",
    "# all cases share variable names and dimension coords, so just get first result for each\n",
    "tas_var = [case['tas_var'] for case in case_list.values()][0]\n",
    "time_coord = [case['time_coord'] for case in case_list.values()][0]\n",
    "lat_coord = [case['lat_coord'] for case in case_list.values()][0]\n",
    "lon_coord = [case['lon_coord'] for case in case_list.values()][0]\n",
    "# open the csv file using information provided by the catalog definition file\n"
   ]
  },
  {
   "cell_type": "markdown",
   "id": "8492bc06-f196-4037-9a42-52791ef170be",
   "metadata": {},
   "source": [
    "## What is in the data catalog? "
   ]
  },
  {
   "cell_type": "code",
   "execution_count": 19,
   "id": "e24a27f2-8a92-4793-af49-b11193866aec",
   "metadata": {},
   "outputs": [
    {
     "data": {
      "text/html": [
       "<p><strong>esm_catalog_ESM4 catalog with 1 dataset(s) from 2 asset(s)</strong>:</p> <div>\n",
       "<style scoped>\n",
       "    .dataframe tbody tr th:only-of-type {\n",
       "        vertical-align: middle;\n",
       "    }\n",
       "\n",
       "    .dataframe tbody tr th {\n",
       "        vertical-align: top;\n",
       "    }\n",
       "\n",
       "    .dataframe thead th {\n",
       "        text-align: right;\n",
       "    }\n",
       "</style>\n",
       "<table border=\"1\" class=\"dataframe\">\n",
       "  <thead>\n",
       "    <tr style=\"text-align: right;\">\n",
       "      <th></th>\n",
       "      <th>unique</th>\n",
       "    </tr>\n",
       "  </thead>\n",
       "  <tbody>\n",
       "    <tr>\n",
       "      <th>activity_id</th>\n",
       "      <td>1</td>\n",
       "    </tr>\n",
       "    <tr>\n",
       "      <th>institution_id</th>\n",
       "      <td>0</td>\n",
       "    </tr>\n",
       "    <tr>\n",
       "      <th>source_id</th>\n",
       "      <td>0</td>\n",
       "    </tr>\n",
       "    <tr>\n",
       "      <th>experiment_id</th>\n",
       "      <td>1</td>\n",
       "    </tr>\n",
       "    <tr>\n",
       "      <th>frequency</th>\n",
       "      <td>1</td>\n",
       "    </tr>\n",
       "    <tr>\n",
       "      <th>modeling_realm</th>\n",
       "      <td>1</td>\n",
       "    </tr>\n",
       "    <tr>\n",
       "      <th>table_id</th>\n",
       "      <td>0</td>\n",
       "    </tr>\n",
       "    <tr>\n",
       "      <th>member_id</th>\n",
       "      <td>0</td>\n",
       "    </tr>\n",
       "    <tr>\n",
       "      <th>grid_label</th>\n",
       "      <td>0</td>\n",
       "    </tr>\n",
       "    <tr>\n",
       "      <th>variable_id</th>\n",
       "      <td>1</td>\n",
       "    </tr>\n",
       "    <tr>\n",
       "      <th>temporal_subset</th>\n",
       "      <td>0</td>\n",
       "    </tr>\n",
       "    <tr>\n",
       "      <th>chunk_freq</th>\n",
       "      <td>0</td>\n",
       "    </tr>\n",
       "    <tr>\n",
       "      <th>grid_label.1</th>\n",
       "      <td>0</td>\n",
       "    </tr>\n",
       "    <tr>\n",
       "      <th>platform</th>\n",
       "      <td>0</td>\n",
       "    </tr>\n",
       "    <tr>\n",
       "      <th>dimensions</th>\n",
       "      <td>0</td>\n",
       "    </tr>\n",
       "    <tr>\n",
       "      <th>cell_methods</th>\n",
       "      <td>0</td>\n",
       "    </tr>\n",
       "    <tr>\n",
       "      <th>path</th>\n",
       "      <td>2</td>\n",
       "    </tr>\n",
       "    <tr>\n",
       "      <th>derived_variable_id</th>\n",
       "      <td>0</td>\n",
       "    </tr>\n",
       "  </tbody>\n",
       "</table>\n",
       "</div>"
      ],
      "text/plain": [
       "<IPython.core.display.HTML object>"
      ]
     },
     "metadata": {},
     "output_type": "display_data"
    }
   ],
   "source": [
    "cat = intake.open_esm_datastore(cat_def_file)\n",
    "cat"
   ]
  },
  {
   "cell_type": "code",
   "execution_count": 20,
   "id": "a7145353-c0d2-46a4-8049-fa38aacd3ab8",
   "metadata": {},
   "outputs": [
    {
     "data": {
      "text/html": [
       "<div>\n",
       "<style scoped>\n",
       "    .dataframe tbody tr th:only-of-type {\n",
       "        vertical-align: middle;\n",
       "    }\n",
       "\n",
       "    .dataframe tbody tr th {\n",
       "        vertical-align: top;\n",
       "    }\n",
       "\n",
       "    .dataframe thead th {\n",
       "        text-align: right;\n",
       "    }\n",
       "</style>\n",
       "<table border=\"1\" class=\"dataframe\">\n",
       "  <thead>\n",
       "    <tr style=\"text-align: right;\">\n",
       "      <th></th>\n",
       "      <th>activity_id</th>\n",
       "      <th>institution_id</th>\n",
       "      <th>source_id</th>\n",
       "      <th>experiment_id</th>\n",
       "      <th>frequency</th>\n",
       "      <th>modeling_realm</th>\n",
       "      <th>table_id</th>\n",
       "      <th>member_id</th>\n",
       "      <th>grid_label</th>\n",
       "      <th>variable_id</th>\n",
       "      <th>temporal_subset</th>\n",
       "      <th>chunk_freq</th>\n",
       "      <th>grid_label.1</th>\n",
       "      <th>platform</th>\n",
       "      <th>dimensions</th>\n",
       "      <th>cell_methods</th>\n",
       "      <th>path</th>\n",
       "    </tr>\n",
       "  </thead>\n",
       "  <tbody>\n",
       "    <tr>\n",
       "      <th>0</th>\n",
       "      <td>dev</td>\n",
       "      <td>NaN</td>\n",
       "      <td>NaN</td>\n",
       "      <td>c384L65_am5f3b1r0_amip</td>\n",
       "      <td>daily</td>\n",
       "      <td>atmos_cmip</td>\n",
       "      <td>NaN</td>\n",
       "      <td>NaN</td>\n",
       "      <td>NaN</td>\n",
       "      <td>tas</td>\n",
       "      <td>NaN</td>\n",
       "      <td>NaN</td>\n",
       "      <td>NaN</td>\n",
       "      <td>NaN</td>\n",
       "      <td>NaN</td>\n",
       "      <td>NaN</td>\n",
       "      <td>/archive/am5/am5/am5f3b1r0/c384L65_am5f3b1r0_a...</td>\n",
       "    </tr>\n",
       "    <tr>\n",
       "      <th>1</th>\n",
       "      <td>dev</td>\n",
       "      <td>NaN</td>\n",
       "      <td>NaN</td>\n",
       "      <td>c384L65_am5f3b1r0_amip</td>\n",
       "      <td>daily</td>\n",
       "      <td>atmos_cmip</td>\n",
       "      <td>NaN</td>\n",
       "      <td>NaN</td>\n",
       "      <td>NaN</td>\n",
       "      <td>tas</td>\n",
       "      <td>NaN</td>\n",
       "      <td>NaN</td>\n",
       "      <td>NaN</td>\n",
       "      <td>NaN</td>\n",
       "      <td>NaN</td>\n",
       "      <td>NaN</td>\n",
       "      <td>/archive/am5/am5/am5f3b1r0/c384L65_am5f3b1r0_a...</td>\n",
       "    </tr>\n",
       "  </tbody>\n",
       "</table>\n",
       "</div>"
      ],
      "text/plain": [
       "  activity_id  institution_id  source_id           experiment_id frequency  \\\n",
       "0         dev             NaN        NaN  c384L65_am5f3b1r0_amip     daily   \n",
       "1         dev             NaN        NaN  c384L65_am5f3b1r0_amip     daily   \n",
       "\n",
       "  modeling_realm  table_id  member_id  grid_label variable_id  \\\n",
       "0     atmos_cmip       NaN        NaN         NaN         tas   \n",
       "1     atmos_cmip       NaN        NaN         NaN         tas   \n",
       "\n",
       "   temporal_subset  chunk_freq  grid_label.1  platform  dimensions  \\\n",
       "0              NaN         NaN           NaN       NaN         NaN   \n",
       "1              NaN         NaN           NaN       NaN         NaN   \n",
       "\n",
       "   cell_methods                                               path  \n",
       "0           NaN  /archive/am5/am5/am5f3b1r0/c384L65_am5f3b1r0_a...  \n",
       "1           NaN  /archive/am5/am5/am5f3b1r0/c384L65_am5f3b1r0_a...  "
      ]
     },
     "execution_count": 20,
     "metadata": {},
     "output_type": "execute_result"
    }
   ],
   "source": [
    "cat.df"
   ]
  },
  {
   "cell_type": "markdown",
   "id": "79536816-c505-4b2f-8666-68fcca991af1",
   "metadata": {},
   "source": [
    "## Searching for TAS DAILY output for my POD"
   ]
  },
  {
   "cell_type": "code",
   "execution_count": 23,
   "id": "cd754709-3dc7-4a4c-90c0-67a2f5672021",
   "metadata": {},
   "outputs": [
    {
     "data": {
      "text/html": [
       "<p><strong>esm_catalog_ESM4 catalog with 1 dataset(s) from 2 asset(s)</strong>:</p> <div>\n",
       "<style scoped>\n",
       "    .dataframe tbody tr th:only-of-type {\n",
       "        vertical-align: middle;\n",
       "    }\n",
       "\n",
       "    .dataframe tbody tr th {\n",
       "        vertical-align: top;\n",
       "    }\n",
       "\n",
       "    .dataframe thead th {\n",
       "        text-align: right;\n",
       "    }\n",
       "</style>\n",
       "<table border=\"1\" class=\"dataframe\">\n",
       "  <thead>\n",
       "    <tr style=\"text-align: right;\">\n",
       "      <th></th>\n",
       "      <th>unique</th>\n",
       "    </tr>\n",
       "  </thead>\n",
       "  <tbody>\n",
       "    <tr>\n",
       "      <th>activity_id</th>\n",
       "      <td>1</td>\n",
       "    </tr>\n",
       "    <tr>\n",
       "      <th>institution_id</th>\n",
       "      <td>0</td>\n",
       "    </tr>\n",
       "    <tr>\n",
       "      <th>source_id</th>\n",
       "      <td>0</td>\n",
       "    </tr>\n",
       "    <tr>\n",
       "      <th>experiment_id</th>\n",
       "      <td>1</td>\n",
       "    </tr>\n",
       "    <tr>\n",
       "      <th>frequency</th>\n",
       "      <td>1</td>\n",
       "    </tr>\n",
       "    <tr>\n",
       "      <th>modeling_realm</th>\n",
       "      <td>1</td>\n",
       "    </tr>\n",
       "    <tr>\n",
       "      <th>table_id</th>\n",
       "      <td>0</td>\n",
       "    </tr>\n",
       "    <tr>\n",
       "      <th>member_id</th>\n",
       "      <td>0</td>\n",
       "    </tr>\n",
       "    <tr>\n",
       "      <th>grid_label</th>\n",
       "      <td>0</td>\n",
       "    </tr>\n",
       "    <tr>\n",
       "      <th>variable_id</th>\n",
       "      <td>1</td>\n",
       "    </tr>\n",
       "    <tr>\n",
       "      <th>temporal_subset</th>\n",
       "      <td>0</td>\n",
       "    </tr>\n",
       "    <tr>\n",
       "      <th>chunk_freq</th>\n",
       "      <td>0</td>\n",
       "    </tr>\n",
       "    <tr>\n",
       "      <th>grid_label.1</th>\n",
       "      <td>0</td>\n",
       "    </tr>\n",
       "    <tr>\n",
       "      <th>platform</th>\n",
       "      <td>0</td>\n",
       "    </tr>\n",
       "    <tr>\n",
       "      <th>dimensions</th>\n",
       "      <td>0</td>\n",
       "    </tr>\n",
       "    <tr>\n",
       "      <th>cell_methods</th>\n",
       "      <td>0</td>\n",
       "    </tr>\n",
       "    <tr>\n",
       "      <th>path</th>\n",
       "      <td>2</td>\n",
       "    </tr>\n",
       "    <tr>\n",
       "      <th>derived_variable_id</th>\n",
       "      <td>0</td>\n",
       "    </tr>\n",
       "  </tbody>\n",
       "</table>\n",
       "</div>"
      ],
      "text/plain": [
       "<IPython.core.display.HTML object>"
      ]
     },
     "metadata": {},
     "output_type": "display_data"
    }
   ],
   "source": [
    "# filter catalog by desired variable and output frequency\n",
    "tas_subset = cat.search(variable_id=tas_var, frequency=\"daily\")\n",
    "tas_subset "
   ]
  },
  {
   "cell_type": "code",
   "execution_count": 24,
   "id": "0049f883-2870-4e45-bb98-75c200b0ed72",
   "metadata": {},
   "outputs": [
    {
     "name": "stdout",
     "output_type": "stream",
     "text": [
      "\n",
      "--> The keys in the returned dictionary of datasets are constructed as follows:\n",
      "\t'experiment_id.frequency.modeling_realm.variable_id'\n"
     ]
    },
    {
     "data": {
      "text/html": [
       "\n",
       "    <div>\n",
       "        <style>\n",
       "            /* Turns off some styling */\n",
       "            progress {\n",
       "                /* gets rid of default border in Firefox and Opera. */\n",
       "                border: none;\n",
       "                /* Needs to be in here for Safari polyfill so background images work as expected. */\n",
       "                background-size: auto;\n",
       "            }\n",
       "            .progress-bar-interrupted, .progress-bar-interrupted::-webkit-progress-bar {\n",
       "                background: #F44336;\n",
       "            }\n",
       "        </style>\n",
       "      <progress value='1' class='' max='1' style='width:300px; height:20px; vertical-align: middle;'></progress>\n",
       "      100.00% [1/1 00:00<00:00]\n",
       "    </div>\n",
       "    "
      ],
      "text/plain": [
       "<IPython.core.display.HTML object>"
      ]
     },
     "metadata": {},
     "output_type": "display_data"
    }
   ],
   "source": [
    "# convert tas_subset catalog to an xarray dataset dict\n",
    "tas_dict = tas_subset.to_dataset_dict(\n",
    "    xarray_open_kwargs={\"decode_times\": True, \"use_cftime\": True}\n",
    ")\n",
    "# get key list for new dictionary. Each key corresponds to a case\n",
    "#tas_keys = [key for key in tas_dict.keys()]\n",
    "\n"
   ]
  },
  {
   "cell_type": "markdown",
   "id": "54180da2-5da5-48e6-8b2a-7ec07d463b06",
   "metadata": {},
   "source": [
    "## Let us do some calculations"
   ]
  },
  {
   "cell_type": "code",
   "execution_count": 34,
   "id": "c7d82e9c-6d6d-436e-968f-c1dcf7ebe19c",
   "metadata": {},
   "outputs": [],
   "source": [
    "# Part 2: Do some calculations (time and zonal means)\n",
    "# ---------------------------------------------------\n",
    "\n",
    "tas_arrays = {}\n",
    "\n",
    "# Loop over cases\n",
    "for k, v in tas_dict.items():\n",
    "    # load the tas data for case k\n",
    "    arr = tas_dict[k][tas_var]\n",
    "\n",
    "    # take the time mean\n",
    "    arr = arr.mean(dim=tas_dict[k][time_coord].name)\n",
    "\n",
    "    # this block shuffles the data to make this single case look more\n",
    "    # interesting.  ** DELETE THIS ** once we test with real data\n",
    "\n",
    "    arr.load()\n",
    "    values = arr.to_masked_array().flatten()\n",
    "    np.random.shuffle(values)\n",
    "    values = values.reshape(arr.shape)\n",
    "    arr.values = values\n",
    "\n",
    "    # convert to anomalies\n",
    "    arr = arr - arr.mean()\n",
    "\n",
    "    # take the zonal mean\n",
    "    arr = arr.mean(dim=tas_dict[k][lon_coord].name)\n",
    "\n",
    "    tas_arrays[k] = arr\n",
    "\n"
   ]
  },
  {
   "cell_type": "markdown",
   "id": "c0b225b0-1d40-4d64-b93c-a00081c4c8b1",
   "metadata": {},
   "source": [
    "## Let us PLOT"
   ]
  },
  {
   "cell_type": "code",
   "execution_count": 26,
   "id": "eb5dcce3-bd63-469b-b919-7313a094e4fb",
   "metadata": {},
   "outputs": [
    {
     "name": "stdout",
     "output_type": "stream",
     "text": [
      "Let's plot!\n",
      "--------------------------------------\n"
     ]
    },
    {
     "data": {
      "text/plain": [
       "Text(0.5, 1.0, 'Zonal Mean Surface Air Temperature Anomaly')"
      ]
     },
     "execution_count": 26,
     "metadata": {},
     "output_type": "execute_result"
    }
   ],
   "source": [
    "\n",
    "# Part 3: Make a plot that contains results from each case\n",
    "# --------------------------------------------------------\n",
    "print(\"Let's plot!\")\n",
    "print(\"--------------------------------------\")\n",
    "\n",
    "# set up the figure\n",
    "fig = plt.figure(figsize=(12, 4))\n",
    "ax = plt.subplot(1, 1, 1)\n",
    "\n",
    "# loop over cases\n",
    "for k, v in tas_arrays.items():\n",
    "    v.plot(ax=ax, label=k)\n",
    "\n",
    "# add legend\n",
    "plt.legend()\n",
    "\n",
    "# add title\n",
    "plt.title(\"Zonal Mean Surface Air Temperature Anomaly\")\n"
   ]
  },
  {
   "cell_type": "code",
   "execution_count": 31,
   "id": "d97c51b5-4c3a-4242-913e-efba9b05d38d",
   "metadata": {},
   "outputs": [
    {
     "data": {
      "image/png": "[encoded data removed]",
      "text/plain": [
       "<Figure size 1200x400 with 1 Axes>"
      ]
     },
     "metadata": {},
     "output_type": "display_data"
    }
   ],
   "source": [
    "plt.show()"
   ]
  },
  {
   "cell_type": "markdown",
   "id": "f0dc40a5-ae0a-4cbd-bd25-f55462cfa46b",
   "metadata": {},
   "source": [
    "## Save the plots in work directory "
   ]
  },
  {
   "cell_type": "code",
   "execution_count": 27,
   "id": "63556ef5-07dd-4cad-a050-08bbd9c15d4a",
   "metadata": {},
   "outputs": [
    {
     "name": "stderr",
     "output_type": "stream",
     "text": [
      "The PostScript backend does not support transparency; partially transparent artists will be rendered opaque.\n"
     ]
    },
    {
     "name": "stdout",
     "output_type": "stream",
     "text": [
      "Last log message by example_multicase POD: finished successfully!\n"
     ]
    }
   ],
   "source": [
    "\n",
    "# save the plot in the right location\n",
    "work_dir = os.environ[\"WORK_DIR\"]\n",
    "assert os.path.isdir(f\"{work_dir}/model/PS\"), f'Assertion error: {work_dir}/model/PS not found'\n",
    "\n",
    "plt.savefig(f\"{work_dir}/model/PS/example_model_plot.eps\", bbox_inches=\"tight\")\n",
    "\n",
    "\n",
    "# Part 4: Clean up and close open file handles\n",
    "# --------------------------------------------\n",
    "\n",
    "_ = [x.close() for x in tas_dict.values()]\n",
    "\n",
    "\n",
    "# Part 5: Confirm POD executed successfully\n",
    "# ----------------------------------------\n",
    "print(\"Last log message by example_multicase POD: finished successfully!\")\n"
   ]
  },
  {
   "cell_type": "code",
   "execution_count": null,
   "id": "ec735c6a-6761-47cd-92e4-6904e7e939eb",
   "metadata": {},
   "outputs": [],
   "source": []
  }
 ],
 "metadata": {
  "kernelspec": {
   "display_name": "intake",
   "language": "python",
   "name": "intake"
  },
  "language_info": {
   "codemirror_mode": {
    "name": "ipython",
    "version": 3
   },
   "file_extension": ".py",
   "mimetype": "text/x-python",
   "name": "python",
   "nbconvert_exporter": "python",
   "pygments_lexer": "ipython3",
   "version": "3.9.0"
  }
 },
 "nbformat": 4,
 "nbformat_minor": 5
}
