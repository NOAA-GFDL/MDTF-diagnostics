{
 "cells": [
  {
   "metadata": {},
   "cell_type": "markdown",
   "source": [
    "# Sea Surface Temperature Bias - NOAA OISSTv2\n",
    "\n",
    "* This notebook plots the SST bias of a model simulation vs. climataology derived from NOAA OISSTv2\n",
    "* Authors: Xinru Li and John Krasting"
   ],
   "id": "8bfb94a9-e573-406d-b140-86af797d9523"
  },
  {
   "cell_type": "code",
   "id": "50093a3b-2193-4041-8409-de3dc594cf7d",
   "metadata": {},
   "source": [
    "\n",
    "\n",
    "# For testing and development purposes, enter a start year, end year, and\n",
    "# an dora id number to analyze. The value of dora_id can also be a direct\n",
    "# path to a /pp directory.\n",
    "\n",
    "config = {\n",
    "    \"startyr\": None,\n",
    "    \"endyr\": None,\n",
    "    \"dora_id\": \"odiv-413\",\n",
    "}"
   ],
   "outputs": [],
   "execution_count": null
  },
  {
   "metadata": {},
   "cell_type": "code",
   "source": [
    "# Make sure this cell is active so that the workflow and Dora can update\n",
    "# the config dictionary at runtime.\n",
    "\n",
    "#from gfdlnb.tools.update_notebook_config import update_notebook_config\n",
    "#config = update_notebook_config(config)"
   ],
   "id": "9b94e2fadf0ab2c6",
   "outputs": [],
   "execution_count": null
  },
  {
   "cell_type": "code",
   "id": "cae4343a-ced9-41be-9fa6-3a6b42188886",
   "metadata": {},
   "source": [
    "print(str(config))"
   ],
   "outputs": [],
   "execution_count": null
  },
  {
   "cell_type": "markdown",
   "id": "74366b78-6b75-4210-9ed3-24cef6af4550",
   "metadata": {},
   "source": [
    "### Import Python Modules"
   ]
  },
  {
   "cell_type": "code",
   "id": "dfcdc828-ad45-4ef0-92bc-05df9c036270",
   "metadata": {},
   "source": [
    "import doralite\n",
    "import glob\n",
    "import momlevel\n",
    "import subprocess\n",
    "import os\n",
    "import datetime\n",
    "\n",
    "import intake\n",
    "import numpy as np\n",
    "import xarray as xr\n",
    "import matplotlib\n",
    "import matplotlib.pyplot as plt\n",
    "matplotlib.use('Agg')  # non-X windows backend\n",
    "import cartopy.crs as ccrs\n",
    "\n",
    "from matplotlib.colors import ListedColormap, BoundaryNorm"
   ],
   "outputs": [],
   "execution_count": null
  },
  {
   "cell_type": "code",
   "id": "806241bd-ebea-4640-ab69-cea6edba62de",
   "metadata": {},
   "source": [
    "# momgrid will use a directory of pre-computed weights that is used for calculating basic area-weighted statistics later\n",
    "import momgrid\n",
    "os.environ[\"MOMGRID_WEIGHTS_DIR\"] = \"/nbhome/John.Krasting/grid_weights\""
   ],
   "outputs": [],
   "execution_count": null
  },
  {
   "cell_type": "markdown",
   "id": "d3ddbddd-eed1-4ac4-9123-6c7df5fcab03",
   "metadata": {},
   "source": [
    "### Definie Local Parameters"
   ]
  },
  {
   "cell_type": "code",
   "id": "04229c22-3781-400f-a390-8c5eaaef5189",
   "metadata": {},
   "source": [
    "# Define some local variables. These are taken from the doralite object\n",
    "# or they can be defined locally\n",
    "\n",
    "if config[\"dora_id\"] is not None:\n",
    "    experiment =  doralite.dora_metadata(config[\"dora_id\"])\n",
    "    pathPP = experiment[\"pathPP\"]\n",
    "    expName = experiment[\"expName\"]\n",
    "else:\n",
    "    raise ValueError(\"Experiment must be defined\")\n",
    "\n",
    "# Define start and end years\n",
    "try: \n",
    "    start = os.environ[\"startdate\"]\n",
    "except KeyError:\n",
    "    start = config[\"startyr\"]\n",
    "start = int(start) if start is not None else 1\n",
    "try:\n",
    "    end = os.environ[\"enddate\"]\n",
    "except KeyError:\n",
    "    end = config[\"endyr\"]\n",
    "end = int(end) if end is not None else 9999"
   ],
   "outputs": [],
   "execution_count": null
  },
  {
   "cell_type": "markdown",
   "id": "a8642873-93e4-4e1f-9486-435d6070fc43",
   "metadata": {},
   "source": [
    "### Determine What Files to Load"
   ]
  },
  {
   "cell_type": "code",
   "id": "382835f3-a3d7-419f-a92f-e65808230c59",
   "metadata": {
    "jupyter": {
     "is_executing": true
    }
   },
   "source": [
    "# Determine what files are needed (leave this up to the developer for flexibility)\n",
    "# This is an example of what someone might do:\n",
    "frequency = 'mon'\n",
    "\n",
    "try:\n",
    "    #  ^..^\n",
    "    # /o  o\\   \n",
    "    # oo--oo~~~\n",
    "    cat = intake.open_esm_datastore(os.environ['CATALOG_FILE'])\n",
    "except KeyError:\n",
    "    print(f\"ERROR: Could not load catalog file {os.environ['CATALOG_FILE']}\")\n",
    "\n",
    "tos_subset = cat.search(variable_id='tos', frequency=frequency)\n",
    "filelist = sorted([path for path in tos_subset.df['path']])\n",
    "areacello_subset = cat.search(variable_id='areacello', frequency=frequency)\n",
    "staticfile = sorted([path for path in tos_subset.df['path']])\n",
    "staticfile = staticfile[0] if staticfile else None\n",
    "\n",
    "\n",
    "# WARNING: LEGACY WAY OF GRABBING FILES\n",
    "#component = \"ocean_monthly\"\n",
    "#static = f\"{component}/{component}.static.nc\"\n",
    "#varname = \"tos\"\n",
    "\n",
    "#chunk = \"5yr\"\n",
    "#filelist = sorted(glob.glob(f\"{pathPP}{component}/ts/**/{chunk}/{component}.*.{varname}.nc\", recursive=True))\n",
    "\n",
    "#def is_in_range(file,start,end):\n",
    "#    start = 1 if start is None else start\n",
    "#    end = 9999 if end is None else end\n",
    "#    target = set(list(range(start,end+1)))\n",
    "#    fname = os.path.basename(file)\n",
    "#    times = fname.split(\".\")[1]\n",
    "#    times = times.split(\"-\")\n",
    "#    times = [int(x[0:4]) for x in times]\n",
    "#    candidate = set(list(range(times[0],times[1]+1)))\n",
    "#    return len(candidate.intersection(target)) > 0\n",
    "\n",
    "#filelist = [x for x in filelist if is_in_range(x,start,end)]\n",
    "#staticfile = f\"{pathPP}/{static}\"\n",
    "\n",
    "#_ = [print(x) for x in filelist]"
   ],
   "outputs": [],
   "execution_count": null
  },
  {
   "cell_type": "markdown",
   "id": "4bfd8545-cb3b-43ee-b1fb-e71a99fe3262",
   "metadata": {
    "editable": true,
    "slideshow": {
     "slide_type": ""
    },
    "tags": [
     "stop_here"
    ]
   },
   "source": [
    "### DMgetting Files"
   ]
  },
  {
   "cell_type": "markdown",
   "id": "736dbdaa-f8ed-4ad8-a641-eee616041458",
   "metadata": {},
   "source": [
    "Dora cannot issue calls to dmget"
   ]
  },
  {
   "cell_type": "code",
   "id": "7096dc5b-559b-4221-a189-0836d77afd12",
   "metadata": {},
   "source": [
    "if not \"DORA_EXECUTE\" in os.environ.keys():\n",
    "    print(\"Calling dmget on files ...\")\n",
    "    cmd = [\"dmget\"]+filelist+[staticfile]\n",
    "    _ = subprocess.check_output(cmd)"
   ],
   "outputs": [],
   "execution_count": null
  },
  {
   "cell_type": "markdown",
   "id": "b32a4d6d-e5a7-4477-af8f-9e5468e3babc",
   "metadata": {},
   "source": [
    "### Load model data and grid"
   ]
  },
  {
   "cell_type": "code",
   "id": "70b1b444-20e4-4e63-b8a6-4d076d977eb2",
   "metadata": {},
   "source": [
    "ds = momgrid.Gridset(filelist, force_symmetric=True, return_corners=True)\n",
    "model_type = ds.model\n",
    "ds = ds.data.sel(time=slice(f\"{str(start).zfill(4)}-01-01\",f\"{str(end).zfill(4)}-12-31\"))"
   ],
   "outputs": [],
   "execution_count": null
  },
  {
   "cell_type": "code",
   "id": "676c8308-6c0b-4448-9335-be668cb99e82",
   "metadata": {},
   "source": [
    "ds"
   ],
   "outputs": [],
   "execution_count": null
  },
  {
   "cell_type": "markdown",
   "id": "3281e9a1-7d5d-4b51-afd8-867b973e2e10",
   "metadata": {},
   "source": [
    "### Load observational data (if needed)"
   ]
  },
  {
   "cell_type": "markdown",
   "id": "1cd28781-a0f9-44b5-9ef7-fc8251601eca",
   "metadata": {},
   "source": [
    "Note that Dora only mounts `/archive`, `/nbhome`, and `/home`"
   ]
  },
  {
   "cell_type": "code",
   "id": "3f322d2e-1c88-479f-86c7-5910d71cf3f9",
   "metadata": {},
   "source": [
    "model_type = 'om5'\n",
    "if \"om4\" in model_type:\n",
    "    dsobs = xr.open_dataset(\"/archive/John.Krasting/NOAA_OISST_v2_annual_mean_1993-2017_OM4.nc\", use_cftime=True)\n",
    "elif \"om5\" in model_type:\n",
    "    dsobs = xr.open_dataset(\"/archive/John.Krasting/NOAA_OISST_v2_annual_mean_1993-2017_OM5.nc\", use_cftime=True)\n",
    "else:\n",
    "    raise ValueError(f\"Unable to load obs for model type: {model_type}\")"
   ],
   "outputs": [],
   "execution_count": null
  },
  {
   "cell_type": "markdown",
   "id": "20efeacb-e03c-4ddb-8f12-1cb67dee8a4e",
   "metadata": {},
   "source": [
    "### Define some helper function for the plots"
   ]
  },
  {
   "cell_type": "code",
   "id": "c4fa45cd-e682-4aac-a98c-a0af350de2a3",
   "metadata": {},
   "source": [
    "def gen_levs_and_cmap(start,end,delta,cmap=\"RdBu_r\"):\n",
    "    \"\"\"Generates a difference colormap centered on white\"\"\"\n",
    "    boundaries = np.arange(start,end,delta)\n",
    "    levels = (boundaries[0:-1] + boundaries[1:]) / 2.\n",
    "    base_cmap = plt.get_cmap(cmap)\n",
    "    colors = base_cmap(np.linspace(0, 1, len(levels)))\n",
    "    colors[[int(len(colors) / 2) - 1]] = [1, 1, 1, 1]\n",
    "    colors[[int(len(colors) / 2)]] = [1, 1, 1, 1]\n",
    "    cmap = ListedColormap(colors)\n",
    "    norm = BoundaryNorm(boundaries, cmap.N, clip=True)\n",
    "    return (cmap, norm, boundaries)"
   ],
   "outputs": [],
   "execution_count": null
  },
  {
   "cell_type": "code",
   "id": "294f6a30-47b8-4938-8fa4-f6390e841234",
   "metadata": {},
   "source": [
    "def set_annotaions(ax):\n",
    "    _ = ax.set_xticks([])\n",
    "    _ = ax.set_yticks([])\n",
    "    _ = ax.text(0.0,1.06, \"SST Bias Relative to NOAA OISSTv2 (1993-2017)\", weight=\"bold\", fontsize=12, transform=ax.transAxes)\n",
    "    _ = ax.text(0.0,1.02, expName, style=\"italic\", fontsize=10, transform=ax.transAxes)\n",
    "    _ = ax.text(1.0,1.05, str(starttime.values), ha=\"right\", fontsize=8, transform=ax.transAxes)\n",
    "    _ = ax.text(1.0,1.02, str(endtime.values), ha=\"right\", fontsize=8, transform=ax.transAxes)"
   ],
   "outputs": [],
   "execution_count": null
  },
  {
   "cell_type": "code",
   "id": "574269bd-afb5-437f-ad30-703b70489d85",
   "metadata": {},
   "source": [
    "def add_stats_box(ax, stats_str, x=0.015, y=0.8):\n",
    "        # Adding the text box annotation\n",
    "    props = dict(\n",
    "        boxstyle=\"round,pad=0.3\", edgecolor=\"black\", linewidth=1.5, facecolor=\"white\"\n",
    "    )\n",
    "    ax.text(\n",
    "        x,\n",
    "        y,\n",
    "        stats_str,\n",
    "        transform=ax.transAxes,\n",
    "        fontsize=8,\n",
    "        verticalalignment=\"top\",\n",
    "        bbox=props,\n",
    "    )"
   ],
   "outputs": [],
   "execution_count": null
  },
  {
   "cell_type": "code",
   "id": "80be5109-0e21-450c-827f-2bed52263b00",
   "metadata": {},
   "source": [
    "def calculate_stats(model,obs,areacello):\n",
    "    diff = model - obs\n",
    "    stats = {}\n",
    "    stats[\"min\"] = float(diff.min())\n",
    "    stats[\"max\"] = float(diff.max())\n",
    "    stats = {**stats, **momgrid.xr_stats.xr_stats_2d(model,obs,ds.areacello,fmt=\"dict\")}\n",
    "    # Limit to 4 significant digits\n",
    "    stats = {k:f\"{v:.4g}\" for k,v in stats.items()}\n",
    "    # Stats string\n",
    "    stats_str = str(\"\\n\").join([f\"{k} = {v}\" for k,v in stats.items()])\n",
    "    return (stats, stats_str)"
   ],
   "outputs": [],
   "execution_count": null
  },
  {
   "cell_type": "code",
   "id": "aadf7139-8861-4a4a-8a2a-1a6c6244cc37",
   "metadata": {},
   "source": [
    "def add_colorbar(fig, cb, boundaries):\n",
    "    cbar_ax = fig.add_axes([0.16, 0.06, 0.7, 0.03])\n",
    "    fig.colorbar(\n",
    "        cb, cax=cbar_ax, orientation=\"horizontal\", extend=\"both\", ticks=boundaries[::4]\n",
    "    )"
   ],
   "outputs": [],
   "execution_count": null
  },
  {
   "cell_type": "code",
   "id": "64a9c87a-dc17-4c3c-ba71-db76f86dad3e",
   "metadata": {},
   "source": [
    "momlevel.util.annual_average(ds)"
   ],
   "outputs": [],
   "execution_count": null
  },
  {
   "cell_type": "markdown",
   "id": "d9fb9c99-0918-484c-9bf8-3d32d7afc082",
   "metadata": {},
   "source": [
    "### Perform some calculations"
   ]
  },
  {
   "cell_type": "code",
   "id": "0f1309d7-1411-47ce-9aa0-440c4ece8724",
   "metadata": {},
   "source": [
    "# Time-average the model data\n",
    "model = ds.tos\n",
    "starttime = model.time[0]\n",
    "endtime = model.time[-1]\n",
    "model = momlevel.util.annual_average(model).mean(\"time\", keep_attrs=True).load()\n",
    "\n",
    "# Obs data is already a climatology\n",
    "obs = dsobs.tos"
   ],
   "outputs": [],
   "execution_count": null
  },
  {
   "cell_type": "markdown",
   "id": "6bd979de-61bb-449e-b447-9e959e640406",
   "metadata": {},
   "source": [
    "### Establish a Dictionary to Store Scalar Metrics"
   ]
  },
  {
   "cell_type": "code",
   "id": "c885c9d6-b164-47b8-a473-f9f6851795db",
   "metadata": {},
   "source": [
    "stats_dict = {}\n",
    "stats_dict[\"metadata\"] = {\n",
    "    \"expName\": str(expName),\n",
    "    \"created\": datetime.datetime.now().isoformat(),\n",
    "    \"starttime\": str(starttime.values),\n",
    "    \"endtime\": str(endtime.values),\n",
    "}\n",
    "stats_dict[\"results\"] = {}\n",
    "stats_dict"
   ],
   "outputs": [],
   "execution_count": null
  },
  {
   "cell_type": "code",
   "id": "77df75fe-0b2a-4659-aff8-f23708e1003d",
   "metadata": {},
   "source": [
    "%matplotlib inline\n",
    "# Setup plot\n",
    "fig = plt.figure(figsize=(10,6))\n",
    "ax = plt.subplot(1,1,1, facecolor=\"lightgray\")\n",
    "\n",
    "# Definie geolon and geolat for plotting (use corners!)\n",
    "x = ds.geolon_c\n",
    "y = ds.geolat_c\n",
    "\n",
    "# Get colormap\n",
    "cmap, norm, boundaries = gen_levs_and_cmap(-4.5,4.75,0.25)\n",
    "\n",
    "# Run pcolormesh\n",
    "cb = plt.pcolormesh(x,y,model-obs, cmap=cmap, norm=norm)\n",
    "\n",
    "# Clean up figure and add labels\n",
    "set_annotaions(ax)\n",
    "\n",
    "# Add statistics\n",
    "stats, stats_str = calculate_stats(model, obs, ds.areacello)\n",
    "add_stats_box(ax, stats_str)\n",
    "\n",
    "# Add colorbar\n",
    "add_colorbar(fig, cb, boundaries)\n",
    "\n",
    "plt.show()\n",
    "\n",
    "# Save stats\n",
    "stats_dict[\"results\"][\"global\"] = stats"
   ],
   "outputs": [],
   "execution_count": null
  },
  {
   "cell_type": "markdown",
   "id": "1e066754-54b0-4613-be89-364bc4421788",
   "metadata": {},
   "source": [
    "### Arctic"
   ]
  },
  {
   "cell_type": "code",
   "id": "814e39fe-6b31-4051-9aae-9b44862c89fa",
   "metadata": {},
   "source": [
    "xrange = (-298,61)\n",
    "yrange = (60.,91.)\n",
    "\n",
    "_model = momgrid.geoslice.geoslice(model,x=xrange,y=yrange)\n",
    "_obs = momgrid.geoslice.geoslice(obs,x=xrange,y=yrange)\n",
    "\n",
    "xq = list((_model.xh.values - 0.5).astype(int))\n",
    "yq = list((_model.yh.values - 0.5).astype(int))\n",
    "\n",
    "xq = xq + [xq[-1] + 1]\n",
    "yq = yq + [yq[-1] + 1]\n",
    "\n",
    "x = ds.geolon_c.values[yq,:][:,xq]\n",
    "y = ds.geolat_c.values[yq,:][:,xq]\n",
    "\n",
    "# Get colormap\n",
    "cmap, norm, boundaries = gen_levs_and_cmap(-2.0,2.125,0.125)\n",
    "\n",
    "fig = plt.figure(figsize=(6,6))\n",
    "ax = plt.subplot(1,1,1, facecolor=\"lightgray\", projection=ccrs.NorthPolarStereo())\n",
    "cb = ax.pcolormesh(x,y,_model-_obs,transform=ccrs.PlateCarree(), cmap=cmap, norm=norm)\n",
    "ax.coastlines()\n",
    "\n",
    "# Clean up figure and add labels\n",
    "set_annotaions(ax)\n",
    "\n",
    "# Add statistics\n",
    "stats, stats_str = calculate_stats(_model, _obs, _model.areacello)\n",
    "add_stats_box(ax, stats_str, x=0.05, y=0.95)\n",
    "\n",
    "# Add colorbar\n",
    "add_colorbar(fig, cb, boundaries)\n",
    "\n",
    "# Save stats\n",
    "stats_dict[\"results\"][\"Arctic\"] = stats"
   ],
   "outputs": [],
   "execution_count": null
  },
  {
   "cell_type": "markdown",
   "id": "8f2efece-1333-4c0c-be5e-25ce18b8b67b",
   "metadata": {},
   "source": [
    "### Southern Ocean"
   ]
  },
  {
   "cell_type": "code",
   "id": "469f1fe1-d810-49e9-8e55-32fcabe11ff6",
   "metadata": {},
   "source": [
    "xrange = (-300,60)\n",
    "yrange = (-60.,-91.)\n",
    "\n",
    "_model = momgrid.geoslice.geoslice(model,x=xrange,y=yrange)\n",
    "_obs = momgrid.geoslice.geoslice(obs,x=xrange,y=yrange)\n",
    "\n",
    "xq = list((_model.xh.values - 0.5).astype(int))\n",
    "yq = list((_model.yh.values - 0.5).astype(int))\n",
    "\n",
    "xq = xq + [xq[-1] + 1]\n",
    "yq = yq + [yq[-1] + 1]\n",
    "\n",
    "x = ds.geolon_c.values[yq,:][:,xq]\n",
    "y = ds.geolat_c.values[yq,:][:,xq]\n",
    "\n",
    "# Get colormap\n",
    "cmap, norm, boundaries = gen_levs_and_cmap(-2.0,2.125,0.125)\n",
    "\n",
    "fig = plt.figure(figsize=(6,6))\n",
    "ax = plt.subplot(1,1,1, facecolor=\"lightgray\", projection=ccrs.SouthPolarStereo())\n",
    "cb = ax.pcolormesh(x,y,_model-_obs,transform=ccrs.PlateCarree(), cmap=cmap, norm=norm)\n",
    "ax.coastlines()\n",
    "\n",
    "# Clean up figure and add labels\n",
    "set_annotaions(ax)\n",
    "\n",
    "# Add statistics\n",
    "stats, stats_str = calculate_stats(_model, _obs, _model.areacello)\n",
    "add_stats_box(ax, stats_str, x=0.5, y=0.7)\n",
    "\n",
    "# Add colorbar\n",
    "add_colorbar(fig, cb, boundaries)\n",
    "\n",
    "# Save stats\n",
    "stats_dict[\"results\"][\"southern_ocean\"] = stats"
   ],
   "outputs": [],
   "execution_count": null
  },
  {
   "cell_type": "markdown",
   "id": "ee350a69-9515-4eb9-a3f3-d1c4461457e2",
   "metadata": {},
   "source": [
    "### Northwest Pacific"
   ]
  },
  {
   "cell_type": "code",
   "id": "02cbd719-18c5-4f3e-a16c-46ac751d9c5f",
   "metadata": {},
   "source": [
    "xrange = (-250.,-150.)\n",
    "yrange = (25.,60.)\n",
    "\n",
    "_model = momgrid.geoslice.geoslice(model,x=xrange,y=yrange)\n",
    "_obs = momgrid.geoslice.geoslice(obs,x=xrange,y=yrange)\n",
    "\n",
    "xq = list((_model.xh.values - 0.5).astype(int))\n",
    "yq = list((_model.yh.values - 0.5).astype(int))\n",
    "\n",
    "xq = xq + [xq[-1] + 1]\n",
    "yq = yq + [yq[-1] + 1]\n",
    "\n",
    "x = ds.geolon_c.values[yq,:][:,xq]\n",
    "y = ds.geolat_c.values[yq,:][:,xq]\n",
    "\n",
    "# Get colormap\n",
    "cmap, norm, boundaries = gen_levs_and_cmap(-4.5,4.75,0.25)\n",
    "\n",
    "fig = plt.figure(figsize=(10,4))\n",
    "ax = plt.subplot(1,1,1, facecolor=\"lightgray\", projection=ccrs.Miller(central_longitude=-200))\n",
    "cb = ax.pcolormesh(x,y,_model-_obs,transform=ccrs.PlateCarree(), cmap=cmap, norm=norm)\n",
    "ax.coastlines()\n",
    "\n",
    "# Clean up figure and add labels\n",
    "set_annotaions(ax)\n",
    "\n",
    "# Add statistics\n",
    "stats, stats_str = calculate_stats(_model, _obs, _model.areacello)\n",
    "add_stats_box(ax, stats_str)\n",
    "\n",
    "# Add colorbar\n",
    "add_colorbar(fig, cb, boundaries)\n",
    "\n",
    "# Save stats\n",
    "stats_dict[\"results\"][\"Northest_Pacific\"] = stats"
   ],
   "outputs": [],
   "execution_count": null
  },
  {
   "cell_type": "markdown",
   "id": "79f0ad60-e903-461b-9f05-02a1bf0ebb74",
   "metadata": {},
   "source": [
    "### Tropical and Subtropical Indo-Pacific"
   ]
  },
  {
   "cell_type": "code",
   "id": "a8e06a2f-51af-4145-a473-c7e8e5820e2d",
   "metadata": {},
   "source": [
    "xrange = (-280.,-80.)\n",
    "yrange = (-23.,23.)\n",
    "\n",
    "_model = momgrid.geoslice.geoslice(model,x=xrange,y=yrange)\n",
    "_obs = momgrid.geoslice.geoslice(obs,x=xrange,y=yrange)\n",
    "\n",
    "xq = list((_model.xh.values - 0.5).astype(int))\n",
    "yq = list((_model.yh.values - 0.5).astype(int))\n",
    "\n",
    "xq = xq + [xq[-1] + 1]\n",
    "yq = yq + [yq[-1] + 1]\n",
    "\n",
    "x = ds.geolon_c.values[yq,:][:,xq]\n",
    "y = ds.geolat_c.values[yq,:][:,xq]\n",
    "\n",
    "# Get colormap\n",
    "cmap, norm, boundaries = gen_levs_and_cmap(-4.5,4.75,0.25)\n",
    "\n",
    "fig = plt.figure(figsize=(10,4))\n",
    "ax = plt.subplot(1,1,1, facecolor=\"lightgray\", projection=ccrs.Miller(central_longitude=-180))\n",
    "cb = ax.pcolormesh(x,y,_model-_obs,transform=ccrs.PlateCarree(), cmap=cmap, norm=norm)\n",
    "ax.coastlines()\n",
    "\n",
    "# Clean up figure and add labels\n",
    "set_annotaions(ax)\n",
    "\n",
    "# Add statistics\n",
    "stats, stats_str = calculate_stats(_model, _obs, _model.areacello)\n",
    "add_stats_box(ax, stats_str, x=0.005, y=0.98)\n",
    "\n",
    "# Add colorbar\n",
    "add_colorbar(fig, cb, boundaries)\n",
    "\n",
    "# Save stats\n",
    "stats_dict[\"results\"][\"TropicalSubtropical_IndoPacific\"] = stats"
   ],
   "outputs": [],
   "execution_count": null
  },
  {
   "cell_type": "markdown",
   "id": "df86db64-3d9e-4464-a1f5-c3723b7ce570",
   "metadata": {},
   "source": [
    "### South Indo-Pacific"
   ]
  },
  {
   "cell_type": "code",
   "id": "750e8a23-a0c6-48bf-b769-812577a966b9",
   "metadata": {},
   "source": [
    "xrange = (-300.,-170.)\n",
    "yrange = (-25.,-60.)\n",
    "\n",
    "_model = momgrid.geoslice.geoslice(model,x=xrange,y=yrange)\n",
    "_obs = momgrid.geoslice.geoslice(obs,x=xrange,y=yrange)\n",
    "\n",
    "xq = list((_model.xh.values - 0.5).astype(int))\n",
    "yq = list((_model.yh.values - 0.5).astype(int))\n",
    "\n",
    "xq = xq + [xq[-1] + 1]\n",
    "yq = yq + [yq[-1] + 1]\n",
    "\n",
    "x = ds.geolon_c.values[yq,:][:,xq]\n",
    "y = ds.geolat_c.values[yq,:][:,xq]\n",
    "\n",
    "# Get colormap\n",
    "cmap, norm, boundaries = gen_levs_and_cmap(-4.5,4.75,0.25)\n",
    "\n",
    "fig = plt.figure(figsize=(10,4))\n",
    "ax = plt.subplot(1,1,1, facecolor=\"lightgray\", projection=ccrs.Miller(central_longitude=-180))\n",
    "cb = ax.pcolormesh(x,y,_model-_obs,transform=ccrs.PlateCarree(), cmap=cmap, norm=norm)\n",
    "ax.coastlines()\n",
    "\n",
    "# Clean up figure and add labels\n",
    "set_annotaions(ax)\n",
    "\n",
    "# Add statistics\n",
    "stats, stats_str = calculate_stats(_model, _obs, _model.areacello)\n",
    "add_stats_box(ax, stats_str, x=0.005, y=0.98)\n",
    "\n",
    "# Add colorbar\n",
    "add_colorbar(fig, cb, boundaries)\n",
    "\n",
    "# Save stats\n",
    "stats_dict[\"results\"][\"south_indo_pacific\"] = stats"
   ],
   "outputs": [],
   "execution_count": null
  },
  {
   "cell_type": "markdown",
   "id": "daf93db4-09ad-4ba2-84e5-2197005ac7b9",
   "metadata": {},
   "source": [
    "### North Atlantic "
   ]
  },
  {
   "cell_type": "code",
   "id": "6ce86514-5edc-4ff8-b8e6-c99420ff82ce",
   "metadata": {},
   "source": [
    "xrange = (-80.,-0.)\n",
    "yrange = (30.,60.)\n",
    "\n",
    "_model = momgrid.geoslice.geoslice(model,x=xrange,y=yrange)\n",
    "_obs = momgrid.geoslice.geoslice(obs,x=xrange,y=yrange)\n",
    "\n",
    "xq = list((_model.xh.values - 0.5).astype(int))\n",
    "yq = list((_model.yh.values - 0.5).astype(int))\n",
    "\n",
    "xq = xq + [xq[-1] + 1]\n",
    "yq = yq + [yq[-1] + 1]\n",
    "\n",
    "x = ds.geolon_c.values[yq,:][:,xq]\n",
    "y = ds.geolat_c.values[yq,:][:,xq]\n",
    "\n",
    "# Get colormap\n",
    "cmap, norm, boundaries = gen_levs_and_cmap(-4.5,4.75,0.25)\n",
    "\n",
    "fig = plt.figure(figsize=(10,4))\n",
    "ax = plt.subplot(1,1,1, facecolor=\"lightgray\", projection=ccrs.Miller(central_longitude=-60))\n",
    "cb = ax.pcolormesh(x,y,_model-_obs,transform=ccrs.PlateCarree(), cmap=cmap, norm=norm)\n",
    "ax.coastlines()\n",
    "\n",
    "# Clean up figure and add labels\n",
    "set_annotaions(ax)\n",
    "\n",
    "# Add statistics\n",
    "stats, stats_str = calculate_stats(_model, _obs, _model.areacello)\n",
    "add_stats_box(ax, stats_str, x=0.05, y=0.9)\n",
    "\n",
    "# Add colorbar\n",
    "add_colorbar(fig, cb, boundaries)\n",
    "\n",
    "# Save stats\n",
    "stats_dict[\"results\"][\"North_Atlantic\"] = stats"
   ],
   "outputs": [],
   "execution_count": null
  },
  {
   "cell_type": "markdown",
   "id": "3fbb3b4c-f204-4c95-98e1-3e64104d20ff",
   "metadata": {},
   "source": [
    "### South Atlantic"
   ]
  },
  {
   "cell_type": "code",
   "id": "8f9c0386-8f20-4911-931f-db8a14e0ad84",
   "metadata": {},
   "source": [
    "xrange = (-75.,25.)\n",
    "yrange = (-20.,-60.)\n",
    "\n",
    "_model = momgrid.geoslice.geoslice(model,x=xrange,y=yrange)\n",
    "_obs = momgrid.geoslice.geoslice(obs,x=xrange,y=yrange)\n",
    "\n",
    "xq = list((_model.xh.values - 0.5).astype(int))\n",
    "yq = list((_model.yh.values - 0.5).astype(int))\n",
    "\n",
    "xq = xq + [xq[-1] + 1]\n",
    "yq = yq + [yq[-1] + 1]\n",
    "\n",
    "x = ds.geolon_c.values[yq,:][:,xq]\n",
    "y = ds.geolat_c.values[yq,:][:,xq]\n",
    "\n",
    "# Get colormap\n",
    "cmap, norm, boundaries = gen_levs_and_cmap(-4.5,4.75,0.25)\n",
    "\n",
    "fig = plt.figure(figsize=(10,4))\n",
    "ax = plt.subplot(1,1,1, facecolor=\"lightgray\", projection=ccrs.Miller(central_longitude=-25))\n",
    "cb = ax.pcolormesh(x,y,_model-_obs,transform=ccrs.PlateCarree(), cmap=cmap, norm=norm)\n",
    "ax.coastlines()\n",
    "\n",
    "# Clean up figure and add labels\n",
    "set_annotaions(ax)\n",
    "\n",
    "# Add statistics\n",
    "stats, stats_str = calculate_stats(_model, _obs, _model.areacello)\n",
    "add_stats_box(ax, stats_str, x=0.05, y=0.98)\n",
    "\n",
    "# Add colorbar\n",
    "add_colorbar(fig, cb, boundaries)\n",
    "\n",
    "# Save stats\n",
    "stats_dict[\"results\"][\"South_Atlantic\"] = stats"
   ],
   "outputs": [],
   "execution_count": null
  },
  {
   "cell_type": "markdown",
   "id": "3501515f-15c5-4b03-9590-b099ca7b95da",
   "metadata": {},
   "source": [
    "### California Current"
   ]
  },
  {
   "cell_type": "code",
   "id": "4aad3d3e-c52b-4d56-ace7-76c85ce9d608",
   "metadata": {},
   "source": [
    "xrange = (-130.,-100.)\n",
    "yrange = (18.,46.)\n",
    "\n",
    "_model = momgrid.geoslice.geoslice(model,x=xrange,y=yrange)\n",
    "_obs = momgrid.geoslice.geoslice(obs,x=xrange,y=yrange)\n",
    "\n",
    "xq = list((_model.xh.values - 0.5).astype(int))\n",
    "yq = list((_model.yh.values - 0.5).astype(int))\n",
    "\n",
    "xq = xq + [xq[-1] + 1]\n",
    "yq = yq + [yq[-1] + 1]\n",
    "\n",
    "x = ds.geolon_c.values[yq,:][:,xq]\n",
    "y = ds.geolat_c.values[yq,:][:,xq]\n",
    "\n",
    "# Get colormap\n",
    "cmap, norm, boundaries = gen_levs_and_cmap(-4.5,4.75,0.25)\n",
    "\n",
    "fig = plt.figure(figsize=(10,4))\n",
    "ax = plt.subplot(1,1,1, facecolor=\"lightgray\", projection=ccrs.Miller(central_longitude=-115))\n",
    "cb = ax.pcolormesh(x,y,_model-_obs,transform=ccrs.PlateCarree(), cmap=cmap, norm=norm)\n",
    "ax.coastlines()\n",
    "\n",
    "# Clean up figure and add labels\n",
    "set_annotaions(ax)\n",
    "\n",
    "# Add statistics\n",
    "stats, stats_str = calculate_stats(_model, _obs, _model.areacello)\n",
    "add_stats_box(ax, stats_str, x=0.5, y=0.9)\n",
    "\n",
    "# Add colorbar\n",
    "add_colorbar(fig, cb, boundaries)\n",
    "\n",
    "# Save stats\n",
    "stats_dict[\"results\"][\"California_Current\"] = stats"
   ],
   "outputs": [],
   "execution_count": null
  },
  {
   "cell_type": "markdown",
   "id": "a1c98a01-4071-4f0a-92b8-fee62ca566ea",
   "metadata": {},
   "source": [
    "### Bengula Current"
   ]
  },
  {
   "cell_type": "code",
   "id": "3a601a43-f29e-4e1e-8f4f-6e688c4b8422",
   "metadata": {},
   "source": [
    "xrange = (-10.,20.)\n",
    "yrange = (35.,-30.)\n",
    "\n",
    "_model = momgrid.geoslice.geoslice(model,x=xrange,y=yrange)\n",
    "_obs = momgrid.geoslice.geoslice(obs,x=xrange,y=yrange)\n",
    "\n",
    "xq = list((_model.xh.values - 0.5).astype(int))\n",
    "yq = list((_model.yh.values - 0.5).astype(int))\n",
    "\n",
    "xq = xq + [xq[-1] + 1]\n",
    "yq = yq + [yq[-1] + 1]\n",
    "\n",
    "x = ds.geolon_c.values[yq,:][:,xq]\n",
    "y = ds.geolat_c.values[yq,:][:,xq]\n",
    "\n",
    "# Get colormap\n",
    "cmap, norm, boundaries = gen_levs_and_cmap(-4.5,4.75,0.25)\n",
    "\n",
    "fig = plt.figure(figsize=(10,4))\n",
    "ax = plt.subplot(1,1,1, facecolor=\"lightgray\", projection=ccrs.Miller(central_longitude=5))\n",
    "cb = ax.pcolormesh(x,y,_model-_obs,transform=ccrs.PlateCarree(), cmap=cmap, norm=norm)\n",
    "ax.coastlines()\n",
    "\n",
    "# Clean up figure and add labels\n",
    "set_annotaions(ax)\n",
    "\n",
    "# Add statistics\n",
    "stats, stats_str = calculate_stats(_model, _obs, _model.areacello)\n",
    "add_stats_box(ax, stats_str, x=0.2, y=0.9)\n",
    "\n",
    "# Add colorbar\n",
    "add_colorbar(fig, cb, boundaries)\n",
    "\n",
    "# Save stats\n",
    "stats_dict[\"results\"][\"Bengula_Current\"] = stats"
   ],
   "outputs": [],
   "execution_count": null
  },
  {
   "cell_type": "markdown",
   "id": "88e12bf1-ae52-44ea-9292-991223e32be6",
   "metadata": {},
   "source": [
    "### Off the west coast of South America"
   ]
  },
  {
   "cell_type": "code",
   "id": "210068ed-75a7-45c0-8125-f891d77a23f7",
   "metadata": {},
   "source": [
    "xrange = (-110.,-60.)\n",
    "yrange = (0.,-40.)\n",
    "\n",
    "_model = momgrid.geoslice.geoslice(model,x=xrange,y=yrange)\n",
    "_obs = momgrid.geoslice.geoslice(obs,x=xrange,y=yrange)\n",
    "\n",
    "xq = list((_model.xh.values - 0.5).astype(int))\n",
    "yq = list((_model.yh.values - 0.5).astype(int))\n",
    "\n",
    "xq = xq + [xq[-1] + 1]\n",
    "yq = yq + [yq[-1] + 1]\n",
    "\n",
    "x = ds.geolon_c.values[yq,:][:,xq]\n",
    "y = ds.geolat_c.values[yq,:][:,xq]\n",
    "\n",
    "# Get colormap\n",
    "cmap, norm, boundaries = gen_levs_and_cmap(-4.5,4.75,0.25)\n",
    "\n",
    "fig = plt.figure(figsize=(10,4))\n",
    "ax = plt.subplot(1,1,1, facecolor=\"lightgray\", projection=ccrs.Miller(central_longitude=-85))\n",
    "cb = ax.pcolormesh(x,y,_model-_obs,transform=ccrs.PlateCarree(), cmap=cmap, norm=norm)\n",
    "ax.coastlines()\n",
    "\n",
    "# Clean up figure and add labels\n",
    "set_annotaions(ax)\n",
    "\n",
    "# Add statistics\n",
    "stats, stats_str = calculate_stats(_model, _obs, _model.areacello)\n",
    "add_stats_box(ax, stats_str, x=0.7, y=0.98)\n",
    "\n",
    "# Add colorbar\n",
    "add_colorbar(fig, cb, boundaries)\n",
    "\n",
    "# Save stats\n",
    "stats_dict[\"results\"][\"offthe_WestCoastSouthAmerica\"] = stats"
   ],
   "outputs": [],
   "execution_count": null
  },
  {
   "cell_type": "markdown",
   "id": "bcbf6a10-8c18-42e9-9e36-fbd8f8b63828",
   "metadata": {},
   "source": [
    "### Carribbean region"
   ]
  },
  {
   "metadata": {},
   "cell_type": "code",
   "source": [
    "xrange = (-90.,-60.)\n",
    "yrange = (5.,30.)\n",
    "\n",
    "_model = momgrid.geoslice.geoslice(model,x=xrange,y=yrange)\n",
    "_obs = momgrid.geoslice.geoslice(obs,x=xrange,y=yrange)\n",
    "\n",
    "xq = list((_model.xh.values - 0.5).astype(int))\n",
    "yq = list((_model.yh.values - 0.5).astype(int))\n",
    "\n",
    "xq = xq + [xq[-1] + 1]\n",
    "yq = yq + [yq[-1] + 1]\n",
    "\n",
    "x = ds.geolon_c.values[yq,:][:,xq]\n",
    "y = ds.geolat_c.values[yq,:][:,xq]\n",
    "\n",
    "# Get colormap\n",
    "cmap, norm, boundaries = gen_levs_and_cmap(-4.5,4.75,0.25)\n",
    "\n",
    "fig = plt.figure(figsize=(10,4))\n",
    "ax = plt.subplot(1,1,1, facecolor=\"lightgray\", projection=ccrs.Miller(central_longitude=-60))\n",
    "cb = ax.pcolormesh(x,y,_model-_obs,transform=ccrs.PlateCarree(), cmap=cmap, norm=norm)\n",
    "ax.coastlines()\n",
    "\n",
    "# Clean up figure and add labels\n",
    "set_annotaions(ax)\n",
    "\n",
    "# Add statistics\n",
    "stats, stats_str = calculate_stats(_model, _obs, _model.areacello)\n",
    "add_stats_box(ax, stats_str, x=0.65, y=0.21)\n",
    "\n",
    "# Add colorbar\n",
    "add_colorbar(fig, cb, boundaries)\n",
    "\n",
    "# Save stats\n",
    "stats_dict[\"results\"][\"Carribbean\"] = stats"
   ],
   "id": "4ace0276-687d-45af-9dea-bc266f31f0a8",
   "outputs": [],
   "execution_count": null
  },
  {
   "cell_type": "markdown",
   "id": "b6d78292-72df-488d-a638-0628000cc7d3",
   "metadata": {},
   "source": [
    "### Write Stats to a File"
   ]
  },
  {
   "cell_type": "code",
   "id": "53578224-09ad-4f27-b203-e2464682ff4f",
   "metadata": {},
   "source": [
    "if not \"DORA_EXECUTE\" in os.environ.keys():\n",
    "    import yaml\n",
    "    yml = yaml.dump(stats_dict)\n",
    "    with open('oisst_stats.yaml', 'w') as file:\n",
    "        file.write(yml)\n",
    "    file.close()\n",
    "    print(yml)"
   ],
   "outputs": [],
   "execution_count": null
  }
 ],
 "metadata": {
  "kernelspec": {
   "display_name": "Python 3 (ipykernel)",
   "language": "python",
   "name": "python3"
  },
  "language_info": {
   "codemirror_mode": {
    "name": "ipython",
    "version": 3
   },
   "file_extension": ".py",
   "mimetype": "text/x-python",
   "name": "python",
   "nbconvert_exporter": "python",
   "pygments_lexer": "ipython3",
   "version": "3.11.6"
  }
 },
 "nbformat": 4,
 "nbformat_minor": 5
}
